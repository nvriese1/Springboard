{
 "cells": [
  {
   "cell_type": "markdown",
   "id": "a454c0e0",
   "metadata": {},
   "source": [
    "# Springboard API Mini-Project"
   ]
  },
  {
   "cell_type": "markdown",
   "id": "bbef4a09",
   "metadata": {},
   "source": [
    "Questions addressed in this project:\n",
    "\n",
    "1. Collect data from the Franfurt Stock Exchange, for the ticker AFX_X, for the whole year 2017 (keep in mind that the date format is YYYY-MM-DD).\n",
    "\n",
    "2. Convert the returned JSON object into a Python dictionary.\n",
    "\n",
    "3. Calculate what the highest and lowest opening prices were for the stock in this period.\n",
    "\n",
    "4. What was the largest change in any one day (based on High and Low price)?\n",
    "\n",
    "5. What was the largest change between any two days (based on Closing Price)?\n",
    "\n",
    "6. What was the average daily trading volume during this year?\n",
    "\n",
    "7. (Optional) What was the median trading volume during this year. (Note: you may need to implement your own function for calculating the median.)"
   ]
  },
  {
   "cell_type": "markdown",
   "id": "1f87ec49",
   "metadata": {},
   "source": [
    "Import relevant Python packages for computations"
   ]
  },
  {
   "cell_type": "code",
   "execution_count": 255,
   "id": "6ffecda9",
   "metadata": {},
   "outputs": [],
   "source": [
    "# Import relevant packages\n",
    "import os, requests, json\n",
    "from dotenv import load_dotenv\n",
    "import matplotlib.pyplot as plt\n",
    "from statistics import mean, median, mode, stdev"
   ]
  },
  {
   "cell_type": "markdown",
   "id": "6d3a4dc2",
   "metadata": {},
   "source": [
    "Get the API Key from the .env file in the current directory"
   ]
  },
  {
   "cell_type": "code",
   "execution_count": 265,
   "id": "1cec7ec2",
   "metadata": {},
   "outputs": [],
   "source": [
    "# Get API Key from .env file\n",
    "load_dotenv()\n",
    "API_KEY = os.getenv('NASDAQ_API_KEY')\n",
    "\n",
    "# Print the API key (line removed prior to upload)\n",
    "# print(API_KEY)"
   ]
  },
  {
   "cell_type": "markdown",
   "id": "78d7222c",
   "metadata": {},
   "source": [
    "Question 1: Collect data from the Franfurt Stock Exchange, for the ticker AFX_X, for the whole year 2017 (keep in mind that the date format is YYYY-MM-DD)."
   ]
  },
  {
   "cell_type": "code",
   "execution_count": 257,
   "id": "3a66de2f",
   "metadata": {},
   "outputs": [
    {
     "name": "stdout",
     "output_type": "stream",
     "text": [
      "<class 'requests.models.Response'>\n"
     ]
    }
   ],
   "source": [
    "# Get data from Frankfurt Stock Exchange (FSE) for AFX_X for all of 2017\n",
    "\n",
    "# Set query parameters\n",
    "database_code = 'FSE'\n",
    "dataset_code = 'AFX_X'\n",
    "return_format = 'json'\n",
    "start_date = \"2017-01-01\"\n",
    "end_date = \"2017-12-31\"\n",
    "transform = \"none\"\n",
    "column_index = \"\"\n",
    "column_names = ['Date', 'Open', 'High', 'Low', 'Close', 'Change', 'Traded Volume', 'Turnover', 'Last Price of the Day', 'Daily Traded Units', 'Daily Turnover']\n",
    "frequency = \"daily\"\n",
    "\n",
    "# Execute API call\n",
    "url = f\"https://data.nasdaq.com/api/v3/datasets/{database_code}/{dataset_code}/data.{return_format}?start_date={start_date}&end_date={end_date}&column_names={column_names}&collapse={frequency}&transform={transform}&api_key={API_KEY}\"\n",
    "r = requests.get(url)\n",
    "\n",
    "# Note the type of the returned request ('requests.models.Response')\n",
    "print(type(r))"
   ]
  },
  {
   "cell_type": "markdown",
   "id": "39ae3f43",
   "metadata": {},
   "source": [
    "Question 2: Convert the returned JSON object into a Python dictionary."
   ]
  },
  {
   "cell_type": "code",
   "execution_count": 258,
   "id": "4d275294",
   "metadata": {},
   "outputs": [
    {
     "name": "stdout",
     "output_type": "stream",
     "text": [
      "<class 'dict'>\n"
     ]
    }
   ],
   "source": [
    "# Convert the response to a Python dictionary\n",
    "AFX_2017 = r.json()\n",
    "\n",
    "# Note the type of the returned JSON object (Dict)\n",
    "print(type(AFX_2017))"
   ]
  },
  {
   "cell_type": "markdown",
   "id": "d533462e",
   "metadata": {},
   "source": [
    "Question 3: Calculate what the highest and lowest opening prices were for the stock in this period."
   ]
  },
  {
   "cell_type": "code",
   "execution_count": 259,
   "id": "a2233dfa",
   "metadata": {},
   "outputs": [
    {
     "name": "stdout",
     "output_type": "stream",
     "text": [
      "The maximum opening price of Carl Zeiss Meditec stock during 2017 was $53.11, \n",
      "the minimum opening price was $34.0.\n"
     ]
    }
   ],
   "source": [
    "# Index dictionary for relevant data and set to data_2017\n",
    "data_2017 = AFX_2017['dataset_data']['data']\n",
    "\n",
    "# Create empty lists to iterate upon\n",
    "AFX_prices = []\n",
    "trading_dates = []\n",
    "\n",
    "# Iterate through trading data\n",
    "for item in data_2017:\n",
    "    # Filter out missing values\n",
    "    if item[1] !=  None:\n",
    "        # Collect opening prices and trading dates for each date\n",
    "        price = item[1]\n",
    "        trading_date = item[0]\n",
    "        # Append the price and date to the empty lists\n",
    "        AFX_prices.append(price)\n",
    "        trading_dates.append(trading_date)\n",
    "\n",
    "# Print output\n",
    "Q3_output = 'The maximum opening price of Carl Zeiss Meditec stock during 2017 was ${}, \\\n",
    "\\nthe minimum opening price was ${}.'.format(max(AFX_prices),min(AFX_prices)) \n",
    "print(Q3_output)"
   ]
  },
  {
   "cell_type": "markdown",
   "id": "a1aafc95",
   "metadata": {},
   "source": [
    "Question 4: What was the largest change in any one day (based on High and Low price)?"
   ]
  },
  {
   "cell_type": "code",
   "execution_count": 260,
   "id": "ad16c35b",
   "metadata": {},
   "outputs": [
    {
     "name": "stdout",
     "output_type": "stream",
     "text": [
      "The largest one day change in the price of Carl Zeiss Meditec stock during 2017 was $2.81, this occurred on 2017-05-11.\n"
     ]
    }
   ],
   "source": [
    "# Create empty lists to iterate upon\n",
    "AFX_oneday_changes = []\n",
    "daily_dates = []\n",
    "\n",
    "# Iterate through trading data\n",
    "for item in data_2017:\n",
    "    # Filter out missing values\n",
    "    if (item[2] !=  None) & (item[3] !=  None):\n",
    "        # Calculate daily change based on the difference in high and low price\n",
    "        daily_change = abs(item[2]-item[3])\n",
    "        # Collect relevant dates\n",
    "        date = item[0]\n",
    "        # Append the change and date to the empty lists\n",
    "        AFX_oneday_changes.append(daily_change)\n",
    "        daily_dates.append(date)\n",
    "\n",
    "# Calculate and clean the maximum daily difference result\n",
    "max_oneday_diff = round(max(AFX_oneday_changes), 4) \n",
    "# Find the day the maximum difference occured via index\n",
    "max_oneday_diff_date = daily_dates[AFX_oneday_changes.index(max(AFX_oneday_changes))]\n",
    "\n",
    "# Print output\n",
    "Q4_output = 'The largest one day change in the price of Carl Zeiss Meditec stock \\\n",
    "during 2017 was ${}, this occurred on {}.'.format(max_oneday_diff, max_oneday_diff_date) \n",
    "print(Q4_output)"
   ]
  },
  {
   "cell_type": "markdown",
   "id": "49b29886",
   "metadata": {},
   "source": [
    "Question 5: What was the largest change between any two days (based on Closing Price)?"
   ]
  },
  {
   "cell_type": "code",
   "execution_count": 261,
   "id": "db1e135f",
   "metadata": {},
   "outputs": [
    {
     "name": "stdout",
     "output_type": "stream",
     "text": [
      "The largest two day change in the price of Carl Zeiss Meditec stock during 2017 was $2.56, this occurred between 2017-08-08 and 2017-08-09.\n"
     ]
    }
   ],
   "source": [
    "# Create empty lists to iterate upon\n",
    "AFX_closing_prices = []\n",
    "AFX_twoday_changes =[]\n",
    "\n",
    "# Iterate through trading data \n",
    "for item in data_2017:\n",
    "    # Filter out missing values\n",
    "    if item[4] !=  None:\n",
    "        # Collect the daily closing price\n",
    "        closing_price = item[4]\n",
    "        # Append the closing price to the empty list\n",
    "        AFX_closing_prices.append(closing_price)\n",
    "\n",
    "# Iterate through closing prices \n",
    "for i in range(0,len(AFX_closing_prices),1):\n",
    "    # Filter for all closing prices except the last\n",
    "    if i < len(AFX_closing_prices)-1:\n",
    "        # Calculate the absolute change in closing price from the previous day and append to the list\n",
    "        AFX_twoday_changes.append(abs(AFX_closing_prices[i]-AFX_closing_prices[i+1]))\n",
    "\n",
    "# Calculate the maximum difference in closing price and which dates it occurred between via index\n",
    "max_twoday_diff = round(max(AFX_twoday_changes), 4) \n",
    "max_twoday_diff_start = daily_dates[AFX_twoday_changes.index(max(AFX_twoday_changes))] \n",
    "max_twoday_diff_end = daily_dates[AFX_twoday_changes.index(max(AFX_twoday_changes))+1]      \n",
    "\n",
    "# Print output\n",
    "Q5_output = 'The largest two day change in the price of Carl Zeiss Meditec stock \\\n",
    "during 2017 was ${}, this occurred between {} and {}.'.format(max_twoday_diff, \\\n",
    "                                                              max_twoday_diff_end, max_twoday_diff_start ) \n",
    "print(Q5_output)\n"
   ]
  },
  {
   "cell_type": "markdown",
   "id": "3a1a6e0c",
   "metadata": {},
   "source": [
    "Question 6: What was the average daily trading volume during this year?"
   ]
  },
  {
   "cell_type": "code",
   "execution_count": 262,
   "id": "e5027810",
   "metadata": {},
   "outputs": [
    {
     "name": "stdout",
     "output_type": "stream",
     "text": [
      "The average daily trading volume of Carl Zeiss Meditec stock during 2017 was 86348.0 shares.\n"
     ]
    }
   ],
   "source": [
    "# Create an empty list to iterate upon\n",
    "AFX_daily_volume = []\n",
    "\n",
    "# Iterate through trading data\n",
    "for item in data_2017:\n",
    "    # Filter out missing values\n",
    "    if item[5] !=  None:\n",
    "        # Collect the daily trading volume\n",
    "        daily_volume = item[6]\n",
    "        # Append the daily trading volume to the empty list\n",
    "        AFX_daily_volume.append(daily_volume)    \n",
    "\n",
    "# Calcualte the mean, or average daily trading volume\n",
    "avg_daily_volume = mean(AFX_daily_volume)\n",
    "print('The average daily trading volume of Carl Zeiss Meditec stock during 2017 was {} shares.'.format(avg_daily_volume))"
   ]
  },
  {
   "cell_type": "markdown",
   "id": "83e3f3e0",
   "metadata": {},
   "source": [
    "Question 7: (Optional) What was the median trading volume during this year?"
   ]
  },
  {
   "cell_type": "code",
   "execution_count": 263,
   "id": "cd3c2c54",
   "metadata": {},
   "outputs": [
    {
     "name": "stdout",
     "output_type": "stream",
     "text": [
      "The median daily trading volume of Carl Zeiss Meditec stock during 2017 was 86348.0 shares.\n"
     ]
    }
   ],
   "source": [
    "# Using the volume list from the previous step, calcualte the median daily trading volume\n",
    "median_daily_volume = median(AFX_daily_volume)\n",
    "print('The median daily trading volume of Carl Zeiss Meditec stock during 2017 was {} shares.'.format(median_daily_volume))"
   ]
  },
  {
   "cell_type": "markdown",
   "id": "d8de41d7",
   "metadata": {},
   "source": [
    "Visualization: Plot timeseries of Carl Zeiss Meditec stock price for the year 2017."
   ]
  },
  {
   "cell_type": "code",
   "execution_count": 264,
   "id": "18223e49",
   "metadata": {},
   "outputs": [
    {
     "data": {
      "image/png": "[encoded data removed]",
      "text/plain": [
       "<Figure size 864x432 with 1 Axes>"
      ]
     },
     "metadata": {
      "needs_background": "light"
     },
     "output_type": "display_data"
    }
   ],
   "source": [
    "# Create figure and plot\n",
    "fig = plt.subplots(figsize=(12, 6))\n",
    "# Plot every 30th date on the x-axis for cleaner visualization\n",
    "plt.xticks(np.arange(0, len(x)+1, 30))\n",
    "# Reverse the order of the dates and values for correct plotting\n",
    "plt.plot(trading_dates[::-1], AFX_prices[::-1])\n",
    "plt.title('Carl Zeiss Meditec Stock Price (2017)')\n",
    "plt.xticks(rotation = 45)\n",
    "plt.xlabel('Date YYYY-MM-DD')\n",
    "plt.ylabel('Price ($)')\n",
    "plt.show()"
   ]
  },
  {
   "cell_type": "code",
   "execution_count": null,
   "id": "d80d15a3",
   "metadata": {},
   "outputs": [],
   "source": []
  }
 ],
 "metadata": {
  "kernelspec": {
   "display_name": "Python 3 (ipykernel)",
   "language": "python",
   "name": "python3"
  },
  "language_info": {
   "codemirror_mode": {
    "name": "ipython",
    "version": 3
   },
   "file_extension": ".py",
   "mimetype": "text/x-python",
   "name": "python",
   "nbconvert_exporter": "python",
   "pygments_lexer": "ipython3",
   "version": "3.9.7"
  }
 },
 "nbformat": 4,
 "nbformat_minor": 5
}
