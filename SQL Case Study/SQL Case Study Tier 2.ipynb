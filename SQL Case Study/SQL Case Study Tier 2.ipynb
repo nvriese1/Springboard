{
 "cells": [
  {
   "cell_type": "code",
   "execution_count": 10,
   "id": "26a812b9",
   "metadata": {},
   "outputs": [],
   "source": [
    "import sqlite3\n",
    "from sqlite3 import Error\n",
    "import pandas as pd"
   ]
  },
  {
   "cell_type": "code",
   "execution_count": 46,
   "id": "9541f304",
   "metadata": {},
   "outputs": [],
   "source": [
    "db_file = \"sqlite_db_pythonsqlite.db\"    "
   ]
  },
  {
   "cell_type": "code",
   "execution_count": 55,
   "id": "fd7f79b5",
   "metadata": {},
   "outputs": [
    {
     "name": "stdout",
     "output_type": "stream",
     "text": [
      "            name  revenue\n",
      "0   Table Tennis      180\n",
      "1  Snooker Table      240\n",
      "2     Pool Table      270\n"
     ]
    }
   ],
   "source": [
    "# Q10: Produce a list of facilities with a total revenue less than 1000.\n",
    "# The output of facility name and total revenue, sorted by revenue. Remember\n",
    "# that there's a different cost for guests and members! \n",
    "\n",
    "query10 = \"SELECT name, revenue FROM ( SELECT fc.name, SUM(CASE WHEN memid = 0 THEN slots*fc.guestcost ELSE slots*fc.membercost END) AS revenue FROM Bookings AS bk INNER JOIN Facilities AS fc ON bk.facid = fc.facid GROUP BY fc.name) AS AGG WHERE revenue < 1000 ORDER BY revenue\"\n",
    "\n",
    "conn = sqlite3.connect(db_file)\n",
    "\n",
    "cur = conn.cursor()\n",
    "cur.execute(query10)\n",
    "rows = cur.fetchall()\n",
    "    \n",
    "df10 = pd.read_sql_query(query10, conn)\n",
    "print(df10)\n"
   ]
  },
  {
   "cell_type": "code",
   "execution_count": 58,
   "id": "385abc60",
   "metadata": {},
   "outputs": [
    {
     "name": "stdout",
     "output_type": "stream",
     "text": [
      "     surname  firstname recommendedby            surname  firstname\n",
      "0      Bader   Florence            15             Sarwin  Ramnaresh\n",
      "1      Baker    Timothy            16             Coplin       Joan\n",
      "2    Butters     Gerald             5            Genting    Matthew\n",
      "3    Farrell     Jemima            13              Baker    Timothy\n",
      "4    Farrell     Jemima            13             Pinker      David\n",
      "5    Genting    Matthew            20             Rumney  Henrietta\n",
      "6      Jones      David            11              Jones    Douglas\n",
      "7   Joplette     Janice             4               Dare      Nancy\n",
      "8   Joplette     Janice             4              Jones      David\n",
      "9    Purview  Millicent            30               Hunt       John\n",
      "10    Rownam        Tim             3             Boothe        Tim\n",
      "11     Smith     Darren             1           Joplette     Janice\n",
      "12     Smith     Darren             1            Butters     Gerald\n",
      "13     Smith     Darren             1               Owen    Charles\n",
      "14     Smith     Darren             1              Smith       Jack\n",
      "15     Smith     Darren             1          Mackenzie       Anna\n",
      "16     Smith      Tracy             2  Worthington-Smyth      Henry\n",
      "17     Smith      Tracy             2            Purview  Millicent\n",
      "18     Smith      Tracy             2            Crumpet      Erica\n",
      "19  Stibbons     Ponder             9              Baker       Anne\n",
      "20  Stibbons     Ponder             9              Bader   Florence\n",
      "21     Tracy     Burton             6           Stibbons     Ponder\n"
     ]
    }
   ],
   "source": [
    "# Q11: Produce a report of members and who recommended them in alphabetic surname, firstname order\n",
    "\n",
    "query11 = \"SELECT m.surname, m.firstname, p.recommendedby, p.surname, p.firstname FROM Members AS m LEFT JOIN Members AS p ON p.recommendedby = m.memid WHERE p.recommendedby != 0 ORDER BY m.surname, m.firstname\"\n",
    "\n",
    "cur = conn.cursor()\n",
    "cur.execute(query11)\n",
    "rows = cur.fetchall()\n",
    "    \n",
    "df11 = pd.read_sql_query(query11, conn)\n",
    "print(df11)\n"
   ]
  },
  {
   "cell_type": "code",
   "execution_count": 64,
   "id": "426efbeb",
   "metadata": {},
   "outputs": [
    {
     "name": "stdout",
     "output_type": "stream",
     "text": [
      "              name  Facility_Usage\n",
      "0   Tennis Court 1             308\n",
      "1   Tennis Court 2             276\n",
      "2  Badminton Court             344\n",
      "3     Table Tennis             385\n",
      "4   Massage Room 1             421\n",
      "5   Massage Room 2              27\n",
      "6     Squash Court             195\n",
      "7    Snooker Table             421\n",
      "8       Pool Table             783\n"
     ]
    }
   ],
   "source": [
    "# Q12: Find the facilities with their usage by member, but not guests\n",
    "\n",
    "query12 = \"SELECT f.name, COUNT(sub.memid) AS Facility_Usage FROM (SELECT facid, memid FROM Bookings WHERE memid != 0) AS sub LEFT JOIN Facilities AS f ON sub.facid = f.facid GROUP BY sub.facid\"\n",
    "\n",
    "cur = conn.cursor()\n",
    "cur.execute(query12)\n",
    "rows = cur.fetchall()\n",
    "    \n",
    "df12 = pd.read_sql_query(query12, conn)\n",
    "print(df12)\n",
    "\n"
   ]
  },
  {
   "cell_type": "code",
   "execution_count": 74,
   "id": "03342ed9",
   "metadata": {},
   "outputs": [
    {
     "name": "stdout",
     "output_type": "stream",
     "text": [
      "             name  Facility_Usage month\n",
      "0    Table Tennis             480    07\n",
      "1  Tennis Court 1            1168    08\n",
      "2  Tennis Court 1            1512    09\n"
     ]
    }
   ],
   "source": [
    "# Q13: Find the facilities usage by month, but not guests\n",
    "\n",
    "query13 = \"SELECT f.name, COUNT(sub.memid) AS Facility_Usage, month FROM (SELECT facid, memid, strftime('%m', starttime) AS month FROM Bookings WHERE memid != 0) AS sub LEFT JOIN Facilities AS f ON sub.facid = f.facid GROUP BY month;\"\n",
    "\n",
    "\n",
    "cur = conn.cursor()\n",
    "cur.execute(query13)\n",
    "rows = cur.fetchall()\n",
    "    \n",
    "df13 = pd.read_sql_query(query13, conn)\n",
    "print(df13)\n",
    "\n"
   ]
  },
  {
   "cell_type": "code",
   "execution_count": null,
   "id": "47535a56",
   "metadata": {},
   "outputs": [],
   "source": []
  }
 ],
 "metadata": {
  "kernelspec": {
   "display_name": "Python 3 (ipykernel)",
   "language": "python",
   "name": "python3"
  },
  "language_info": {
   "codemirror_mode": {
    "name": "ipython",
    "version": 3
   },
   "file_extension": ".py",
   "mimetype": "text/x-python",
   "name": "python",
   "nbconvert_exporter": "python",
   "pygments_lexer": "ipython3",
   "version": "3.9.7"
  }
 },
 "nbformat": 4,
 "nbformat_minor": 5
}
