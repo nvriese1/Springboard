{
 "cells": [
  {
   "cell_type": "code",
   "execution_count": null,
   "id": "234e360b",
   "metadata": {},
   "outputs": [],
   "source": [
    "var_a = 2\n",
    "var_b = 7\n",
    "\n",
    "sum_a = var_a + var_b"
   ]
  }
 ],
 "metadata": {
  "kernelspec": {
   "display_name": "Python 3 (ipykernel)",
   "language": "python",
   "name": "python3"
  },
  "language_info": {
   "codemirror_mode": {
    "name": "ipython",
    "version": 3
   },
   "file_extension": ".py",
   "mimetype": "text/x-python",
   "name": "python",
   "nbconvert_exporter": "python",
   "pygments_lexer": "ipython3",
   "version": "3.9.7"
  }
 },
 "nbformat": 4,
 "nbformat_minor": 5
}
