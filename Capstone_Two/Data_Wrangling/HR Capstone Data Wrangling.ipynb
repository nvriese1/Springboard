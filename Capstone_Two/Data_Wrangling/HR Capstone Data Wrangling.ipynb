{
 "cells": [
  {
   "cell_type": "markdown",
   "id": "8c76920e",
   "metadata": {},
   "source": [
    "We can start by importing the packages we'll be using in this exploration."
   ]
  },
  {
   "cell_type": "code",
   "execution_count": 1,
   "id": "bbbfdd7c",
   "metadata": {},
   "outputs": [],
   "source": [
    "# Import relevant packages\n",
    "import os\n",
    "import pandas as pd"
   ]
  },
  {
   "cell_type": "markdown",
   "id": "aa75c57b",
   "metadata": {},
   "source": [
    "Next, lets load in our dataset from Kaggle. It consists of 6 files, which we will import as DataFrames from their respective filetypes."
   ]
  },
  {
   "cell_type": "code",
   "execution_count": 2,
   "id": "0f7c3f20",
   "metadata": {},
   "outputs": [],
   "source": [
    "# Load HR data sourced from Kaggle \n",
    "# Source: https://www.kaggle.com/datasets/vjchoudhary7/hr-analytics-case-study\n",
    "\n",
    "data_dictionary = pd.read_excel('data_dictionary.xlsx')\n",
    "emp_survey = pd.read_csv('employee_survey_data.csv')\n",
    "man_survey = pd.read_csv('manager_survey_data.csv')\n",
    "in_time = pd.read_csv('in_time.csv')\n",
    "out_time = pd.read_csv('out_time.csv')\n",
    "gen_data = pd.read_csv('general_data.csv')"
   ]
  },
  {
   "cell_type": "markdown",
   "id": "c8149326",
   "metadata": {},
   "source": [
    "Let's check out the largest of these DataFrames, 'gen_data'."
   ]
  },
  {
   "cell_type": "code",
   "execution_count": 3,
   "id": "332e0d47",
   "metadata": {},
   "outputs": [
    {
     "name": "stdout",
     "output_type": "stream",
     "text": [
      "<class 'pandas.core.frame.DataFrame'>\n",
      "RangeIndex: 4410 entries, 0 to 4409\n",
      "Data columns (total 24 columns):\n",
      " #   Column                   Non-Null Count  Dtype  \n",
      "---  ------                   --------------  -----  \n",
      " 0   Age                      4410 non-null   int64  \n",
      " 1   Attrition                4410 non-null   object \n",
      " 2   BusinessTravel           4410 non-null   object \n",
      " 3   Department               4410 non-null   object \n",
      " 4   DistanceFromHome         4410 non-null   int64  \n",
      " 5   Education                4410 non-null   int64  \n",
      " 6   EducationField           4410 non-null   object \n",
      " 7   EmployeeCount            4410 non-null   int64  \n",
      " 8   EmployeeID               4410 non-null   int64  \n",
      " 9   Gender                   4410 non-null   object \n",
      " 10  JobLevel                 4410 non-null   int64  \n",
      " 11  JobRole                  4410 non-null   object \n",
      " 12  MaritalStatus            4410 non-null   object \n",
      " 13  MonthlyIncome            4410 non-null   int64  \n",
      " 14  NumCompaniesWorked       4391 non-null   float64\n",
      " 15  Over18                   4410 non-null   object \n",
      " 16  PercentSalaryHike        4410 non-null   int64  \n",
      " 17  StandardHours            4410 non-null   int64  \n",
      " 18  StockOptionLevel         4410 non-null   int64  \n",
      " 19  TotalWorkingYears        4401 non-null   float64\n",
      " 20  TrainingTimesLastYear    4410 non-null   int64  \n",
      " 21  YearsAtCompany           4410 non-null   int64  \n",
      " 22  YearsSinceLastPromotion  4410 non-null   int64  \n",
      " 23  YearsWithCurrManager     4410 non-null   int64  \n",
      "dtypes: float64(2), int64(14), object(8)\n",
      "memory usage: 827.0+ KB\n",
      "None\n"
     ]
    }
   ],
   "source": [
    "# Print info\n",
    "print(gen_data.info())"
   ]
  },
  {
   "cell_type": "markdown",
   "id": "2e0b3667",
   "metadata": {},
   "source": [
    "Let's also take a look at the metadata file to make sure we understand what the 'gen_data' columns are referencing."
   ]
  },
  {
   "cell_type": "code",
   "execution_count": 4,
   "id": "1c644c69",
   "metadata": {},
   "outputs": [
    {
     "name": "stdout",
     "output_type": "stream",
     "text": [
      "                    Variable  \\\n",
      "0                        Age   \n",
      "1                  Attrition   \n",
      "2             BusinessTravel   \n",
      "3                 Department   \n",
      "4           DistanceFromHome   \n",
      "5                  Education   \n",
      "6                        NaN   \n",
      "7                        NaN   \n",
      "8                        NaN   \n",
      "9                        NaN   \n",
      "10            EducationField   \n",
      "11             EmployeeCount   \n",
      "12            EmployeeNumber   \n",
      "13   EnvironmentSatisfaction   \n",
      "14                       NaN   \n",
      "15                       NaN   \n",
      "16                       NaN   \n",
      "17                    Gender   \n",
      "18            JobInvolvement   \n",
      "19                       NaN   \n",
      "20                       NaN   \n",
      "21                       NaN   \n",
      "22                  JobLevel   \n",
      "23                   JobRole   \n",
      "24           JobSatisfaction   \n",
      "25                       NaN   \n",
      "26                       NaN   \n",
      "27                       NaN   \n",
      "28             MaritalStatus   \n",
      "29             MonthlyIncome   \n",
      "30        NumCompaniesWorked   \n",
      "31                    Over18   \n",
      "32         PercentSalaryHike   \n",
      "33         PerformanceRating   \n",
      "34                       NaN   \n",
      "35                       NaN   \n",
      "36                       NaN   \n",
      "37  RelationshipSatisfaction   \n",
      "38                       NaN   \n",
      "39                       NaN   \n",
      "40                       NaN   \n",
      "41             StandardHours   \n",
      "42          StockOptionLevel   \n",
      "43         TotalWorkingYears   \n",
      "44     TrainingTimesLastYear   \n",
      "45           WorkLifeBalance   \n",
      "46                       NaN   \n",
      "47                       NaN   \n",
      "48                       NaN   \n",
      "49            YearsAtCompany   \n",
      "50   YearsSinceLastPromotion   \n",
      "51      YearsWithCurrManager   \n",
      "\n",
      "                                              Meaning             Levels  \n",
      "0                                 Age of the employee                NaN  \n",
      "1   Whether the employee left in the previous year...                NaN  \n",
      "2   How frequently the employees travelled for bus...                NaN  \n",
      "3                               Department in company                NaN  \n",
      "4                           Distance from home in kms                NaN  \n",
      "5                                     Education Level  1 'Below College'  \n",
      "6                                                 NaN        2 'College'  \n",
      "7                                                 NaN       3 'Bachelor'  \n",
      "8                                                 NaN         4 'Master'  \n",
      "9                                                 NaN         5 'Doctor'  \n",
      "10                                 Field of education                NaN  \n",
      "11                                     Employee count                NaN  \n",
      "12                                 Employee number/id                NaN  \n",
      "13                Work Environment Satisfaction Level            1 'Low'  \n",
      "14                                                NaN         2 'Medium'  \n",
      "15                                                NaN           3 'High'  \n",
      "16                                                NaN      4 'Very High'  \n",
      "17                                 Gender of employee                NaN  \n",
      "18                              Job Involvement Level            1 'Low'  \n",
      "19                                                NaN         2 'Medium'  \n",
      "20                                                NaN           3 'High'  \n",
      "21                                                NaN      4 'Very High'  \n",
      "22          Job level at company on a scale of 1 to 5                NaN  \n",
      "23                        Name of job role in company                NaN  \n",
      "24                             Job Satisfaction Level            1 'Low'  \n",
      "25                                                NaN         2 'Medium'  \n",
      "26                                                NaN           3 'High'  \n",
      "27                                                NaN      4 'Very High'  \n",
      "28                     Marital status of the employee                NaN  \n",
      "29                 Monthly income in rupees per month                NaN  \n",
      "30  Total number of companies the employee has wor...                NaN  \n",
      "31  Whether the employee is above 18 years of age ...                NaN  \n",
      "32                  Percent salary hike for last year                NaN  \n",
      "33                   Performance rating for last year            1 'Low'  \n",
      "34                                                NaN           2 'Good'  \n",
      "35                                                NaN      3 'Excellent'  \n",
      "36                                                NaN    4 'Outstanding'  \n",
      "37                    Relationship satisfaction level            1 'Low'  \n",
      "38                                                NaN         2 'Medium'  \n",
      "39                                                NaN           3 'High'  \n",
      "40                                                NaN      4 'Very High'  \n",
      "41            Standard hours of work for the employee                NaN  \n",
      "42                 Stock option level of the employee                NaN  \n",
      "43  Total number of years the employee has worked ...                NaN  \n",
      "44  Number of times training was conducted for thi...                NaN  \n",
      "45                            Work life balance level            1 'Bad'  \n",
      "46                                                NaN           2 'Good'  \n",
      "47                                                NaN         3 'Better'  \n",
      "48                                                NaN           4 'Best'  \n",
      "49  Total number of years spent at the company by ...                NaN  \n",
      "50               Number of years since last promotion                NaN  \n",
      "51              Number of years under current manager                NaN  \n"
     ]
    }
   ],
   "source": [
    "# Print metadata\n",
    "print(data_dictionary)"
   ]
  },
  {
   "cell_type": "markdown",
   "id": "0b230c6a",
   "metadata": {},
   "source": [
    "Now we can begin with some housekeeping: lets save a copy of the raw general dataframe for later reference, and also set a common index between DataFrames where possible."
   ]
  },
  {
   "cell_type": "code",
   "execution_count": 5,
   "id": "502f3f2d",
   "metadata": {},
   "outputs": [],
   "source": [
    "# Save a copy of the original dataframe for later reference\n",
    "gen_data_orig = gen_data.copy()\n",
    "\n",
    "# Set indexes to Employee ID\n",
    "gen_data = gen_data.set_index('EmployeeID')\n",
    "emp_survey = emp_survey.set_index('EmployeeID')\n",
    "man_survey = man_survey.set_index('EmployeeID')"
   ]
  },
  {
   "cell_type": "markdown",
   "id": "8e0a94fd",
   "metadata": {},
   "source": [
    "Focusing on the general HR DataFrame, lets do some initial cleaning tasks, like calculating the number of missing values for each column and removing records with missing values."
   ]
  },
  {
   "cell_type": "code",
   "execution_count": 6,
   "id": "c6b54fa4",
   "metadata": {},
   "outputs": [
    {
     "name": "stdout",
     "output_type": "stream",
     "text": [
      "Age                         0\n",
      "Attrition                   0\n",
      "BusinessTravel              0\n",
      "Department                  0\n",
      "DistanceFromHome            0\n",
      "Education                   0\n",
      "EducationField              0\n",
      "EmployeeCount               0\n",
      "Gender                      0\n",
      "JobLevel                    0\n",
      "JobRole                     0\n",
      "MaritalStatus               0\n",
      "MonthlyIncome               0\n",
      "NumCompaniesWorked         19\n",
      "Over18                      0\n",
      "PercentSalaryHike           0\n",
      "StandardHours               0\n",
      "StockOptionLevel            0\n",
      "TotalWorkingYears           9\n",
      "TrainingTimesLastYear       0\n",
      "YearsAtCompany              0\n",
      "YearsSinceLastPromotion     0\n",
      "YearsWithCurrManager        0\n",
      "dtype: int64\n",
      "Age                        0\n",
      "Attrition                  0\n",
      "BusinessTravel             0\n",
      "Department                 0\n",
      "DistanceFromHome           0\n",
      "Education                  0\n",
      "EducationField             0\n",
      "EmployeeCount              0\n",
      "Gender                     0\n",
      "JobLevel                   0\n",
      "JobRole                    0\n",
      "MaritalStatus              0\n",
      "MonthlyIncome              0\n",
      "NumCompaniesWorked         0\n",
      "Over18                     0\n",
      "PercentSalaryHike          0\n",
      "StandardHours              0\n",
      "StockOptionLevel           0\n",
      "TotalWorkingYears          0\n",
      "TrainingTimesLastYear      0\n",
      "YearsAtCompany             0\n",
      "YearsSinceLastPromotion    0\n",
      "YearsWithCurrManager       0\n",
      "dtype: int64\n"
     ]
    }
   ],
   "source": [
    "# Missing value counts for general data\n",
    "print(gen_data.isna().sum())\n",
    "\n",
    "# Remove records with missing values\n",
    "gen_data.dropna(subset=['NumCompaniesWorked','TotalWorkingYears'], inplace=True)\n",
    "\n",
    "# Reprint missing value counts to ensure removal of missing records\n",
    "print(gen_data.isna().sum())"
   ]
  },
  {
   "cell_type": "markdown",
   "id": "c7674326",
   "metadata": {},
   "source": [
    "Next, lets convert non-US units to those used in the United States."
   ]
  },
  {
   "cell_type": "code",
   "execution_count": 7,
   "id": "f552b9fb",
   "metadata": {},
   "outputs": [],
   "source": [
    "# Convert commute distance to miles (mi) from kilometers (km)\n",
    "gen_data['DistanceFromHome'] = gen_data['DistanceFromHome']*0.621371\n",
    "\n",
    "# Convert monthly income to United States Dollar (USD) from Indian Rupee (INR)\n",
    "gen_data['MonthlyIncome'] = gen_data['MonthlyIncome']*0.012900993 "
   ]
  },
  {
   "cell_type": "markdown",
   "id": "871b4f4a",
   "metadata": {},
   "source": [
    "Focusing now on the two timesheet DataFrames, lets again start with initial evaluation and cleaning tasks, like calculating the number of missing values for each column and removing holidays and weekends (dates in which all employees were not present at work)."
   ]
  },
  {
   "cell_type": "code",
   "execution_count": 8,
   "id": "20a770e5",
   "metadata": {},
   "outputs": [
    {
     "name": "stdout",
     "output_type": "stream",
     "text": [
      "Unnamed: 0       0\n",
      "2015-01-01    4410\n",
      "2015-01-02     209\n",
      "2015-01-05     206\n",
      "2015-01-06     228\n",
      "              ... \n",
      "2015-12-25    4410\n",
      "2015-12-28     234\n",
      "2015-12-29     230\n",
      "2015-12-30     265\n",
      "2015-12-31     213\n",
      "Length: 262, dtype: int64\n",
      "Unnamed: 0       0\n",
      "2015-01-01    4410\n",
      "2015-01-02     209\n",
      "2015-01-05     206\n",
      "2015-01-06     228\n",
      "              ... \n",
      "2015-12-25    4410\n",
      "2015-12-28     234\n",
      "2015-12-29     230\n",
      "2015-12-30     265\n",
      "2015-12-31     213\n",
      "Length: 262, dtype: int64\n"
     ]
    }
   ],
   "source": [
    "# --- WORKING WITH TIMESHEET DATA --- #\n",
    "\n",
    "# Missing value counts for timesheet data\n",
    "print(in_time.isna().sum())\n",
    "print(out_time.isna().sum())\n",
    "\n",
    "# Find working days and remove holidays\n",
    "in_time_workdays = in_time.T.dropna(how=\"all\")\n",
    "out_time_workdays  = out_time.T.dropna(how=\"all\")\n",
    "\n",
    "# Transpose the DataFrames for later manipulations\n",
    "in_time_workdays  = in_time_workdays.T\n",
    "out_time_workdays  = out_time_workdays.T\n",
    "\n",
    "# Drop irrelevant columns\n",
    "in_time_workdays = in_time_workdays.drop(labels=['Unnamed: 0'], axis=1)\n",
    "out_time_workdays = out_time_workdays.drop(labels=['Unnamed: 0'], axis=1)"
   ]
  },
  {
   "cell_type": "markdown",
   "id": "e7cbdc82",
   "metadata": {},
   "source": [
    "Now lets convert our in/out timesheet DataFrames to datetime objects for time calculation."
   ]
  },
  {
   "cell_type": "code",
   "execution_count": 9,
   "id": "86ef8873",
   "metadata": {},
   "outputs": [],
   "source": [
    "# Set columns to index\n",
    "workdays_cols  = in_time_workdays.columns\n",
    "\n",
    "# Convert datatype to datetime on 'in' timesheet DataFrame\n",
    "in_time_workdays[workdays_cols] = in_time_workdays[workdays_cols]\\\n",
    ".apply(pd.to_datetime, errors='coerce')\n",
    "\n",
    "# Convert datatype to datetime on 'out' timesheet DataFrame\n",
    "out_time_workdays[workdays_cols] = out_time_workdays[workdays_cols]\\\n",
    ".apply(pd.to_datetime, errors='coerce')"
   ]
  },
  {
   "cell_type": "markdown",
   "id": "9a214121",
   "metadata": {},
   "source": [
    "We can take advantage of the identical configuration of the 'in_time'/'out_time' DataFrames to evaluate the period worked each day by each employee via the .subtract() method. We can then clean the result by replacing missing days (days in which the employee did not clock in) with a timedelta value of 0 seconds."
   ]
  },
  {
   "cell_type": "code",
   "execution_count": 10,
   "id": "73a07af0",
   "metadata": {},
   "outputs": [],
   "source": [
    "# Calculate daily worked hours via subtraction\n",
    "hours_timedelta = out_time_workdays.subtract(in_time_workdays)\n",
    "\n",
    "# Replace NaT values with 0 for hours worked\n",
    "hours_timedelta = hours_timedelta.fillna(pd.Timedelta(seconds=0))"
   ]
  },
  {
   "cell_type": "markdown",
   "id": "fbd1511d",
   "metadata": {},
   "source": [
    "Next, we can calculate summary statistics over each employee's worked hours and rename our columns to reflect the calculations. "
   ]
  },
  {
   "cell_type": "code",
   "execution_count": 11,
   "id": "54f23ec9",
   "metadata": {},
   "outputs": [],
   "source": [
    "# Calculate summary statistics on hours worked\n",
    "hours_stats = hours_timedelta.T.agg(['mean','max','sum','std'])\n",
    "\n",
    "# Rename columns\n",
    "hours_stats = hours_stats.T\n",
    "hours_stats.columns = ['MeanHrsWorked', 'MaxHrsWorked', 'SumHrsWorked', 'StdHrsWorked']\n",
    "\n",
    "# Set the index to 'EmployeeID' column for later joining\n",
    "hours_stats = hours_stats.set_index(gen_data_orig['EmployeeID'])"
   ]
  },
  {
   "cell_type": "markdown",
   "id": "35c421c8",
   "metadata": {},
   "source": [
    "For easier calculations, we will now convert the timedelta values in our summary statistics DataFrame to floating point numbers in units of hours."
   ]
  },
  {
   "cell_type": "code",
   "execution_count": 12,
   "id": "13def986",
   "metadata": {},
   "outputs": [],
   "source": [
    "# Convert timedelta to time in hours\n",
    "for column in hours_stats:\n",
    "    hours_stats[column] = hours_stats[column].dt.total_seconds()/3600"
   ]
  },
  {
   "cell_type": "markdown",
   "id": "1dfa1b64",
   "metadata": {},
   "source": [
    "Back-tracking to the 'in_time' DataFrame, we can quickly calculate the number of sick days/vacation days taken by each employee. This is accomplished by summing the number of days in which the employee did not check in (value is NaT)."
   ]
  },
  {
   "cell_type": "code",
   "execution_count": 13,
   "id": "6a87d475",
   "metadata": {},
   "outputs": [],
   "source": [
    "# Initialize sick_days DataFrame\n",
    "sick_days = pd.DataFrame([])\n",
    "\n",
    "# Sum the number of days for each employee where no check-in time was recorded (NaT)\n",
    "sick_days['SickDays'] = in_time_workdays.T.isna().sum() \n",
    "\n",
    "# Set the index to the common 'EmployeeID' column for joining\n",
    "sick_days = sick_days.set_index(gen_data_orig['EmployeeID'])"
   ]
  },
  {
   "cell_type": "markdown",
   "id": "461d8825",
   "metadata": {},
   "source": [
    "Finally, lets inner-join the four cleaned DataFrames to form our final cleaned DataFrame for export."
   ]
  },
  {
   "cell_type": "code",
   "execution_count": 14,
   "id": "baad4966",
   "metadata": {},
   "outputs": [],
   "source": [
    "# Join the four cleaned DataFrames using an inner-join\n",
    "df = gen_data.merge(hours_stats, on='EmployeeID')\\\n",
    "    .merge(sick_days, on='EmployeeID')\\\n",
    "        .merge(emp_survey, on='EmployeeID')\\\n",
    "            .merge(man_survey, on='EmployeeID')"
   ]
  },
  {
   "cell_type": "markdown",
   "id": "2a922d53",
   "metadata": {},
   "source": [
    "Last, lets check out and export our aggregated and cleaned HR dataset."
   ]
  },
  {
   "cell_type": "code",
   "execution_count": 17,
   "id": "8b332651",
   "metadata": {},
   "outputs": [
    {
     "name": "stdout",
     "output_type": "stream",
     "text": [
      "<class 'pandas.core.frame.DataFrame'>\n",
      "Int64Index: 4382 entries, 1 to 4409\n",
      "Data columns (total 33 columns):\n",
      " #   Column                   Non-Null Count  Dtype  \n",
      "---  ------                   --------------  -----  \n",
      " 0   Age                      4382 non-null   int64  \n",
      " 1   Attrition                4382 non-null   object \n",
      " 2   BusinessTravel           4382 non-null   object \n",
      " 3   Department               4382 non-null   object \n",
      " 4   DistanceFromHome         4382 non-null   float64\n",
      " 5   Education                4382 non-null   int64  \n",
      " 6   EducationField           4382 non-null   object \n",
      " 7   EmployeeCount            4382 non-null   int64  \n",
      " 8   Gender                   4382 non-null   object \n",
      " 9   JobLevel                 4382 non-null   int64  \n",
      " 10  JobRole                  4382 non-null   object \n",
      " 11  MaritalStatus            4382 non-null   object \n",
      " 12  MonthlyIncome            4382 non-null   float64\n",
      " 13  NumCompaniesWorked       4382 non-null   float64\n",
      " 14  Over18                   4382 non-null   object \n",
      " 15  PercentSalaryHike        4382 non-null   int64  \n",
      " 16  StandardHours            4382 non-null   int64  \n",
      " 17  StockOptionLevel         4382 non-null   int64  \n",
      " 18  TotalWorkingYears        4382 non-null   float64\n",
      " 19  TrainingTimesLastYear    4382 non-null   int64  \n",
      " 20  YearsAtCompany           4382 non-null   int64  \n",
      " 21  YearsSinceLastPromotion  4382 non-null   int64  \n",
      " 22  YearsWithCurrManager     4382 non-null   int64  \n",
      " 23  MeanHrsWorked            4382 non-null   float64\n",
      " 24  MaxHrsWorked             4382 non-null   float64\n",
      " 25  SumHrsWorked             4382 non-null   float64\n",
      " 26  StdHrsWorked             4382 non-null   float64\n",
      " 27  SickDays                 4382 non-null   int64  \n",
      " 28  EnvironmentSatisfaction  4357 non-null   float64\n",
      " 29  JobSatisfaction          4362 non-null   float64\n",
      " 30  WorkLifeBalance          4345 non-null   float64\n",
      " 31  JobInvolvement           4382 non-null   int64  \n",
      " 32  PerformanceRating        4382 non-null   int64  \n",
      "dtypes: float64(11), int64(14), object(8)\n",
      "memory usage: 1.1+ MB\n",
      "None\n",
      "            Age Attrition     BusinessTravel              Department  \\\n",
      "EmployeeID                                                             \n",
      "1            51        No      Travel_Rarely                   Sales   \n",
      "2            31       Yes  Travel_Frequently  Research & Development   \n",
      "3            32        No  Travel_Frequently  Research & Development   \n",
      "4            38        No         Non-Travel  Research & Development   \n",
      "5            32        No      Travel_Rarely  Research & Development   \n",
      "...         ...       ...                ...                     ...   \n",
      "4405         29        No      Travel_Rarely                   Sales   \n",
      "4406         42        No      Travel_Rarely  Research & Development   \n",
      "4407         29        No      Travel_Rarely  Research & Development   \n",
      "4408         25        No      Travel_Rarely  Research & Development   \n",
      "4409         42        No      Travel_Rarely                   Sales   \n",
      "\n",
      "            DistanceFromHome  Education EducationField  EmployeeCount  Gender  \\\n",
      "EmployeeID                                                                      \n",
      "1                   3.728226          2  Life Sciences              1  Female   \n",
      "2                   6.213710          1  Life Sciences              1  Female   \n",
      "3                  10.563307          4          Other              1    Male   \n",
      "4                   1.242742          5  Life Sciences              1    Male   \n",
      "5                   6.213710          1        Medical              1    Male   \n",
      "...                      ...        ...            ...            ...     ...   \n",
      "4405                2.485484          3          Other              1  Female   \n",
      "4406                3.106855          4        Medical              1  Female   \n",
      "4407                1.242742          4        Medical              1    Male   \n",
      "4408               15.534275          2  Life Sciences              1    Male   \n",
      "4409               11.184678          2        Medical              1    Male   \n",
      "\n",
      "            JobLevel  ... MeanHrsWorked MaxHrsWorked  SumHrsWorked  \\\n",
      "EmployeeID            ...                                            \n",
      "1                  1  ...      6.870229     7.948333   1710.686944   \n",
      "2                  1  ...      7.315971     8.558889   1821.676667   \n",
      "3                  4  ...      6.816081     7.993611   1697.204167   \n",
      "4                  3  ...      6.789215     7.890833   1690.514444   \n",
      "5                  1  ...      7.877561     8.828333   1961.512778   \n",
      "...              ...  ...           ...          ...           ...   \n",
      "4405               2  ...      7.117084     8.494167   1772.153889   \n",
      "4406               1  ...      8.316921     9.413889   2070.913333   \n",
      "4407               1  ...      5.897197     6.814722   1468.401944   \n",
      "4408               2  ...      7.149526     8.476111   1780.231944   \n",
      "4409               1  ...      9.187612    10.300833   2287.715278   \n",
      "\n",
      "            StdHrsWorked SickDays  EnvironmentSatisfaction  JobSatisfaction  \\\n",
      "EmployeeID                                                                    \n",
      "1               1.883424       17                      3.0              4.0   \n",
      "2               1.747356       13                      3.0              2.0   \n",
      "3               1.201498        7                      2.0              2.0   \n",
      "4               1.683223       14                      4.0              4.0   \n",
      "5               1.051751        4                      4.0              1.0   \n",
      "...                  ...      ...                      ...              ...   \n",
      "4405            1.167343        6                      3.0              4.0   \n",
      "4406            1.342867        6                      4.0              1.0   \n",
      "4407            1.110996        8                      4.0              4.0   \n",
      "4408            2.022289       18                      1.0              3.0   \n",
      "4409            1.707648        8                      4.0              1.0   \n",
      "\n",
      "            WorkLifeBalance  JobInvolvement  PerformanceRating  \n",
      "EmployeeID                                                      \n",
      "1                       2.0               3                  3  \n",
      "2                       4.0               2                  4  \n",
      "3                       1.0               3                  3  \n",
      "4                       3.0               2                  3  \n",
      "5                       3.0               3                  3  \n",
      "...                     ...             ...                ...  \n",
      "4405                    3.0               2                  3  \n",
      "4406                    3.0               3                  3  \n",
      "4407                    3.0               2                  3  \n",
      "4408                    3.0               3                  4  \n",
      "4409                    3.0               2                  3  \n",
      "\n",
      "[4382 rows x 33 columns]\n"
     ]
    }
   ],
   "source": [
    "print(df.info())\n",
    "print(df)"
   ]
  },
  {
   "cell_type": "code",
   "execution_count": 16,
   "id": "d3839329",
   "metadata": {},
   "outputs": [
    {
     "name": "stdout",
     "output_type": "stream",
     "text": [
      "Stored 'df' (DataFrame)\n"
     ]
    }
   ],
   "source": [
    "%store df"
   ]
  }
 ],
 "metadata": {
  "kernelspec": {
   "display_name": "Python 3 (ipykernel)",
   "language": "python",
   "name": "python3"
  },
  "language_info": {
   "codemirror_mode": {
    "name": "ipython",
    "version": 3
   },
   "file_extension": ".py",
   "mimetype": "text/x-python",
   "name": "python",
   "nbconvert_exporter": "python",
   "pygments_lexer": "ipython3",
   "version": "3.9.7"
  }
 },
 "nbformat": 4,
 "nbformat_minor": 5
}
