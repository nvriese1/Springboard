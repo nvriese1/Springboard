{
 "cells": [
  {
   "cell_type": "markdown",
   "metadata": {
    "colab_type": "text",
    "id": "i2RUFW7TFcuh"
   },
   "source": [
    "# Springboard Apps project - Tier 3 - Complete\n",
    "\n",
    "Welcome to the Apps project! To give you a taste of your future career, we're going to walk through exactly the kind of notebook that you'd write as a data scientist. In the process, we'll be sure to signpost the general framework for our investigation - the Data Science Pipeline - as well as give reasons for why we're doing what we're doing. We're also going to apply some of the skills and knowledge you've built up in the previous unit when reading Professor Spiegelhalter's *The Art of Statistics* (hereinafter *AoS*). \n",
    "\n",
    "So let's get cracking!\n",
    "\n",
    "**Brief**\n",
    "\n",
    "Did Apple Store apps receive better reviews than Google Play apps?\n",
    "\n",
    "## Stages of the project\n",
    "\n",
    "1. Sourcing and loading \n",
    "    * Load the two datasets\n",
    "    * Pick the columns that we are going to work with \n",
    "    * Subsetting the data on this basis \n",
    " \n",
    " \n",
    "2. Cleaning, transforming and visualizing\n",
    "    * Check the data types and fix them\n",
    "    * Add a `platform` column to both the `Apple` and the `Google` dataframes\n",
    "    * Changing the column names to prepare for a join \n",
    "    * Join the two data sets\n",
    "    * Eliminate the `NaN` values\n",
    "    * Filter only those apps that have been reviewed at least once\n",
    "    * Summarize the data visually and analytically (by the column `platform`)  \n",
    "  \n",
    "  \n",
    "3. Modelling \n",
    "    * Hypothesis formulation\n",
    "    * Getting the distribution of the data\n",
    "    * Permutation test \n",
    "\n",
    "\n",
    "4. Evaluating and concluding \n",
    "    * What is our conclusion?\n",
    "    * What is our decision?\n",
    "    * Other models we could have used. \n",
    "    "
   ]
  },
  {
   "cell_type": "markdown",
   "metadata": {
    "colab_type": "text",
    "id": "QLUAXtl1Fcuk"
   },
   "source": [
    "## Importing the libraries\n",
    "\n",
    "In this case we are going to import pandas, numpy, scipy, random and matplotlib.pyplot"
   ]
  },
  {
   "cell_type": "code",
   "execution_count": 1,
   "metadata": {
    "colab": {},
    "colab_type": "code",
    "id": "XeXJOlGiFcum"
   },
   "outputs": [],
   "source": [
    "import pandas as pd\n",
    "import numpy as np\n",
    "import matplotlib.pyplot as plt\n",
    "# scipi is a library for statistical tests and visualizations \n",
    "from scipy import stats\n",
    "# random enables us to generate random numbers\n",
    "import random"
   ]
  },
  {
   "cell_type": "markdown",
   "metadata": {
    "colab_type": "text",
    "id": "zVD7NlPAFcup"
   },
   "source": [
    "## Stage 1 -  Sourcing and loading data"
   ]
  },
  {
   "cell_type": "markdown",
   "metadata": {
    "colab_type": "text",
    "id": "KU8bdbImFcuq"
   },
   "source": [
    "### 1a. Source and load the data\n",
    "Let's download the data from Kaggle. Kaggle is a fantastic resource: a kind of social medium for data scientists, it boasts projects, datasets and news on the freshest libraries and technologies all in one place. The data from the Apple Store can be found [here](https://www.kaggle.com/ramamet4/app-store-apple-data-set-10k-apps) and the data from Google Store can be found [here](https://www.kaggle.com/lava18/google-play-store-apps).\n",
    "Download the datasets and save them in your working directory."
   ]
  },
  {
   "cell_type": "code",
   "execution_count": 2,
   "metadata": {
    "colab": {},
    "colab_type": "code",
    "id": "laM1PB76Fcur"
   },
   "outputs": [
    {
     "data": {
      "text/html": [
       "<div>\n",
       "<style scoped>\n",
       "    .dataframe tbody tr th:only-of-type {\n",
       "        vertical-align: middle;\n",
       "    }\n",
       "\n",
       "    .dataframe tbody tr th {\n",
       "        vertical-align: top;\n",
       "    }\n",
       "\n",
       "    .dataframe thead th {\n",
       "        text-align: right;\n",
       "    }\n",
       "</style>\n",
       "<table border=\"1\" class=\"dataframe\">\n",
       "  <thead>\n",
       "    <tr style=\"text-align: right;\">\n",
       "      <th></th>\n",
       "      <th>App</th>\n",
       "      <th>Category</th>\n",
       "      <th>Rating</th>\n",
       "      <th>Reviews</th>\n",
       "      <th>Size</th>\n",
       "      <th>Installs</th>\n",
       "      <th>Type</th>\n",
       "      <th>Price</th>\n",
       "      <th>Content Rating</th>\n",
       "      <th>Genres</th>\n",
       "      <th>Last Updated</th>\n",
       "      <th>Current Ver</th>\n",
       "      <th>Android Ver</th>\n",
       "    </tr>\n",
       "  </thead>\n",
       "  <tbody>\n",
       "    <tr>\n",
       "      <th>0</th>\n",
       "      <td>Photo Editor &amp; Candy Camera &amp; Grid &amp; ScrapBook</td>\n",
       "      <td>ART_AND_DESIGN</td>\n",
       "      <td>4.1</td>\n",
       "      <td>159</td>\n",
       "      <td>19M</td>\n",
       "      <td>10,000+</td>\n",
       "      <td>Free</td>\n",
       "      <td>0</td>\n",
       "      <td>Everyone</td>\n",
       "      <td>Art &amp; Design</td>\n",
       "      <td>January 7, 2018</td>\n",
       "      <td>1.0.0</td>\n",
       "      <td>4.0.3 and up</td>\n",
       "    </tr>\n",
       "    <tr>\n",
       "      <th>1</th>\n",
       "      <td>Coloring book moana</td>\n",
       "      <td>ART_AND_DESIGN</td>\n",
       "      <td>3.9</td>\n",
       "      <td>967</td>\n",
       "      <td>14M</td>\n",
       "      <td>500,000+</td>\n",
       "      <td>Free</td>\n",
       "      <td>0</td>\n",
       "      <td>Everyone</td>\n",
       "      <td>Art &amp; Design;Pretend Play</td>\n",
       "      <td>January 15, 2018</td>\n",
       "      <td>2.0.0</td>\n",
       "      <td>4.0.3 and up</td>\n",
       "    </tr>\n",
       "    <tr>\n",
       "      <th>2</th>\n",
       "      <td>U Launcher Lite – FREE Live Cool Themes, Hide ...</td>\n",
       "      <td>ART_AND_DESIGN</td>\n",
       "      <td>4.7</td>\n",
       "      <td>87510</td>\n",
       "      <td>8.7M</td>\n",
       "      <td>5,000,000+</td>\n",
       "      <td>Free</td>\n",
       "      <td>0</td>\n",
       "      <td>Everyone</td>\n",
       "      <td>Art &amp; Design</td>\n",
       "      <td>August 1, 2018</td>\n",
       "      <td>1.2.4</td>\n",
       "      <td>4.0.3 and up</td>\n",
       "    </tr>\n",
       "    <tr>\n",
       "      <th>3</th>\n",
       "      <td>Sketch - Draw &amp; Paint</td>\n",
       "      <td>ART_AND_DESIGN</td>\n",
       "      <td>4.5</td>\n",
       "      <td>215644</td>\n",
       "      <td>25M</td>\n",
       "      <td>50,000,000+</td>\n",
       "      <td>Free</td>\n",
       "      <td>0</td>\n",
       "      <td>Teen</td>\n",
       "      <td>Art &amp; Design</td>\n",
       "      <td>June 8, 2018</td>\n",
       "      <td>Varies with device</td>\n",
       "      <td>4.2 and up</td>\n",
       "    </tr>\n",
       "    <tr>\n",
       "      <th>4</th>\n",
       "      <td>Pixel Draw - Number Art Coloring Book</td>\n",
       "      <td>ART_AND_DESIGN</td>\n",
       "      <td>4.3</td>\n",
       "      <td>967</td>\n",
       "      <td>2.8M</td>\n",
       "      <td>100,000+</td>\n",
       "      <td>Free</td>\n",
       "      <td>0</td>\n",
       "      <td>Everyone</td>\n",
       "      <td>Art &amp; Design;Creativity</td>\n",
       "      <td>June 20, 2018</td>\n",
       "      <td>1.1</td>\n",
       "      <td>4.4 and up</td>\n",
       "    </tr>\n",
       "  </tbody>\n",
       "</table>\n",
       "</div>"
      ],
      "text/plain": [
       "                                                 App        Category  Rating  \\\n",
       "0     Photo Editor & Candy Camera & Grid & ScrapBook  ART_AND_DESIGN     4.1   \n",
       "1                                Coloring book moana  ART_AND_DESIGN     3.9   \n",
       "2  U Launcher Lite – FREE Live Cool Themes, Hide ...  ART_AND_DESIGN     4.7   \n",
       "3                              Sketch - Draw & Paint  ART_AND_DESIGN     4.5   \n",
       "4              Pixel Draw - Number Art Coloring Book  ART_AND_DESIGN     4.3   \n",
       "\n",
       "  Reviews  Size     Installs  Type Price Content Rating  \\\n",
       "0     159   19M      10,000+  Free     0       Everyone   \n",
       "1     967   14M     500,000+  Free     0       Everyone   \n",
       "2   87510  8.7M   5,000,000+  Free     0       Everyone   \n",
       "3  215644   25M  50,000,000+  Free     0           Teen   \n",
       "4     967  2.8M     100,000+  Free     0       Everyone   \n",
       "\n",
       "                      Genres      Last Updated         Current Ver  \\\n",
       "0               Art & Design   January 7, 2018               1.0.0   \n",
       "1  Art & Design;Pretend Play  January 15, 2018               2.0.0   \n",
       "2               Art & Design    August 1, 2018               1.2.4   \n",
       "3               Art & Design      June 8, 2018  Varies with device   \n",
       "4    Art & Design;Creativity     June 20, 2018                 1.1   \n",
       "\n",
       "    Android Ver  \n",
       "0  4.0.3 and up  \n",
       "1  4.0.3 and up  \n",
       "2  4.0.3 and up  \n",
       "3    4.2 and up  \n",
       "4    4.4 and up  "
      ]
     },
     "execution_count": 2,
     "metadata": {},
     "output_type": "execute_result"
    }
   ],
   "source": [
    "# Now that the files are saved, we want to load them into Python using read_csv and pandas.\n",
    "\n",
    "# Create a variable called google, and store in it the path of the csv file that contains your google dataset. \n",
    "# If your dataset is in the same folder as this notebook, the path will simply be the name of the file. \n",
    "google = 'googleplaystore.csv'\n",
    "\n",
    "# Read the csv file into a data frame called Google using the read_csv() pandas method.\n",
    "Google = pd.read_csv(google)\n",
    "\n",
    "# Using the head() pandas method, observe the first three entries.\n",
    "Google.head()"
   ]
  },
  {
   "cell_type": "code",
   "execution_count": 3,
   "metadata": {
    "colab": {},
    "colab_type": "code",
    "id": "3AW8EA1wFcuu"
   },
   "outputs": [
    {
     "data": {
      "text/html": [
       "<div>\n",
       "<style scoped>\n",
       "    .dataframe tbody tr th:only-of-type {\n",
       "        vertical-align: middle;\n",
       "    }\n",
       "\n",
       "    .dataframe tbody tr th {\n",
       "        vertical-align: top;\n",
       "    }\n",
       "\n",
       "    .dataframe thead th {\n",
       "        text-align: right;\n",
       "    }\n",
       "</style>\n",
       "<table border=\"1\" class=\"dataframe\">\n",
       "  <thead>\n",
       "    <tr style=\"text-align: right;\">\n",
       "      <th></th>\n",
       "      <th>Unnamed: 0</th>\n",
       "      <th>id</th>\n",
       "      <th>track_name</th>\n",
       "      <th>size_bytes</th>\n",
       "      <th>currency</th>\n",
       "      <th>price</th>\n",
       "      <th>rating_count_tot</th>\n",
       "      <th>rating_count_ver</th>\n",
       "      <th>user_rating</th>\n",
       "      <th>user_rating_ver</th>\n",
       "      <th>ver</th>\n",
       "      <th>cont_rating</th>\n",
       "      <th>prime_genre</th>\n",
       "      <th>sup_devices.num</th>\n",
       "      <th>ipadSc_urls.num</th>\n",
       "      <th>lang.num</th>\n",
       "      <th>vpp_lic</th>\n",
       "    </tr>\n",
       "  </thead>\n",
       "  <tbody>\n",
       "    <tr>\n",
       "      <th>0</th>\n",
       "      <td>1</td>\n",
       "      <td>281656475</td>\n",
       "      <td>PAC-MAN Premium</td>\n",
       "      <td>100788224</td>\n",
       "      <td>USD</td>\n",
       "      <td>3.99</td>\n",
       "      <td>21292</td>\n",
       "      <td>26</td>\n",
       "      <td>4.0</td>\n",
       "      <td>4.5</td>\n",
       "      <td>6.3.5</td>\n",
       "      <td>4+</td>\n",
       "      <td>Games</td>\n",
       "      <td>38</td>\n",
       "      <td>5</td>\n",
       "      <td>10</td>\n",
       "      <td>1</td>\n",
       "    </tr>\n",
       "    <tr>\n",
       "      <th>1</th>\n",
       "      <td>2</td>\n",
       "      <td>281796108</td>\n",
       "      <td>Evernote - stay organized</td>\n",
       "      <td>158578688</td>\n",
       "      <td>USD</td>\n",
       "      <td>0.00</td>\n",
       "      <td>161065</td>\n",
       "      <td>26</td>\n",
       "      <td>4.0</td>\n",
       "      <td>3.5</td>\n",
       "      <td>8.2.2</td>\n",
       "      <td>4+</td>\n",
       "      <td>Productivity</td>\n",
       "      <td>37</td>\n",
       "      <td>5</td>\n",
       "      <td>23</td>\n",
       "      <td>1</td>\n",
       "    </tr>\n",
       "    <tr>\n",
       "      <th>2</th>\n",
       "      <td>3</td>\n",
       "      <td>281940292</td>\n",
       "      <td>WeatherBug - Local Weather, Radar, Maps, Alerts</td>\n",
       "      <td>100524032</td>\n",
       "      <td>USD</td>\n",
       "      <td>0.00</td>\n",
       "      <td>188583</td>\n",
       "      <td>2822</td>\n",
       "      <td>3.5</td>\n",
       "      <td>4.5</td>\n",
       "      <td>5.0.0</td>\n",
       "      <td>4+</td>\n",
       "      <td>Weather</td>\n",
       "      <td>37</td>\n",
       "      <td>5</td>\n",
       "      <td>3</td>\n",
       "      <td>1</td>\n",
       "    </tr>\n",
       "    <tr>\n",
       "      <th>3</th>\n",
       "      <td>4</td>\n",
       "      <td>282614216</td>\n",
       "      <td>eBay: Best App to Buy, Sell, Save! Online Shop...</td>\n",
       "      <td>128512000</td>\n",
       "      <td>USD</td>\n",
       "      <td>0.00</td>\n",
       "      <td>262241</td>\n",
       "      <td>649</td>\n",
       "      <td>4.0</td>\n",
       "      <td>4.5</td>\n",
       "      <td>5.10.0</td>\n",
       "      <td>12+</td>\n",
       "      <td>Shopping</td>\n",
       "      <td>37</td>\n",
       "      <td>5</td>\n",
       "      <td>9</td>\n",
       "      <td>1</td>\n",
       "    </tr>\n",
       "    <tr>\n",
       "      <th>4</th>\n",
       "      <td>5</td>\n",
       "      <td>282935706</td>\n",
       "      <td>Bible</td>\n",
       "      <td>92774400</td>\n",
       "      <td>USD</td>\n",
       "      <td>0.00</td>\n",
       "      <td>985920</td>\n",
       "      <td>5320</td>\n",
       "      <td>4.5</td>\n",
       "      <td>5.0</td>\n",
       "      <td>7.5.1</td>\n",
       "      <td>4+</td>\n",
       "      <td>Reference</td>\n",
       "      <td>37</td>\n",
       "      <td>5</td>\n",
       "      <td>45</td>\n",
       "      <td>1</td>\n",
       "    </tr>\n",
       "  </tbody>\n",
       "</table>\n",
       "</div>"
      ],
      "text/plain": [
       "   Unnamed: 0         id                                         track_name  \\\n",
       "0           1  281656475                                    PAC-MAN Premium   \n",
       "1           2  281796108                          Evernote - stay organized   \n",
       "2           3  281940292    WeatherBug - Local Weather, Radar, Maps, Alerts   \n",
       "3           4  282614216  eBay: Best App to Buy, Sell, Save! Online Shop...   \n",
       "4           5  282935706                                              Bible   \n",
       "\n",
       "   size_bytes currency  price  rating_count_tot  rating_count_ver  \\\n",
       "0   100788224      USD   3.99             21292                26   \n",
       "1   158578688      USD   0.00            161065                26   \n",
       "2   100524032      USD   0.00            188583              2822   \n",
       "3   128512000      USD   0.00            262241               649   \n",
       "4    92774400      USD   0.00            985920              5320   \n",
       "\n",
       "   user_rating  user_rating_ver     ver cont_rating   prime_genre  \\\n",
       "0          4.0              4.5   6.3.5          4+         Games   \n",
       "1          4.0              3.5   8.2.2          4+  Productivity   \n",
       "2          3.5              4.5   5.0.0          4+       Weather   \n",
       "3          4.0              4.5  5.10.0         12+      Shopping   \n",
       "4          4.5              5.0   7.5.1          4+     Reference   \n",
       "\n",
       "   sup_devices.num  ipadSc_urls.num  lang.num  vpp_lic  \n",
       "0               38                5        10        1  \n",
       "1               37                5        23        1  \n",
       "2               37                5         3        1  \n",
       "3               37                5         9        1  \n",
       "4               37                5        45        1  "
      ]
     },
     "execution_count": 3,
     "metadata": {},
     "output_type": "execute_result"
    }
   ],
   "source": [
    "# Create a variable called apple, and store in it the path of the csv file that contains your apple dataset. \n",
    "apple = 'AppleStore.csv'\n",
    "\n",
    "# Read the csv file into a pandas DataFrame object called Apple.\n",
    "Apple = pd.read_csv(apple)\n",
    "\n",
    "# Observe the first three entries like you did with your other data. \n",
    "Apple.head()"
   ]
  },
  {
   "cell_type": "markdown",
   "metadata": {
    "colab_type": "text",
    "id": "vljOHKNTFcuw"
   },
   "source": [
    "### 1b. Pick the columns we'll work with\n",
    "\n",
    "From the documentation of these datasets, we can infer that the most appropriate columns to answer the brief are:\n",
    "\n",
    "1. Google:\n",
    "    * `Category` # Do we need this?\n",
    "    * `Rating`\n",
    "    * `Reviews`\n",
    "    * `Price` (maybe)\n",
    "2. Apple:    \n",
    "    * `prime_genre` # Do we need this?\n",
    "    * `user_rating` \n",
    "    * `rating_count_tot`\n",
    "    * `price` (maybe)"
   ]
  },
  {
   "cell_type": "markdown",
   "metadata": {
    "colab_type": "text",
    "id": "uf69AeTvFcux"
   },
   "source": [
    "### 1c. Subsetting accordingly\n",
    "\n",
    "Let's select only those columns that we want to work with from both datasets. We'll overwrite the subsets in the original variables."
   ]
  },
  {
   "cell_type": "code",
   "execution_count": 4,
   "metadata": {
    "colab": {},
    "colab_type": "code",
    "id": "LNSDXyjdFcuy"
   },
   "outputs": [
    {
     "data": {
      "text/html": [
       "<div>\n",
       "<style scoped>\n",
       "    .dataframe tbody tr th:only-of-type {\n",
       "        vertical-align: middle;\n",
       "    }\n",
       "\n",
       "    .dataframe tbody tr th {\n",
       "        vertical-align: top;\n",
       "    }\n",
       "\n",
       "    .dataframe thead th {\n",
       "        text-align: right;\n",
       "    }\n",
       "</style>\n",
       "<table border=\"1\" class=\"dataframe\">\n",
       "  <thead>\n",
       "    <tr style=\"text-align: right;\">\n",
       "      <th></th>\n",
       "      <th>Category</th>\n",
       "      <th>Rating</th>\n",
       "      <th>Reviews</th>\n",
       "      <th>Price</th>\n",
       "    </tr>\n",
       "  </thead>\n",
       "  <tbody>\n",
       "    <tr>\n",
       "      <th>0</th>\n",
       "      <td>ART_AND_DESIGN</td>\n",
       "      <td>4.1</td>\n",
       "      <td>159</td>\n",
       "      <td>0</td>\n",
       "    </tr>\n",
       "    <tr>\n",
       "      <th>1</th>\n",
       "      <td>ART_AND_DESIGN</td>\n",
       "      <td>3.9</td>\n",
       "      <td>967</td>\n",
       "      <td>0</td>\n",
       "    </tr>\n",
       "    <tr>\n",
       "      <th>2</th>\n",
       "      <td>ART_AND_DESIGN</td>\n",
       "      <td>4.7</td>\n",
       "      <td>87510</td>\n",
       "      <td>0</td>\n",
       "    </tr>\n",
       "  </tbody>\n",
       "</table>\n",
       "</div>"
      ],
      "text/plain": [
       "         Category  Rating Reviews Price\n",
       "0  ART_AND_DESIGN     4.1     159     0\n",
       "1  ART_AND_DESIGN     3.9     967     0\n",
       "2  ART_AND_DESIGN     4.7   87510     0"
      ]
     },
     "execution_count": 4,
     "metadata": {},
     "output_type": "execute_result"
    }
   ],
   "source": [
    "# Subset our DataFrame object Google by selecting just the variables ['Category', 'Rating', 'Reviews', 'Price']\n",
    "Google = Google[['Category','Rating','Reviews','Price']]\n",
    "\n",
    "# Check the first three entries\n",
    "Google.head(3)"
   ]
  },
  {
   "cell_type": "code",
   "execution_count": 5,
   "metadata": {
    "colab": {},
    "colab_type": "code",
    "id": "AVCtENPtFcu0"
   },
   "outputs": [
    {
     "data": {
      "text/html": [
       "<div>\n",
       "<style scoped>\n",
       "    .dataframe tbody tr th:only-of-type {\n",
       "        vertical-align: middle;\n",
       "    }\n",
       "\n",
       "    .dataframe tbody tr th {\n",
       "        vertical-align: top;\n",
       "    }\n",
       "\n",
       "    .dataframe thead th {\n",
       "        text-align: right;\n",
       "    }\n",
       "</style>\n",
       "<table border=\"1\" class=\"dataframe\">\n",
       "  <thead>\n",
       "    <tr style=\"text-align: right;\">\n",
       "      <th></th>\n",
       "      <th>prime_genre</th>\n",
       "      <th>user_rating</th>\n",
       "      <th>rating_count_tot</th>\n",
       "      <th>price</th>\n",
       "    </tr>\n",
       "  </thead>\n",
       "  <tbody>\n",
       "    <tr>\n",
       "      <th>0</th>\n",
       "      <td>Games</td>\n",
       "      <td>4.0</td>\n",
       "      <td>21292</td>\n",
       "      <td>3.99</td>\n",
       "    </tr>\n",
       "    <tr>\n",
       "      <th>1</th>\n",
       "      <td>Productivity</td>\n",
       "      <td>4.0</td>\n",
       "      <td>161065</td>\n",
       "      <td>0.00</td>\n",
       "    </tr>\n",
       "    <tr>\n",
       "      <th>2</th>\n",
       "      <td>Weather</td>\n",
       "      <td>3.5</td>\n",
       "      <td>188583</td>\n",
       "      <td>0.00</td>\n",
       "    </tr>\n",
       "  </tbody>\n",
       "</table>\n",
       "</div>"
      ],
      "text/plain": [
       "    prime_genre  user_rating  rating_count_tot  price\n",
       "0         Games          4.0             21292   3.99\n",
       "1  Productivity          4.0            161065   0.00\n",
       "2       Weather          3.5            188583   0.00"
      ]
     },
     "execution_count": 5,
     "metadata": {},
     "output_type": "execute_result"
    }
   ],
   "source": [
    "# Do the same with our Apple object, selecting just the variables ['prime_genre', 'user_rating', 'rating_count_tot', 'price']\n",
    "Apple = Apple[['prime_genre','user_rating','rating_count_tot','price']]\n",
    "\n",
    "# Let's check the first three entries\n",
    "Apple.head(3)"
   ]
  },
  {
   "cell_type": "markdown",
   "metadata": {
    "colab_type": "text",
    "id": "wwK2wH-rFcu2"
   },
   "source": [
    "## Stage 2 -  Cleaning, transforming and visualizing"
   ]
  },
  {
   "cell_type": "markdown",
   "metadata": {
    "colab_type": "text",
    "id": "NsoE5x0JFcu3"
   },
   "source": [
    "### 2a. Check the data types for both Apple and Google, and fix them\n",
    "\n",
    "Types are crucial for data science in Python. Let's determine whether the variables we selected in the previous section belong to the types they should do, or whether there are any errors here. "
   ]
  },
  {
   "cell_type": "code",
   "execution_count": 6,
   "metadata": {
    "colab": {},
    "colab_type": "code",
    "id": "ymw10SaWFcu4"
   },
   "outputs": [
    {
     "data": {
      "text/plain": [
       "prime_genre          object\n",
       "user_rating         float64\n",
       "rating_count_tot      int64\n",
       "price               float64\n",
       "dtype: object"
      ]
     },
     "execution_count": 6,
     "metadata": {},
     "output_type": "execute_result"
    }
   ],
   "source": [
    "# Using the dtypes feature of pandas DataFrame objects, check out the data types within our Apple dataframe.\n",
    "# Are they what you expect?\n",
    "\n",
    "Apple.dtypes"
   ]
  },
  {
   "cell_type": "markdown",
   "metadata": {},
   "source": [
    "A. See dtypes for each feature above. All feature datatypes are suitable and correspond to the categorical and numerical data included in each."
   ]
  },
  {
   "cell_type": "markdown",
   "metadata": {
    "colab_type": "text",
    "id": "VAiM6jIxFcu6"
   },
   "source": [
    "This is looking healthy. But what about our Google data frame?"
   ]
  },
  {
   "cell_type": "code",
   "execution_count": 7,
   "metadata": {
    "colab": {},
    "colab_type": "code",
    "id": "kmP8MhqyFcu7"
   },
   "outputs": [
    {
     "data": {
      "text/plain": [
       "Category     object\n",
       "Rating      float64\n",
       "Reviews      object\n",
       "Price        object\n",
       "dtype: object"
      ]
     },
     "execution_count": 7,
     "metadata": {},
     "output_type": "execute_result"
    }
   ],
   "source": [
    "# Using the same dtypes feature, check out the data types of our Google dataframe. \n",
    "Google.dtypes"
   ]
  },
  {
   "cell_type": "markdown",
   "metadata": {
    "colab_type": "text",
    "id": "O-dxAy0WFcu9"
   },
   "source": [
    "Weird. The data type for the column 'Price' is 'object', not a numeric data type like a float or an integer. Let's investigate the unique values of this column. "
   ]
  },
  {
   "cell_type": "code",
   "execution_count": 8,
   "metadata": {
    "colab": {},
    "colab_type": "code",
    "id": "Hu08K9y7Fcu9"
   },
   "outputs": [
    {
     "data": {
      "text/plain": [
       "array(['0', '$4.99', '$3.99', '$6.99', '$1.49', '$2.99', '$7.99', '$5.99',\n",
       "       '$3.49', '$1.99', '$9.99', '$7.49', '$0.99', '$9.00', '$5.49',\n",
       "       '$10.00', '$24.99', '$11.99', '$79.99', '$16.99', '$14.99',\n",
       "       '$1.00', '$29.99', '$12.99', '$2.49', '$10.99', '$1.50', '$19.99',\n",
       "       '$15.99', '$33.99', '$74.99', '$39.99', '$3.95', '$4.49', '$1.70',\n",
       "       '$8.99', '$2.00', '$3.88', '$25.99', '$399.99', '$17.99',\n",
       "       '$400.00', '$3.02', '$1.76', '$4.84', '$4.77', '$1.61', '$2.50',\n",
       "       '$1.59', '$6.49', '$1.29', '$5.00', '$13.99', '$299.99', '$379.99',\n",
       "       '$37.99', '$18.99', '$389.99', '$19.90', '$8.49', '$1.75',\n",
       "       '$14.00', '$4.85', '$46.99', '$109.99', '$154.99', '$3.08',\n",
       "       '$2.59', '$4.80', '$1.96', '$19.40', '$3.90', '$4.59', '$15.46',\n",
       "       '$3.04', '$4.29', '$2.60', '$3.28', '$4.60', '$28.99', '$2.95',\n",
       "       '$2.90', '$1.97', '$200.00', '$89.99', '$2.56', '$30.99', '$3.61',\n",
       "       '$394.99', '$1.26', 'Everyone', '$1.20', '$1.04'], dtype=object)"
      ]
     },
     "execution_count": 8,
     "metadata": {},
     "output_type": "execute_result"
    }
   ],
   "source": [
    "# Use the unique() pandas method on the Price column to check its unique values. \n",
    "Google.Price.unique()"
   ]
  },
  {
   "cell_type": "markdown",
   "metadata": {
    "colab_type": "text",
    "id": "w_7nkogFFcu_"
   },
   "source": [
    "Aha! Fascinating. There are actually two issues here. \n",
    "\n",
    "- Firstly, there's a price called `Everyone`. That is a massive mistake! \n",
    "- Secondly, there are dollar symbols everywhere! \n",
    "\n",
    "\n",
    "Let's address the first issue first. Let's check the datapoints that have the price value `Everyone`"
   ]
  },
  {
   "cell_type": "code",
   "execution_count": 9,
   "metadata": {
    "colab": {},
    "colab_type": "code",
    "id": "E75WWmhdFcvA"
   },
   "outputs": [
    {
     "data": {
      "text/html": [
       "<div>\n",
       "<style scoped>\n",
       "    .dataframe tbody tr th:only-of-type {\n",
       "        vertical-align: middle;\n",
       "    }\n",
       "\n",
       "    .dataframe tbody tr th {\n",
       "        vertical-align: top;\n",
       "    }\n",
       "\n",
       "    .dataframe thead th {\n",
       "        text-align: right;\n",
       "    }\n",
       "</style>\n",
       "<table border=\"1\" class=\"dataframe\">\n",
       "  <thead>\n",
       "    <tr style=\"text-align: right;\">\n",
       "      <th></th>\n",
       "      <th>Category</th>\n",
       "      <th>Rating</th>\n",
       "      <th>Reviews</th>\n",
       "      <th>Price</th>\n",
       "    </tr>\n",
       "  </thead>\n",
       "  <tbody>\n",
       "    <tr>\n",
       "      <th>10472</th>\n",
       "      <td>1.9</td>\n",
       "      <td>19.0</td>\n",
       "      <td>3.0M</td>\n",
       "      <td>Everyone</td>\n",
       "    </tr>\n",
       "  </tbody>\n",
       "</table>\n",
       "</div>"
      ],
      "text/plain": [
       "      Category  Rating Reviews     Price\n",
       "10472      1.9    19.0    3.0M  Everyone"
      ]
     },
     "execution_count": 9,
     "metadata": {},
     "output_type": "execute_result"
    }
   ],
   "source": [
    "# Let's check which data points have the value 'Everyone' for the 'Price' column by subsetting our Google dataframe.\n",
    "\n",
    "# Subset the Google dataframe on the price column. \n",
    "# To be sure: you want to pick out just those rows whose value for the 'Price' column is just 'Everyone'. \n",
    "\n",
    "Google[Google['Price']=='Everyone']"
   ]
  },
  {
   "cell_type": "markdown",
   "metadata": {
    "colab_type": "text",
    "id": "ezfLshdRFcvC"
   },
   "source": [
    "Thankfully, it's just one row. We've gotta get rid of it. "
   ]
  },
  {
   "cell_type": "code",
   "execution_count": 10,
   "metadata": {
    "colab": {},
    "colab_type": "code",
    "id": "DBmjUQUkFcvD"
   },
   "outputs": [
    {
     "data": {
      "text/plain": [
       "array(['0', '$4.99', '$3.99', '$6.99', '$1.49', '$2.99', '$7.99', '$5.99',\n",
       "       '$3.49', '$1.99', '$9.99', '$7.49', '$0.99', '$9.00', '$5.49',\n",
       "       '$10.00', '$24.99', '$11.99', '$79.99', '$16.99', '$14.99',\n",
       "       '$1.00', '$29.99', '$12.99', '$2.49', '$10.99', '$1.50', '$19.99',\n",
       "       '$15.99', '$33.99', '$74.99', '$39.99', '$3.95', '$4.49', '$1.70',\n",
       "       '$8.99', '$2.00', '$3.88', '$25.99', '$399.99', '$17.99',\n",
       "       '$400.00', '$3.02', '$1.76', '$4.84', '$4.77', '$1.61', '$2.50',\n",
       "       '$1.59', '$6.49', '$1.29', '$5.00', '$13.99', '$299.99', '$379.99',\n",
       "       '$37.99', '$18.99', '$389.99', '$19.90', '$8.49', '$1.75',\n",
       "       '$14.00', '$4.85', '$46.99', '$109.99', '$154.99', '$3.08',\n",
       "       '$2.59', '$4.80', '$1.96', '$19.40', '$3.90', '$4.59', '$15.46',\n",
       "       '$3.04', '$4.29', '$2.60', '$3.28', '$4.60', '$28.99', '$2.95',\n",
       "       '$2.90', '$1.97', '$200.00', '$89.99', '$2.56', '$30.99', '$3.61',\n",
       "       '$394.99', '$1.26', '$1.20', '$1.04'], dtype=object)"
      ]
     },
     "execution_count": 10,
     "metadata": {},
     "output_type": "execute_result"
    }
   ],
   "source": [
    "# Let's eliminate that row. \n",
    "\n",
    "# Subset our Google dataframe to pick out just those rows whose value for the 'Price' column is NOT 'Everyone'. \n",
    "# Reassign that subset to the Google variable. \n",
    "# You can do this in two lines or one. Your choice! \n",
    "Google = Google[Google['Price']!='Everyone']\n",
    "\n",
    "# Check again the unique values of Google\n",
    "Google.Price.unique()"
   ]
  },
  {
   "cell_type": "markdown",
   "metadata": {
    "colab_type": "text",
    "id": "T43TB4qFFcvF"
   },
   "source": [
    "Our second problem remains: I'm seeing dollar symbols when I close my eyes! (And not in a good way). \n",
    "\n",
    "This is a problem because Python actually considers these values strings. So we can't do mathematical and statistical operations on them until we've made them into numbers. "
   ]
  },
  {
   "cell_type": "code",
   "execution_count": 11,
   "metadata": {
    "colab": {},
    "colab_type": "code",
    "id": "W87gVS9BFcvG"
   },
   "outputs": [
    {
     "name": "stderr",
     "output_type": "stream",
     "text": [
      "C:\\Users\\Charles\\AppData\\Local\\Temp/ipykernel_8604/1505417736.py:3: FutureWarning: The default value of regex will change from True to False in a future version. In addition, single character regular expressions will *not* be treated as literal strings when regex=True.\n",
      "  nosymb = Google['Price'].str.replace('$','')\n"
     ]
    }
   ],
   "source": [
    "# Let's create a variable called nosymb.\n",
    "# This variable will take the Price column of Google and apply the str.replace() method. \n",
    "nosymb = Google['Price'].str.replace('$','')\n",
    "\n",
    "# Now we need to do two things:\n",
    "# i. Make the values in the nosymb variable numeric using the to_numeric() pandas method.\n",
    "# ii. Assign this new set of numeric, dollar-sign-less values to Google['Price']. \n",
    "# You can do this in one line if you wish.\n",
    "Google['Price'] = pd.to_numeric(nosymb)"
   ]
  },
  {
   "cell_type": "markdown",
   "metadata": {
    "colab_type": "text",
    "id": "LxpJQ9yyFcvI"
   },
   "source": [
    "Now let's check the data types for our Google dataframe again, to verify that the 'Price' column really is numeric now."
   ]
  },
  {
   "cell_type": "code",
   "execution_count": 12,
   "metadata": {
    "colab": {},
    "colab_type": "code",
    "id": "Fn5Gt-QbFcvI"
   },
   "outputs": [
    {
     "data": {
      "text/plain": [
       "Category     object\n",
       "Rating      float64\n",
       "Reviews      object\n",
       "Price       float64\n",
       "dtype: object"
      ]
     },
     "execution_count": 12,
     "metadata": {},
     "output_type": "execute_result"
    }
   ],
   "source": [
    "# Use the function dtypes. \n",
    "Google.dtypes"
   ]
  },
  {
   "cell_type": "markdown",
   "metadata": {
    "colab_type": "text",
    "id": "FgfuiVo0FcvK"
   },
   "source": [
    "Notice that the column `Reviews` is still an object column. We actually need this column to be a numeric column, too. "
   ]
  },
  {
   "cell_type": "code",
   "execution_count": 13,
   "metadata": {
    "colab": {},
    "colab_type": "code",
    "id": "MiVEWsWBFcvL"
   },
   "outputs": [],
   "source": [
    "# Convert the 'Reviews' column to a numeric data type. \n",
    "Google['Reviews'] = pd.to_numeric(Google['Reviews'])"
   ]
  },
  {
   "cell_type": "code",
   "execution_count": 14,
   "metadata": {
    "colab": {},
    "colab_type": "code",
    "id": "wWJdXXTTFcvN"
   },
   "outputs": [
    {
     "data": {
      "text/plain": [
       "Category     object\n",
       "Rating      float64\n",
       "Reviews       int64\n",
       "Price       float64\n",
       "dtype: object"
      ]
     },
     "execution_count": 14,
     "metadata": {},
     "output_type": "execute_result"
    }
   ],
   "source": [
    "# Let's check the data types of Google again\n",
    "Google.dtypes"
   ]
  },
  {
   "cell_type": "markdown",
   "metadata": {
    "colab_type": "text",
    "id": "OiLm2GEKFcvP"
   },
   "source": [
    "### 2b. Add a `platform` column to both the `Apple` and the `Google` dataframes\n",
    "Let's add a new column to both dataframe objects called `platform`: all of its values in the Google dataframe will be just 'google', and all of its values for the Apple dataframe will be just 'apple'. \n",
    "\n",
    "The reason we're making this column is so that we can ultimately join our Apple and Google data together, and actually test out some hypotheses to solve the problem in our brief. "
   ]
  },
  {
   "cell_type": "code",
   "execution_count": 15,
   "metadata": {
    "colab": {},
    "colab_type": "code",
    "id": "mF-sOcx2FcvQ"
   },
   "outputs": [],
   "source": [
    "# Create a column called 'platform' in both the Apple and Google dataframes. \n",
    "# Add the value 'apple' and the value 'google' as appropriate. \n",
    "Apple['platform'] = 'apple'\n",
    "Google['platform'] = 'google'"
   ]
  },
  {
   "cell_type": "markdown",
   "metadata": {
    "colab_type": "text",
    "id": "EJcry17IFcvS"
   },
   "source": [
    "### 2c. Changing the column names to prepare for our join of the two datasets \n",
    "Since the easiest way to join two datasets is if they have both:\n",
    "- the same number of columns\n",
    "- the same column names\n",
    "we need to rename the columns of `Apple` so that they're the same as the ones of `Google`, or vice versa.\n",
    "\n",
    "In this case, we're going to change the `Apple` columns names to the names of the `Google` columns. \n",
    "\n",
    "This is an important step to unify the two datasets!"
   ]
  },
  {
   "cell_type": "code",
   "execution_count": 16,
   "metadata": {
    "colab": {},
    "colab_type": "code",
    "id": "bdt9XH2KFcvT"
   },
   "outputs": [
    {
     "name": "stdout",
     "output_type": "stream",
     "text": [
      "Index(['Category', 'Rating', 'Reviews', 'Price', 'platform'], dtype='object')\n",
      "Index(['Category', 'Rating', 'Reviews', 'Price', 'platform'], dtype='object')\n"
     ]
    }
   ],
   "source": [
    "# Create a variable called old_names where you'll store the column names of the Apple dataframe. \n",
    "# Use the feature .columns.\n",
    "old_names = Apple.columns\n",
    "\n",
    "# Create a variable called new_names where you'll store the column names of the Google dataframe. \n",
    "new_names = Google.columns\n",
    "\n",
    "# Use the rename() DataFrame method to change the columns names. \n",
    "\n",
    "# Create a dictionry to map old columns to new\n",
    "col_dict = {i:j for i,j in zip(old_names,new_names)}\n",
    "\n",
    "# Rename the columns appropriately\n",
    "Apple.rename(columns=col_dict, inplace=True)\n",
    "\n",
    "# Check to ensure the column names are the same between datasets\n",
    "print(Apple.columns)\n",
    "print(Google.columns)"
   ]
  },
  {
   "cell_type": "markdown",
   "metadata": {
    "colab_type": "text",
    "id": "qewPiLrRFcvX"
   },
   "source": [
    "### 2d. Join the two datasets \n",
    "Let's combine the two datasets into a single data frame called `df`."
   ]
  },
  {
   "cell_type": "code",
   "execution_count": 17,
   "metadata": {
    "colab": {},
    "colab_type": "code",
    "id": "jq6fGfvyFcvY"
   },
   "outputs": [
    {
     "data": {
      "text/html": [
       "<div>\n",
       "<style scoped>\n",
       "    .dataframe tbody tr th:only-of-type {\n",
       "        vertical-align: middle;\n",
       "    }\n",
       "\n",
       "    .dataframe tbody tr th {\n",
       "        vertical-align: top;\n",
       "    }\n",
       "\n",
       "    .dataframe thead th {\n",
       "        text-align: right;\n",
       "    }\n",
       "</style>\n",
       "<table border=\"1\" class=\"dataframe\">\n",
       "  <thead>\n",
       "    <tr style=\"text-align: right;\">\n",
       "      <th></th>\n",
       "      <th>Category</th>\n",
       "      <th>Rating</th>\n",
       "      <th>Reviews</th>\n",
       "      <th>Price</th>\n",
       "      <th>platform</th>\n",
       "    </tr>\n",
       "  </thead>\n",
       "  <tbody>\n",
       "    <tr>\n",
       "      <th>2901</th>\n",
       "      <td>Games</td>\n",
       "      <td>4.0</td>\n",
       "      <td>1810</td>\n",
       "      <td>7.99</td>\n",
       "      <td>apple</td>\n",
       "    </tr>\n",
       "    <tr>\n",
       "      <th>4201</th>\n",
       "      <td>Games</td>\n",
       "      <td>0.0</td>\n",
       "      <td>0</td>\n",
       "      <td>3.99</td>\n",
       "      <td>apple</td>\n",
       "    </tr>\n",
       "    <tr>\n",
       "      <th>10280</th>\n",
       "      <td>SPORTS</td>\n",
       "      <td>4.9</td>\n",
       "      <td>10</td>\n",
       "      <td>0.00</td>\n",
       "      <td>google</td>\n",
       "    </tr>\n",
       "    <tr>\n",
       "      <th>2742</th>\n",
       "      <td>Games</td>\n",
       "      <td>4.5</td>\n",
       "      <td>842</td>\n",
       "      <td>0.99</td>\n",
       "      <td>apple</td>\n",
       "    </tr>\n",
       "    <tr>\n",
       "      <th>3352</th>\n",
       "      <td>Games</td>\n",
       "      <td>4.5</td>\n",
       "      <td>20147</td>\n",
       "      <td>0.00</td>\n",
       "      <td>apple</td>\n",
       "    </tr>\n",
       "    <tr>\n",
       "      <th>2422</th>\n",
       "      <td>Games</td>\n",
       "      <td>4.0</td>\n",
       "      <td>746</td>\n",
       "      <td>2.99</td>\n",
       "      <td>apple</td>\n",
       "    </tr>\n",
       "    <tr>\n",
       "      <th>3153</th>\n",
       "      <td>TRAVEL_AND_LOCAL</td>\n",
       "      <td>3.9</td>\n",
       "      <td>13275</td>\n",
       "      <td>0.00</td>\n",
       "      <td>google</td>\n",
       "    </tr>\n",
       "    <tr>\n",
       "      <th>124</th>\n",
       "      <td>BEAUTY</td>\n",
       "      <td>3.9</td>\n",
       "      <td>2277</td>\n",
       "      <td>0.00</td>\n",
       "      <td>google</td>\n",
       "    </tr>\n",
       "    <tr>\n",
       "      <th>3327</th>\n",
       "      <td>Games</td>\n",
       "      <td>4.0</td>\n",
       "      <td>2816</td>\n",
       "      <td>0.00</td>\n",
       "      <td>apple</td>\n",
       "    </tr>\n",
       "    <tr>\n",
       "      <th>9908</th>\n",
       "      <td>BUSINESS</td>\n",
       "      <td>3.1</td>\n",
       "      <td>7</td>\n",
       "      <td>0.00</td>\n",
       "      <td>google</td>\n",
       "    </tr>\n",
       "    <tr>\n",
       "      <th>168</th>\n",
       "      <td>Food &amp; Drink</td>\n",
       "      <td>4.0</td>\n",
       "      <td>299</td>\n",
       "      <td>1.99</td>\n",
       "      <td>apple</td>\n",
       "    </tr>\n",
       "    <tr>\n",
       "      <th>3560</th>\n",
       "      <td>Photo &amp; Video</td>\n",
       "      <td>4.0</td>\n",
       "      <td>34</td>\n",
       "      <td>1.99</td>\n",
       "      <td>apple</td>\n",
       "    </tr>\n",
       "  </tbody>\n",
       "</table>\n",
       "</div>"
      ],
      "text/plain": [
       "               Category  Rating  Reviews  Price platform\n",
       "2901              Games     4.0     1810   7.99    apple\n",
       "4201              Games     0.0        0   3.99    apple\n",
       "10280            SPORTS     4.9       10   0.00   google\n",
       "2742              Games     4.5      842   0.99    apple\n",
       "3352              Games     4.5    20147   0.00    apple\n",
       "2422              Games     4.0      746   2.99    apple\n",
       "3153   TRAVEL_AND_LOCAL     3.9    13275   0.00   google\n",
       "124              BEAUTY     3.9     2277   0.00   google\n",
       "3327              Games     4.0     2816   0.00    apple\n",
       "9908           BUSINESS     3.1        7   0.00   google\n",
       "168        Food & Drink     4.0      299   1.99    apple\n",
       "3560      Photo & Video     4.0       34   1.99    apple"
      ]
     },
     "execution_count": 17,
     "metadata": {},
     "output_type": "execute_result"
    }
   ],
   "source": [
    "# Let's use the append() method to append Apple to Google. \n",
    "df = Google.append(Apple)\n",
    "\n",
    "# Using the sample() method with the number 12 passed to it, check 12 random points of your dataset.\n",
    "df.sample(n=12)"
   ]
  },
  {
   "cell_type": "markdown",
   "metadata": {
    "colab_type": "text",
    "id": "FjqsHugWFcvb"
   },
   "source": [
    "### 2e. Eliminate the NaN values\n",
    "\n",
    "As you can see there are some `NaN` values. We want to eliminate all these `NaN` values from the table."
   ]
  },
  {
   "cell_type": "code",
   "execution_count": 18,
   "metadata": {
    "colab": {},
    "colab_type": "code",
    "id": "Gp2q6GLyFcvb"
   },
   "outputs": [
    {
     "name": "stdout",
     "output_type": "stream",
     "text": [
      "(18037, 5)\n",
      "(16563, 5)\n"
     ]
    }
   ],
   "source": [
    "# Lets check first the dimesions of df before droping `NaN` values. Use the .shape feature. \n",
    "print(df.shape)\n",
    "\n",
    "# Use the dropna() method to eliminate all the NaN values, and overwrite the same dataframe with the result. \n",
    "df = df.dropna()\n",
    "\n",
    "# Check the new dimesions of our dataframe. \n",
    "print(df.shape)"
   ]
  },
  {
   "cell_type": "markdown",
   "metadata": {
    "colab_type": "text",
    "id": "qtfeQKtAFcvd"
   },
   "source": [
    "### 2f. Filter the data so that we only see whose apps that have been reviewed at least once\n",
    "\n",
    "Apps that haven't been reviewed yet can't help us solve our brief. \n",
    "\n",
    "So let's check to see if any apps have no reviews at all. "
   ]
  },
  {
   "cell_type": "code",
   "execution_count": 19,
   "metadata": {
    "colab": {},
    "colab_type": "code",
    "id": "Ge9OKXLNFcvd"
   },
   "outputs": [
    {
     "data": {
      "text/plain": [
       "Category    929\n",
       "Rating      929\n",
       "Reviews     929\n",
       "Price       929\n",
       "platform    929\n",
       "dtype: int64"
      ]
     },
     "execution_count": 19,
     "metadata": {},
     "output_type": "execute_result"
    }
   ],
   "source": [
    "# Subset your df to pick out just those rows whose value for 'Reviews' is equal to 0. \n",
    "# Do a count() on the result. \n",
    "df[df['Reviews'] == 0].count()"
   ]
  },
  {
   "cell_type": "markdown",
   "metadata": {
    "colab_type": "text",
    "id": "05f7H0kAFcvg"
   },
   "source": [
    "929 apps do not have reviews, we need to eliminate these points!"
   ]
  },
  {
   "cell_type": "code",
   "execution_count": 20,
   "metadata": {
    "colab": {},
    "colab_type": "code",
    "id": "pD8vmPjkFcvg"
   },
   "outputs": [],
   "source": [
    "# Eliminate the points that have 0 reviews.\n",
    "df = df[df['Reviews'] != 0]"
   ]
  },
  {
   "cell_type": "markdown",
   "metadata": {
    "colab_type": "text",
    "id": "ApnKES_bFcvi"
   },
   "source": [
    "### 2g. Summarize the data visually and analytically (by the column `platform`)"
   ]
  },
  {
   "cell_type": "markdown",
   "metadata": {
    "colab_type": "text",
    "id": "2smt9UocFcvj"
   },
   "source": [
    "What we need to solve our brief is a summary of the `Rating` column, but separated by the different platforms."
   ]
  },
  {
   "cell_type": "code",
   "execution_count": 21,
   "metadata": {
    "colab": {},
    "colab_type": "code",
    "id": "Vqckt347Fcvj"
   },
   "outputs": [
    {
     "data": {
      "text/html": [
       "<div>\n",
       "<style scoped>\n",
       "    .dataframe tbody tr th:only-of-type {\n",
       "        vertical-align: middle;\n",
       "    }\n",
       "\n",
       "    .dataframe tbody tr th {\n",
       "        vertical-align: top;\n",
       "    }\n",
       "\n",
       "    .dataframe thead th {\n",
       "        text-align: right;\n",
       "    }\n",
       "</style>\n",
       "<table border=\"1\" class=\"dataframe\">\n",
       "  <thead>\n",
       "    <tr style=\"text-align: right;\">\n",
       "      <th></th>\n",
       "      <th>count</th>\n",
       "      <th>mean</th>\n",
       "      <th>std</th>\n",
       "      <th>min</th>\n",
       "      <th>25%</th>\n",
       "      <th>50%</th>\n",
       "      <th>75%</th>\n",
       "      <th>max</th>\n",
       "    </tr>\n",
       "    <tr>\n",
       "      <th>platform</th>\n",
       "      <th></th>\n",
       "      <th></th>\n",
       "      <th></th>\n",
       "      <th></th>\n",
       "      <th></th>\n",
       "      <th></th>\n",
       "      <th></th>\n",
       "      <th></th>\n",
       "    </tr>\n",
       "  </thead>\n",
       "  <tbody>\n",
       "    <tr>\n",
       "      <th>apple</th>\n",
       "      <td>6268.0</td>\n",
       "      <td>4.049697</td>\n",
       "      <td>0.726943</td>\n",
       "      <td>1.0</td>\n",
       "      <td>4.0</td>\n",
       "      <td>4.5</td>\n",
       "      <td>4.5</td>\n",
       "      <td>5.0</td>\n",
       "    </tr>\n",
       "    <tr>\n",
       "      <th>google</th>\n",
       "      <td>9366.0</td>\n",
       "      <td>4.191757</td>\n",
       "      <td>0.515219</td>\n",
       "      <td>1.0</td>\n",
       "      <td>4.0</td>\n",
       "      <td>4.3</td>\n",
       "      <td>4.5</td>\n",
       "      <td>5.0</td>\n",
       "    </tr>\n",
       "  </tbody>\n",
       "</table>\n",
       "</div>"
      ],
      "text/plain": [
       "           count      mean       std  min  25%  50%  75%  max\n",
       "platform                                                     \n",
       "apple     6268.0  4.049697  0.726943  1.0  4.0  4.5  4.5  5.0\n",
       "google    9366.0  4.191757  0.515219  1.0  4.0  4.3  4.5  5.0"
      ]
     },
     "execution_count": 21,
     "metadata": {},
     "output_type": "execute_result"
    }
   ],
   "source": [
    "# To summarize analytically, let's use the groupby() method on our df.\n",
    "df.groupby('platform')['Rating'].describe()"
   ]
  },
  {
   "cell_type": "markdown",
   "metadata": {
    "colab_type": "text",
    "id": "8f9TqMtKFcvl"
   },
   "source": [
    "Interesting! Our means of 4.049697 and 4.191757 don't **seem** all that different! Perhaps we've solved our brief already: there's no significant difference between Google Play app reviews and Apple Store app reviews. We have an ***observed difference*** here: which is simply (4.191757 - 4.049697) = 0.14206. This is just the actual difference that we observed between the mean rating for apps from Google Play, and the mean rating for apps from the Apple Store. Let's look at how we're going to use this observed difference to solve our problem using a statistical test. \n",
    "\n",
    "**Outline of our method:**\n",
    "1. We'll assume that platform (i.e, whether the app was Google or Apple) really doesn’t impact on ratings. \n",
    "\n",
    "\n",
    "2. Given this assumption, we should actually be able to get a difference in mean rating for Apple apps and mean rating for Google apps that's pretty similar to the one we actually got (0.14206) just by: \n",
    "a. shuffling the ratings column, \n",
    "b. keeping the platform column the same,\n",
    "c. calculating the difference between the mean rating for Apple and the mean rating for Google. \n",
    "\n",
    "\n",
    "3. We can make the shuffle more useful by doing it many times, each time calculating the mean rating for Apple apps and the mean rating for Google apps, and the difference between these means. \n",
    "\n",
    "\n",
    "4. We can then take the mean of all these differences, and this will be called our permutation difference. This permutation difference will be great indicator of what the difference would be if our initial assumption were true and platform really doesn’t impact on ratings. \n",
    "\n",
    "\n",
    "5. Now we do a comparison. If the observed difference looks just like the permutation difference, then we stick with the claim that actually, platform doesn’t impact on ratings. If instead, however, the permutation difference differs significantly from the observed difference, we'll conclude: something's going on; the platform does in fact impact on ratings. \n",
    "\n",
    "\n",
    "6. As for what the definition of *significantly* is, we'll get to that. But there’s a brief summary of what we're going to do. Exciting!\n",
    "\n",
    "If you want to look more deeply at the statistics behind this project, check out [this resource](https://www.springboard.com/archeio/download/4ea4d453b0b84014bcef287c50f47f00/)."
   ]
  },
  {
   "cell_type": "markdown",
   "metadata": {
    "colab_type": "text",
    "id": "d6EhTxArFcvm"
   },
   "source": [
    "Let's also get a **visual summary** of the `Rating` column, separated by the different platforms. \n",
    "\n",
    "A good tool to use here is the boxplot!"
   ]
  },
  {
   "cell_type": "code",
   "execution_count": 22,
   "metadata": {
    "colab": {},
    "colab_type": "code",
    "id": "hFKjrlWgFcvm"
   },
   "outputs": [
    {
     "data": {
      "image/png": "[encoded data removed]",
      "text/plain": [
       "<Figure size 864x360 with 2 Axes>"
      ]
     },
     "metadata": {
      "needs_background": "light"
     },
     "output_type": "display_data"
    },
    {
     "name": "stdout",
     "output_type": "stream",
     "text": [
      "Mean Apple Store Rating:  4.05\n",
      "Mean Google Play Store Rating:  4.19\n"
     ]
    }
   ],
   "source": [
    "# Call the boxplot() method on our df.\n",
    "\n",
    "df_apple_rtg = df.loc[df['platform']=='apple','Rating']\n",
    "df_google_rtg = df.loc[df['platform']=='google','Rating']\n",
    "\n",
    "fig, axes = plt.subplots(nrows=1, ncols=2, figsize=(12, 5))\n",
    "\n",
    "axes[0].boxplot(df_apple_rtg)\n",
    "axes[0].set_title('Apple Ratings')\n",
    "axes[0].set_ylabel('Rating')\n",
    "\n",
    "axes[1].boxplot(df_google_rtg)\n",
    "axes[1].set_title('Google Ratings')\n",
    "axes[1].set_ylabel('Rating')\n",
    "\n",
    "plt.show()\n",
    "\n",
    "print('Mean Apple Store Rating: ',np.round(np.mean(df_apple_rtg),2))\n",
    "print('Mean Google Play Store Rating: ',np.round(np.mean(df_google_rtg),2))"
   ]
  },
  {
   "cell_type": "markdown",
   "metadata": {
    "colab_type": "text",
    "id": "FqTlAjnmFcvo"
   },
   "source": [
    "Here we see the same information as in the analytical summary, but with a boxplot. Can you see how the boxplot is working here? If you need to revise your boxplots, check out this this [link](https://www.kaggle.com/ramamet4/app-store-apple-data-set-10k-apps). "
   ]
  },
  {
   "cell_type": "markdown",
   "metadata": {
    "colab_type": "text",
    "id": "O8L-s1fgFcvp"
   },
   "source": [
    "## Stage 3 - Modelling"
   ]
  },
  {
   "cell_type": "markdown",
   "metadata": {
    "colab_type": "text",
    "id": "5fbRq2MZFcvq"
   },
   "source": [
    "### 3a. Hypothesis formulation\n",
    "\n",
    "Our **Null hypothesis** is just:\n",
    "\n",
    "**H<sub>null</sub>**: the observed difference in the mean rating of Apple Store and Google Play apps is due to chance (and thus not due to the platform).\n",
    "\n",
    "The more interesting hypothesis is called the **Alternate hypothesis**:\n",
    "\n",
    "**H<sub>alternative</sub>**: the observed difference in the average ratings of apple and google users is not due to chance (and is actually due to platform)\n",
    "\n",
    "We're also going to pick a **significance level** of 0.05. "
   ]
  },
  {
   "cell_type": "markdown",
   "metadata": {
    "colab_type": "text",
    "id": "TjBqkabaFcvq"
   },
   "source": [
    "### 3b. Getting the distribution of the data\n",
    "Now that the hypotheses and significance level are defined, we can select a statistical test to determine which hypothesis to accept. \n",
    "\n",
    "There are many different statistical tests, all with different assumptions. You'll generate an excellent judgement about when to use which statistical tests over the Data Science Career Track course. But in general, one of the most important things to determine is the **distribution of the data**.   "
   ]
  },
  {
   "cell_type": "code",
   "execution_count": 23,
   "metadata": {
    "colab": {},
    "colab_type": "code",
    "id": "bFwVhkeWFcvr"
   },
   "outputs": [],
   "source": [
    "# Create a subset of the column 'Rating' by the different platforms.\n",
    "# Call the subsets 'apple' and 'google' \n",
    "\n",
    "apple = df.loc[df['platform']=='apple','Rating']\n",
    "google = df.loc[df['platform']=='google','Rating']"
   ]
  },
  {
   "cell_type": "code",
   "execution_count": 24,
   "metadata": {
    "colab": {},
    "colab_type": "code",
    "id": "oPPFpwPvFcvu"
   },
   "outputs": [
    {
     "name": "stdout",
     "output_type": "stream",
     "text": [
      "NormaltestResult(statistic=1778.9974234584017, pvalue=0.0)\n"
     ]
    }
   ],
   "source": [
    "# Using the stats.normaltest() method, get an indication of whether the apple data are normally distributed\n",
    "# Save the result in a variable called apple_normal, and print it out\n",
    "apple_normal = stats.normaltest(apple)\n",
    "\n",
    "print(apple_normal)"
   ]
  },
  {
   "cell_type": "code",
   "execution_count": 25,
   "metadata": {
    "colab": {},
    "colab_type": "code",
    "id": "rCdh8a8KFcvw"
   },
   "outputs": [
    {
     "name": "stdout",
     "output_type": "stream",
     "text": [
      "NormaltestResult(statistic=3678.6157187516856, pvalue=0.0)\n"
     ]
    }
   ],
   "source": [
    "# Do the same with the google data. \n",
    "google_normal = stats.normaltest(google)\n",
    "\n",
    "print(google_normal)"
   ]
  },
  {
   "cell_type": "markdown",
   "metadata": {
    "colab_type": "text",
    "id": "9gDqu21yFcv0"
   },
   "source": [
    "Since the null hypothesis of the normaltest() is that the data are normally distributed, the lower the p-value in the result of this test, the more likely the data are to be non-normal. \n",
    "\n",
    "Since the p-values is 0 for both tests, regardless of what we pick for the significance level, our conclusion is that the data are not normally distributed. \n",
    "\n",
    "We can actually also check out the distribution of the data visually with a histogram. A normal distribution has the following visual characteristics:\n",
    "    - symmetric\n",
    "    - unimodal (one hump)\n",
    "As well as a roughly identical mean, median and mode. "
   ]
  },
  {
   "cell_type": "code",
   "execution_count": 26,
   "metadata": {
    "colab": {},
    "colab_type": "code",
    "id": "P9tT9RjNFcv1"
   },
   "outputs": [
    {
     "data": {
      "image/png": "[encoded data removed]",
      "text/plain": [
       "<Figure size 432x288 with 1 Axes>"
      ]
     },
     "metadata": {
      "needs_background": "light"
     },
     "output_type": "display_data"
    }
   ],
   "source": [
    "# Create a histogram of the apple reviews distribution\n",
    "\n",
    "plt.hist(apple)\n",
    "plt.title('Apple Store Ratings Distribution')\n",
    "plt.xlabel('Rating')\n",
    "plt.ylabel('Count')\n",
    "\n",
    "plt.show()"
   ]
  },
  {
   "cell_type": "code",
   "execution_count": 27,
   "metadata": {
    "colab": {},
    "colab_type": "code",
    "id": "8dE1uC5iFcv2"
   },
   "outputs": [
    {
     "data": {
      "image/png": "[encoded data removed]",
      "text/plain": [
       "<Figure size 432x288 with 1 Axes>"
      ]
     },
     "metadata": {
      "needs_background": "light"
     },
     "output_type": "display_data"
    }
   ],
   "source": [
    "# Create a histogram of the google data\n",
    "\n",
    "plt.hist(google)\n",
    "plt.title('Google Play Store Ratings Distribution')\n",
    "plt.xlabel('Rating')\n",
    "plt.ylabel('Count')\n",
    "\n",
    "plt.show()"
   ]
  },
  {
   "cell_type": "markdown",
   "metadata": {
    "colab_type": "text",
    "id": "QhZV89FzFcv5"
   },
   "source": [
    "### 3c. Permutation test\n",
    "Since the data aren't normally distributed, we're using a *non-parametric* test here. This is simply a label for statistical tests used when the data aren't normally distributed. These tests are extraordinarily powerful due to how few assumptions we need to make.  \n",
    "\n",
    "Check out more about permutations [here.](http://rasbt.github.io/mlxtend/user_guide/evaluate/permutation_test/)"
   ]
  },
  {
   "cell_type": "code",
   "execution_count": 28,
   "metadata": {
    "colab": {},
    "colab_type": "code",
    "id": "bxNhQgpqFcv6"
   },
   "outputs": [
    {
     "data": {
      "text/html": [
       "<div>\n",
       "<style scoped>\n",
       "    .dataframe tbody tr th:only-of-type {\n",
       "        vertical-align: middle;\n",
       "    }\n",
       "\n",
       "    .dataframe tbody tr th {\n",
       "        vertical-align: top;\n",
       "    }\n",
       "\n",
       "    .dataframe thead th {\n",
       "        text-align: right;\n",
       "    }\n",
       "</style>\n",
       "<table border=\"1\" class=\"dataframe\">\n",
       "  <thead>\n",
       "    <tr style=\"text-align: right;\">\n",
       "      <th></th>\n",
       "      <th>count</th>\n",
       "      <th>mean</th>\n",
       "      <th>std</th>\n",
       "      <th>min</th>\n",
       "      <th>25%</th>\n",
       "      <th>50%</th>\n",
       "      <th>75%</th>\n",
       "      <th>max</th>\n",
       "    </tr>\n",
       "    <tr>\n",
       "      <th>platform</th>\n",
       "      <th></th>\n",
       "      <th></th>\n",
       "      <th></th>\n",
       "      <th></th>\n",
       "      <th></th>\n",
       "      <th></th>\n",
       "      <th></th>\n",
       "      <th></th>\n",
       "    </tr>\n",
       "  </thead>\n",
       "  <tbody>\n",
       "    <tr>\n",
       "      <th>apple</th>\n",
       "      <td>6268.0</td>\n",
       "      <td>4.134429</td>\n",
       "      <td>0.611993</td>\n",
       "      <td>1.0</td>\n",
       "      <td>4.0</td>\n",
       "      <td>4.3</td>\n",
       "      <td>4.5</td>\n",
       "      <td>5.0</td>\n",
       "    </tr>\n",
       "    <tr>\n",
       "      <th>google</th>\n",
       "      <td>9366.0</td>\n",
       "      <td>4.135052</td>\n",
       "      <td>0.613627</td>\n",
       "      <td>1.0</td>\n",
       "      <td>4.0</td>\n",
       "      <td>4.3</td>\n",
       "      <td>4.5</td>\n",
       "      <td>5.0</td>\n",
       "    </tr>\n",
       "  </tbody>\n",
       "</table>\n",
       "</div>"
      ],
      "text/plain": [
       "           count      mean       std  min  25%  50%  75%  max\n",
       "platform                                                     \n",
       "apple     6268.0  4.134429  0.611993  1.0  4.0  4.3  4.5  5.0\n",
       "google    9366.0  4.135052  0.613627  1.0  4.0  4.3  4.5  5.0"
      ]
     },
     "execution_count": 28,
     "metadata": {},
     "output_type": "execute_result"
    }
   ],
   "source": [
    "# Create a column called `Permutation1`, and assign to it the result of permuting (shuffling) the Rating column\n",
    "# This assignment will use our numpy object's random.permutation() method\n",
    "df['Permutation1'] = np.random.permutation(df[['Rating']])\n",
    "\n",
    "# Call the describe() method on our permutation grouped by 'platform'. \n",
    "df.groupby('platform')['Permutation1'].describe()"
   ]
  },
  {
   "cell_type": "code",
   "execution_count": 29,
   "metadata": {
    "colab": {},
    "colab_type": "code",
    "id": "AaGNfPGTFcv7"
   },
   "outputs": [
    {
     "data": {
      "text/html": [
       "<div>\n",
       "<style scoped>\n",
       "    .dataframe tbody tr th:only-of-type {\n",
       "        vertical-align: middle;\n",
       "    }\n",
       "\n",
       "    .dataframe tbody tr th {\n",
       "        vertical-align: top;\n",
       "    }\n",
       "\n",
       "    .dataframe thead th {\n",
       "        text-align: right;\n",
       "    }\n",
       "</style>\n",
       "<table border=\"1\" class=\"dataframe\">\n",
       "  <thead>\n",
       "    <tr style=\"text-align: right;\">\n",
       "      <th></th>\n",
       "      <th>count</th>\n",
       "      <th>mean</th>\n",
       "      <th>std</th>\n",
       "      <th>min</th>\n",
       "      <th>25%</th>\n",
       "      <th>50%</th>\n",
       "      <th>75%</th>\n",
       "      <th>max</th>\n",
       "    </tr>\n",
       "    <tr>\n",
       "      <th>platform</th>\n",
       "      <th></th>\n",
       "      <th></th>\n",
       "      <th></th>\n",
       "      <th></th>\n",
       "      <th></th>\n",
       "      <th></th>\n",
       "      <th></th>\n",
       "      <th></th>\n",
       "    </tr>\n",
       "  </thead>\n",
       "  <tbody>\n",
       "    <tr>\n",
       "      <th>apple</th>\n",
       "      <td>6268.0</td>\n",
       "      <td>4.049697</td>\n",
       "      <td>0.726943</td>\n",
       "      <td>1.0</td>\n",
       "      <td>4.0</td>\n",
       "      <td>4.5</td>\n",
       "      <td>4.5</td>\n",
       "      <td>5.0</td>\n",
       "    </tr>\n",
       "    <tr>\n",
       "      <th>google</th>\n",
       "      <td>9366.0</td>\n",
       "      <td>4.191757</td>\n",
       "      <td>0.515219</td>\n",
       "      <td>1.0</td>\n",
       "      <td>4.0</td>\n",
       "      <td>4.3</td>\n",
       "      <td>4.5</td>\n",
       "      <td>5.0</td>\n",
       "    </tr>\n",
       "  </tbody>\n",
       "</table>\n",
       "</div>"
      ],
      "text/plain": [
       "           count      mean       std  min  25%  50%  75%  max\n",
       "platform                                                     \n",
       "apple     6268.0  4.049697  0.726943  1.0  4.0  4.5  4.5  5.0\n",
       "google    9366.0  4.191757  0.515219  1.0  4.0  4.3  4.5  5.0"
      ]
     },
     "execution_count": 29,
     "metadata": {},
     "output_type": "execute_result"
    }
   ],
   "source": [
    "# Lets compare with the previous analytical summary:\n",
    "df.groupby('platform')['Rating'].describe()"
   ]
  },
  {
   "cell_type": "code",
   "execution_count": 30,
   "metadata": {
    "colab": {},
    "colab_type": "code",
    "id": "aJPNpX0JFcv-",
    "scrolled": true
   },
   "outputs": [
    {
     "name": "stdout",
     "output_type": "stream",
     "text": [
      "[0.0002287190384739901, -0.00381918822457461, -0.0032066759413487134, -0.015962910013683107, -0.011808478875316553, -0.0027006875334540936, 0.009389772317999423, 0.00824464065805941, -0.010876394966051528, 0.0087239980970919, -0.007627416768088757, 0.016420348090641745, -0.007627416768086093, -0.0018751274995398859, -0.006881749640673007, -0.009651370399601511, -0.001848496530708843, -0.014631361571909807, -0.0037392953180628297, 0.032558715205142086, -0.023792414851422805, 0.01642034809064885, 0.010641427853275154, -0.00493768891567381, -0.0053105224793830175, 0.001347219729572302, 0.004196733395012586, 0.002598875264868461, -0.004564855351986807, -0.0010229364968052934, -0.008080143238301751, 0.0041701024261868724, -0.013912325413330429, 0.016154038402294013, -0.017667292019185155, -0.0004370551824148805, 0.0014803745737665963, -0.013113396348271245, -0.0021680681567470828, -0.00323330691018775, 0.010801213666285392, 0.026620009154742164, -0.015909648075999705, -0.0032599378790232336, -0.0011560913409844886, 0.006673413496741887, -0.019291781118169204, -0.0035262475673736304, -0.007494261923903345, -0.006615439952338598, -0.005630094105399941, -0.00014411452523610535, 0.0008146003528617385, -0.00043705518242198593, -0.007281214173217698, 0.0018532081374571518, -0.0028338423776457233, 0.0021195178258004432, 0.01037511816491854, 0.0072060328734480095, -0.0019017584683886923, -0.001395770060506507, 0.004223364363851623, 0.010455011071418774, 0.012905060204339236, 0.0028385539843958085, -0.0012626152163397464, -0.008000250331781089, 0.012532226640618482, 0.002518982358354016, 0.01125394013650105, -0.006535547045815271, -0.008932334241030127, -0.009598108461941202, -0.0020349133125678875, 0.005421757961467044, 0.0030516017350796787, 0.010455011071429432, -0.007014904484860196, 0.003584221111783137, 0.004542935989865882, 0.007498973530647213, -0.0065621780146400965, -0.0009430435902917367, 6.89332254646402e-05, -0.0017686036242219316, 0.014822489960496732, 0.019482909506758794, -0.0007033648707777118, -0.0012359842475140326, 0.004755983740564851, 0.0006814455086905369, 0.013304524736846624, -0.007813833549933591, 0.0020129939504638372, -0.011009549810245822, 0.013970298957750593, -0.006295868326301246, 0.0052619721484541415, 0.00012219516311784417, 0.01040174913374603, 0.012905060204320584, -0.0121546814701734, -0.012287836314349931, -0.0013158771540036085, -0.007813833549946025, -0.002274592032075695, -0.0011028294033046393, -0.008426345833161264, 0.002865184953214417, -0.005443677323548002, 0.006966354153927767, -0.0004370551824157687, -0.0019816513748933673, -0.0072545832043671155, 0.016473610028311825, -0.0058165108872492155, 0.006407103808386161, -0.0032066759413291734, 0.010321856227233361, -0.0034463546608582973, 0.010588165915604186, 0.009762605881687314, 0.005634805712142921, -0.01966461468189795, -0.0034463546608600737, 0.01487575189817214, -0.014737885447244636, -0.0020082823437199693, -0.004005605006410562, 0.01311810795499646, -0.006455654139290168, -0.008852441334529892, 0.008564212284096762, 0.004489674052184256, 0.0011608029477319093, -0.0050708437598334655, -0.001235984247496269, 0.01687307456084941, -0.0034197236920325835, 0.02065467213555472, 0.024569424554415242, 0.012692012453639379, -0.0012892461851468084, 0.00331791142344251, -0.008452976801999412, -0.015004195135599474, -0.0016088178111814955, 0.019829112101644064, -0.012873717628729686, 0.002918446890888937, 0.003637483049462098, 0.0038505308001424154, 0.010481642040262251, 0.010348487196090161, -0.002487639782797757, -0.011009549810219177, 0.0027053991401917443, -0.0007832577772841631, 0.0026255062336826285, 0.009735974912858936, -0.013033503441763905, -0.010583454308843443, 0.006620151559063814, 0.006220687026523564, 0.006380472839540907, 0.003344542392254013, 0.0010542790723819806, 0.021506863138283094, -0.002913735284138852, -0.007547523861584082, -0.01614932679555281, -0.015297135792793348, 0.011387094980670476, 0.014423025427962699, -0.008026881300615685, -0.0050442127910068635, -0.01782707783220694, -0.0034463546608538564, 0.00028198097613341133, 0.0025189823583362525, 0.003131494641570143, -0.014897671260255763, 0.012186024045754529, -0.004138759850596863, -0.015323766761635937, 0.006540258652556474, 0.016580133903665306, -0.005124105697517756, 0.019189968849578243, 0.011759928544372578, -0.012341098252026228, 0.007152770935773489, 0.03178641710889618, 0.009789236850524574, 0.006486996714896165, 0.010375118164924757, 0.006300579933030903, -0.010929656903745588, -0.015270504823942765, 0.007632128374828184, -0.0077605716122732815, -0.00325993787901524, 0.00014882613196043337, -0.008745917459188846, 0.004649459865212258, -0.009385060711236903, 0.0136507273317239, -0.011249228529746524, 0.0226253638293743, -0.009731263306113291, -0.012181312439018654, -0.012500884065049789, 0.00366411401830824, -0.0007033648707670537, 0.0035043282052855673, 0.020468255353689457, 0.0017200532932770685, 0.0004683977579871268, -0.01108944271675405, 0.0030516017350601388, 0.0101620704142249, 0.017086122311536833, 0.010162070414224011, -0.012980241504068957, 0.014156715739599868, -0.0007832577772646232, 0.01080121366629605, -0.0013957700604985135, -0.0021946991255727966, 0.006353841870733845, -0.016522160359253135, -0.0016354487800276374, -0.0037659262868929844, 0.0005482906644838081, 0.00038850485150199177, -0.01609606485786319, -0.016202588733228218, -0.02368589097607554, -0.0010229364968097343, -0.0013957700605198298, 0.0038771617689743465, -0.006082820575617376, -0.013060134410595836, -0.00376592628690009, -0.0004104242135971603, -0.018279804302398617, 0.003850530800145968, 0.0010010171347216712, -0.009012227147554341, -0.0016620797488702266, 0.0029717088285448057, 0.0037440069248111385, 0.007472342561807288, -0.008373083895482303, -0.0034996165985434757, -0.00427191469477517, -0.012207943407831934, 0.004303257270349192, -0.0068551186718375234, 0.012132762108089779, 0.013677358300557607, -0.016389005515065946, -0.004857796009167359, 0.0008146003528786139, 0.01088110657279362, 0.006460365746048247, 0.0043831501768600845, -0.014924302229108122, -0.005017581822162498, -0.005150736666339029, -0.010050834932146202, 0.001214064885408206, -0.009704632337290242, -0.0065621780146596365, 0.018630718504022425, -0.003526247567361196, -0.0006501029331138497, 0.01863071850402953, -0.01737435136198684, 0.0017999461997639798, 0.009842498788194654, -0.0017419726553660198, 0.0001754571008261152, 0.010694689790958556, -0.002567532689258911, 0.007445711592964699, 0.01239907179642774, 0.00965608200636936, 0.000974386165888852, -0.007121428360195026, 0.009576189099855803, -0.002993628190659514, 0.012585488578275239, -0.0006501029331067443, 0.007845176125528042, 0.012505595671771452, 0.005821222493987754, -0.010663347215362329, 0.010295225258417418, 0.0045695669587138, -0.0074143690173968935, -0.016841731985268282, -0.004325176632437255, 0.005341865054941941, -0.009544846524261352, 0.008910414878942952, -0.010024203963316047, -0.001715341686545635, -0.0032865688478533883, 0.002332565576507406, 4.230225662027465e-05, -0.013273182161260166, -0.006295868326286147, -0.005949665731440845, -0.0017419726553695725, -0.01282045569106316, 0.0007879693840218138, -0.012287836314356149, 0.017325801031065957, 0.015088799648859563, -0.006828487703008257, 0.013917037020067191, 0.007978330969690361, 0.015035537711173497, -0.0021148062190583516, -0.0014490319981899091, -0.0039523430687351535, -0.02102279409251029, -0.005709987011896622, 0.004489674052218007, 0.01628719324645811, 0.011680035637863462, 0.004862507615907674, -0.0029403662529885466, -0.009438322648915864, 0.014689335116313984, -0.002753949471129502, 0.011253940136497498, -0.006136082513269692, 0.006087532182350586, 0.004542935989868546, 0.0060076392758450226, 0.0011341719788866556, 0.001347219729591842, 0.01367735830056116, -0.007494261923906009, 0.0008678622905398115, -0.00810677420714434, -0.007121428360208348, -0.0031534140036759695, -0.012580776971544694, 0.0027053991402015143, 0.01679318165435273, -0.009997572994464576, 0.00925661747380424, -0.02656203561034598, 0.002652137202526106, -0.007973619362960704, 0.014050191864252604, -0.005496939261236733, 0.0025988752648551383, 0.0020129939504647254, 0.0007613384151632374, 0.00909683166080999, -0.005789879918411955, -0.0064023922016200885, 0.002252672669996514, -0.0030202591594923334, 0.008750629065928273, -0.005763248949555155, 0.007498973530649877, -0.005709987011928597, -0.005869772824930841, -0.010796502059554847, -0.006961642547186564, -0.004671379227329631, -0.002008282343737733, -0.012580776971564234, 0.008510950346415136, 0.012478964702945738, -0.004511593414298964, -0.01063671624654905, 0.006407103808382608, 0.005208710210782286, 0.0051820792419539075, -0.010210620745164434, 0.011520249824855888, 0.0017733152309560296, 0.010881106572805166, -0.0031800449725167823, -0.0036860333803829803, -0.009411691680096368, 0.009016938754307091, 0.0036374830494487753, 0.011626773700192494, -0.00949158458658328, 0.006007639275844134, -0.010450299464671353, -0.020756484404147457, -0.018040125582892585, -0.011222597560911929, 0.0026521372025252177, -0.0016354487800347428, -0.00019737646290796107, -0.0015289249046865905, -0.01780044686336435, 0.0037173759559445685, 0.003957054675493232, -0.0027273185022949065, -0.005896403793766325, 0.01673991971669686, 0.004276626301504827, -0.004644748258480824, 0.001320588760759911, 0.0027852920467026365, 0.008564212284094097, 0.001853208137488238, -0.006322499295134065, 0.0014004816672459341, 6.893322545931113e-05, 0.00017545710080657528, 0.004329888239174018, 0.01098763044814266, -0.0033930927231997643, -0.013486229911944925, 0.010801213666297826, 0.013144738923844379, 0.0004683977579862386, -0.025416903950392644, -0.00520399860402776, -0.0036327714426969138, -0.0046980101961509035, 0.0004151358203223765, -0.0022745920320872415, -0.004032235975223841, 0.023371030956787386, 0.0032646494857555552, 0.0008146003528466395, -0.006322499295141171, -0.012420991158531791, -0.0031534140036821867, 0.00403694758199169, -0.007254583204399978, 0.010987630448144436, 0.00454293598987654, -0.013539491849624774, -0.0024610088139347397, -0.01636237454624112, -0.0019816513748880382, 0.012132762108095996, -0.025177225230867073, 0.015461633212563441, -0.0034996165985230476, 0.013277893768022686, 0.011466987887192026, 0.015035537711189484, 0.0019597320128061924, -0.001182722309808426, 0.004729352771741802, -0.008080143238301751, 0.013331155705690989, -0.021582044438052783, -0.0032865688478347366, 0.008697367128248423, 0.015035537711187708, 0.0016667913556238645, 0.0014803745737630436, 0.00241245848300764, 0.01034848719608128, 0.011360464011837657, -0.003952343068747588, 0.009309879411480537, -0.01359275378731617, 0.005954377338167838, -0.0027006875334745217, 0.002146148794655467, -0.005124105697528414, 0.0075522354683341675, -0.005230629572862355, -0.005337153448208731, -0.005949665731419529, 0.0016934223244557955, 0.011413725949513065, 0.000495028726839486, 0.016260562277617296, 0.009150093598471187, 0.008537581315252396, 0.0013205887607590228, -0.002461008813945398, 0.0013472197295989474, -0.024564712947666933, -0.0067752257653479475, -0.013539491849628327, 0.0105349039779421, -0.004458331476625332, -0.017454244268495067, -0.00384581919341187, 0.006593520590246094, 0.0005216596956909569, 0.006327210901875269, -0.014897671260260203, 0.009522927162188388, -0.006775225765343507, 0.01708612231155282, 0.01168003563788833, -0.006082820575604941, 0.0043298882391820115, -0.008958965209882486, 6.893322546552838e-05, -0.006828487703009145, 0.013757251207073828, 0.0089370458477811, -0.02507070135554379, -0.0032865688478525, 0.015168692555344698, 0.014103453801933341, -0.007946988394100352, -0.008080143238303528, 0.010108808476547715, 0.01002891557004748, 0.003690744987120631, -0.002940366253000981, -0.00621597541976282, 0.004223364363852511, -0.015883017107188202, -0.007148059329047385, -0.011701954999979058, -0.009970942025642415, 0.016633395841337162, -0.010450299464681123, -0.006775225765347059, -0.024644605854172497, -0.02110268699900253, 0.009656082006336497, 0.010534903977938548, -0.024458189072320558, 0.0006281835710257866, -0.0005435790577479338, 0.0019331010439751495, -0.007121428360206572, 0.0019331010439485041, -0.02586963042060475, 0.006966354153940202, 0.009336510380300034, 0.02161338701363924, -0.005683356043078014, 0.012186024045757193, -0.008612762615014091, 0.009869129757041684, 0.0015070055426047446, 0.01820462300265202, 0.011972976295058224, -0.0016088178112152463, -0.00922527489824354, 0.01168003563787412, -0.004644748258461284, -0.0039789740375715255, 0.008937045847811298, 0.009176724567312, -0.010743240121886544, 0.01082784463513331, 0.00795170000085843, -0.004431700507811165, 0.012771905360162705, -0.002247961063262416, -0.019211888211661865, -0.009731263306120397, 0.007951700000875306, -0.0131400273170863, -0.015057457073278435, -0.014391682852363807, -0.007174690297871322, -0.008719286490346256, -0.01785370880103354, -0.017747184925680948, 0.004995662460089534, 0.00922998650497675, -0.01047693043353437, 0.008058223876206583, -0.005630094105407046, -0.00680185673416922, -0.00041042421356252135, -0.003686033380405185, -0.005310522479391011, 0.01290506020432769, 0.0010010171347181185, -0.002674056564619498, 0.014423025427968916, 0.006992985122771245, -0.0006767339019395635, 0.015754573869751987, 0.0027852920467204, 0.0021195178258270886, -0.01082313302838589, -0.006801856734186984, 0.012558857609441532, 0.01162677370019427, 0.0007613384151952118, -0.02041028180927995, 0.001640160386759959, -0.000650102933095198, -0.00911875102289006, -0.0005968409954366649, -0.014391682852386012, -0.0010229364967999643, -0.00211480621906901, -0.0012359842475042626, -0.007520892892761921, -0.00475127213381743, 0.01186645241973494, 0.0200155288834738, 0.01721927715572047, -0.005337153448196297, 0.010241963320734904, -0.0023544849385919164, 0.011493618856007082, -0.0036860333803847567, -0.004990950853349219, -0.014231897039360675, 0.0013205887607536937, 0.015035537711179714, -0.006988273516018495, 0.0031847565792411103, 0.020574779229045603, -0.01878579271030212, -0.004271914694768952, -0.004671379227311867, 0.00113417197888932, 0.0024923513895194205, 0.0037440069247898222, -0.01447157575887914, -0.007174690297871322, 0.014902382867002295, 0.003957054675495897, 0.010455011071429432, -0.005230629572872125, 0.019349754662577823, 0.004516305021036615, 0.0010809100412343398, 0.0059810083069979925, -0.0029669972218187013, 0.000841231321700775, 0.0065136276837254314, -0.003419723692010379, 0.012585488578290338, 0.006273948964195419, 0.00028198097614140494, 0.00369074498713573, 0.007765283219010932, -0.009092120054053687, 0.00744571159297891, -0.015669969356501667, -0.02046354374695447, -0.00997094202563975, -0.0035528785362144433, 0.01828451590915492, -0.004618117289637347, -0.0045115934143042935, -0.011568800155781211, 0.007472342561802847, -0.009784525243779818, -0.015536814512321584, 0.017512217812914344, -0.003100152066005002, 0.00238582751416061, 0.004010316613157094, 0.004516305021051714, -0.0029403662529832175, -0.009172012960552145, -0.008239929051333306, -0.002700687533454982, 0.013917037020073408, 0.013224631830351719, 0.004063578550821845, -0.008506238739683702, 0.016180669371131273, -0.004564855351955721, -0.0037392953180725996, -0.007414369017404887, 0.016979598436197563, 0.00869736712824043, 0.007365818686465353, 0.008510950346412471, 0.01583446677624689, 0.002625506233689734, -0.004937688915666705, -0.00411212888176582, -0.005203998604024207, 0.00462282889638832, -0.0012093532786838779, -0.004325176632431038, -0.00890570327218132, 0.0027586610778858045, 0.00672667543441996, -0.0182798043024075, -0.013299813130114302, 0.0021994107323166645, -0.007068166422519617, -0.006721963827659216, -0.005257260541707609, -0.001955020406041008, -0.001715341686530536, 0.013703989269393979, 0.0032912804546034735, -0.013512860880791067, 0.006566889621375971, 0.014662704147482053, 0.009203355536145708, 0.005235341179605335, 0.014929013835837779, 0.012931691173151627, 0.013251262799170327, 0.011120785292320967, -0.019424935962354617, 0.006726675434399532, 0.016180669371116174, -0.00070336487078837, 0.013917037020084955, 0.009496296193353793, -0.0014224010293411027, -0.008985596178701094, 0.0063804728395426835, 0.0055282818368205255, 0.015834466776240674, 0.0076054974060077996, -0.017267827486669773, -0.0009430435902970657, -0.0019550204060641008, 0.025821080089693638, 0.0070995089981114035, 0.011573511762502875, -0.00805351226945561, -0.00456485535196105, -0.00781383354995846, -0.005044212791001534, 0.017938313314270538, -0.01066334721538098, 0.0011075410100351846, 0.006327210901855729, 0.005368496023780089, 0.0029450778597261973, -0.006402392201636076, -0.014924302229098352, 0.015568157087900936, -0.0016887107176959404, -0.01079650205955307, 0.012319178889939053, -0.007600785799252385, -0.011994895657165827, -0.021688568313376066, 0.01436976349028729, 0.015541526119061011, 0.0052886031172807435, -0.0019283894372099653, 0.013703989269391315, -0.01471125447840027, -0.007654047736915359, -0.00930516780474111, 0.014263239614946244, -0.004964319884526169, 0.0007347074463615044, 0.0038771617689903337, -0.008452976801979872, 0.005288603117299395, -0.005257260541701392, 0.0051554482730828965, 0.00241245848301741, -0.01074324012187411, 0.022359054141029233, -0.017400982330834758, 0.004915769553568872, -0.015430290636973432, -0.011116073685572658, 0.019935635976982446, -0.005417046354705413, -0.0073611070797188205, 0.011067523354652664, 0.01226591695225654, 0.002305934607670146, -0.0005702100265798649, -0.023579367100719395, -0.00890570327221063, -0.009331798773579258, 0.002945077859715539, 0.01290506020431259, -0.006269237357477309, -0.0057632489495658135, 0.005235341179609776, 0.014263239614947132, -0.01588301710720419, -0.0049909508533438895, -0.014817778353766187, -0.008026881300619237, 0.0011341719788902083, -0.005070843759849453, -0.004138759850579099, 0.00962945103750723, -0.009065489085223533, 0.007365818686484005, -0.017986863645202966, 0.00044176678915430756, -0.0054170463547196235, 0.002119517825829753, 0.00920335553615459, -0.004032235975254039, -0.0015821868423495644, 0.025102043931122253, 0.004915769553572424, 0.0077120212813488465, 0.003903792737817824, 0.010668058822093762, 0.012132762108090667, 0.005421757961452833, 0.01439639445912988, 0.0163937171218258, -0.017747184925682724, -0.0015555558735220743, 0.001347219729571414, 0.010588165915605074, 0.005288603117289625, 0.01764537265709709, -0.0025941636581068295, 0.0003885048515055445, 0.007951700000854878, 0.014103453801936006, -0.016042802920205546, -0.0003305313070649518, 0.008830521972458705, 0.022412316078698424, -0.002008282343722634, -0.010716609153053724, -0.02613594010897735, -0.020490174715775744, 0.0014004816672485987, 0.004303257270353633, -0.01598954098253369, -0.004618117289624912, 0.006460365746051799, 0.004969031491248721, -0.0011560913409889295, -0.004032235975259368, -0.004777903102658243, 0.007498973530659647, 0.01375725120703919, 0.002332565576506518, 0.0004950287268261633, 0.0010809100412121353, 0.005022293428927682, 0.0035043282052802383, 0.000761338415211199, -0.0015821868423584462, -0.009198643929388517, 0.0010010171347145658, 0.017938313314280308, 0.011972976295068882, 0.007791914187826876, -0.008080143238294646, 0.008723998097083907, -0.004138759850582652, -0.00017074549407336548, 0.008617474221764176, 0.008218009689220374, 0.022971566424262235, -6.422161873853582e-05, -0.004431700507782743, -0.011994895657146287, 0.008963676816632571, 0.004676090834064617, 0.009629451037504566, -0.0008365197149551307, -0.004618117289629353, 0.00366411401830824, -0.001928389437218847, 0.01602088355811926, -0.0022479610632659686, -0.009757894274928347, -0.006695332858832614, 0.004116840488499918, 0.012798536328984866, -0.006801856734182543, -0.010450299464669577, 0.023104721268420114, -0.008160036144802874, -0.0047246411649704, 0.0035842211117804723, 0.0010542790723899742, -0.005283891510527994, -0.011968264688314356, 0.0026787681713660305, -0.004538224383146883, 0.007632128374830849, 0.005501650867960173, -0.002088175250223756, 0.004755983740574621, -0.01705477973595837, 0.003078232703903616, 0.008617474221750854, -0.00560346313655824, 0.0031314946416047817, -0.007733940643422699, -0.01271393181569902, -0.008053512269453833, 0.0021195178258155423, 0.015514895150226415, -0.015616707418833364, -0.01090302593490744, -0.0037659262868894317, 0.004995662460098416, 0.003291280454591927, 0.005901115400490653, 0.017911682345444824, -0.001768603624204168, -0.013299813130121407, -0.0050175818221802615, 0.010108808476543274, -0.007867095487600118, -0.0035795095050463743, 0.002305934607665705, -0.004192021788271383, -0.0017952345930440927, -0.020596698591105245, -0.004937688915680916, -0.0027539494711570356, 0.0023858275141721563, 0.000921124228225878, -0.008985596178700206, -0.020889639248339975, 0.001986362981636347, 0.008191378720366238, 0.02456942455439659, 0.009123462629644585, 0.01964269531976992, 0.01474259705399028, -0.008239929051323536, 0.012958322142003098, -0.019052102398648962, 0.004569566958710247, 0.003211387548086364, 0.00150700554260208, -0.008879072303352942, 0.011440356918332562, 0.005315234086121556, 0.005847853462830344, 0.00893704584778554, 0.0029983397974113757, -0.006881749640688106, 0.007951700000871753, -0.013140027317093406, 0.006486996714886395, -0.02419187938396128, 0.0105082730091004, 0.0020662558881490156, -0.010689978184206694, -0.023712521944927012, 0.004063578550853819, -0.015377028699311346, -0.005470308292377268, 0.013943667988931985, -0.003180044972509677, 0.013011584079671401, 0.0001221951631213969, 0.00869736712825997, -0.024005462602105787, 0.0040902095196875266, -0.0036860333803927503, -0.006215975419806341, -0.009278536835910955, -0.016974886829452807, 0.009522927162164407, -0.02557668976339933, -0.003739295318048619, -0.0013957700605224943, -0.009997572994450366, 0.008723998097092789, 0.0016135294179342452, 0.00768539031250004, 0.0016135294179324688, 0.010055546538883853, -0.009891049119142181, -0.017187934580146447, 0.0039304237066524195, -0.0029936281906506323, -0.00887907230335383, 0.004649459865200711, 0.0003086119449902114, 0.003291280454591927, -0.030716466748726745, 0.02166664895129511, 0.027205890469141458, 0.010881106572785626, 0.003903792737813383, -0.00722795223554229, 0.010082177507725554, 0.0034510662676092707, -0.00025063840055761233, -0.01420526607051098, 0.013624096362875093, -0.0004903171201018353, -0.015616707418814713, -0.01399221831984665, -0.0005968409954295595, -0.0018484965307017376, 0.017059491342695132, 0.0010276481035589313, -0.0022745920320863533, 0.0005482906645193353, 0.024090067115341895, -0.012287836314356149, 0.016100776464633704, -0.004112128881756938, 0.012239285983434378, 0.006833199309741467, -0.011089442716719411, -0.0038724501622109386, -0.020090710183243488, 0.012905060204340124, 0.005901115400465784, 0.003877161768951254, 0.009922391694725086, 0.02150686313826977, -0.0018218655618742474, -0.007787202581103436, -0.02163530637571487, -0.005203998604025095, 0.0023325655765136233, -0.010689978184182714, -0.006961642547201663, 0.004995662460079764, -0.016069433889042806, -0.002860473346451009, -0.01721456554896683, 0.0012140648854073177, -0.010689978184211135, 0.006806568340905095, -0.0022479610632517577, 0.005475019899143341, 0.004649459865221139, 0.0031314946415781364, 0.001773315230948036, -0.006908380609531584, -0.00973126330610441, 0.005022293428916136, -0.019957555339091826, -0.003180044972495466, 0.007765283219016261, -0.011409014342779855, -0.0028072114088111277, -0.015696600325341592, -0.011888371781822116, -0.01891894755445822, 0.01058816591561218, 0.006513627683724543, -0.005709987011914386, 0.01732580103106951, 0.018524194628679602, -0.0062958683262834825, -0.020064079214406227, 0.005554912805640022, -0.0030468901283260408, 0.0031048636727311063, 0.011040892385813628, 0.006220687026551985, 0.013357786674514927, -0.007760571612265288, 0.013810513144721703, 0.0067799373720722755, -0.015377028699297135, 0.012265916952259204, 0.003211387548080147, -0.008346452926657477, -0.005816510887277637, -0.014844409322599006, -0.002940366252980553, 0.006034270244677842, 0.0036641140182922527, 0.002998339797377625, 0.001720053293279733, 0.013331155705682995, -0.009385060711251114, -0.00288710431530248, -0.006349130263965996, -0.0017153416865491877, 0.011706666606703386, 0.01705949134271112, -0.011062811747899914, 0.009602820068671747, -0.003499616598535482, -0.010104096869816281, -0.0005169480889080091, 0.007818545156661472, -0.010290513651656674, 0.019509540475605824, -0.009704632337275143, 0.006913092216259464, -0.009278536835887863, -0.006482285108125652, -0.006455654139315037, -0.0004104242135811731, -0.0004104242135838376, 0.0006281835710382211, 0.0019597320128106333, -0.005923034762599144, 0.0015070055425985274, 0.0046228288963998665, 0.01152024982484079, -0.008133405175960284, 0.003477697236442978, -0.0023811159074398347, -0.01457809963423884, 0.02116066054342891, 0.0001754571007976935, 0.011680035637855468, 0.020654672135537844, -0.010583454308853213, -0.002913735284137964, -0.012953610535240578, -0.019131995305153637, 0.0067266754344137425, -0.0035528785362197723, -1.0959681022271184e-05, -0.00232785396975288, -0.009278536835892304, 0.00028198097616094486, 0.0057945915251664815, -0.0135927537873064, 0.0005216596956731934, 0.004036947581995243, -0.014444944790044545, 0.009895760725875391, 0.008191378720392883, -0.0018218655618955637, -0.003925712099897005, -0.008213298082473841, -0.0052306295728632435, 0.004516305021057043, 0.00278529204671063, 0.008937045847770442, 0.0002553500073139148, -0.009065489085227085, 0.004702721802898324, -0.00520399860402776, 0.004463043083368312, -0.014231897039339358, -0.0005169480889302136, 0.00526197214844526, 0.013996929926578083, 0.00781854515667657, 0.005874484431667604, 0.02470257939858822, 0.01064142785326716, -0.010050834932125774, -0.009704632337275143, -0.0023278539697759726, 0.0037706378936430696, 0.01021533235190386, -0.013566122818480686, 0.01610077646460173, 0.01727253909338522, -0.00698827351604514, -0.0028604733464918652, -0.011728585968797667, -0.01154216918693507, -0.0038458191933994357, 0.015621419025584338, -0.005603463136570674, 0.006992985122762363, -0.004138759850597751, 0.000681445508695866, -0.008666024552682394, -0.006136082513281238, -0.007414369017399558, 0.0015602674802632777, 0.009602820068678852, -0.007813833549945137, 0.0003885048514886691, 0.013038215048506885, -0.002780580439980973, 0.0036641140183100163, 0.002412458483002311, -0.015137349979793768, 0.004676090834034419, -0.013885694444506491, -0.0017952345930396518, -0.011568800155789205, 0.009656082006340938, 0.003610852080630167, 0.0004950287268474796, 0.001134171978893761, -0.006189344450979739, -0.0019283894372073007, 0.0072592948111411815, 0.016340455184129965, 0.0005749216333468254, 0.013837144113568733, -0.0013691390916781288, 0.004463043083368312, 0.008484319377569882, -0.005283891510533323, 0.03623378890449391, 0.013837144113572286, 0.01628719324645367, -6.422161871277865e-05, -0.00696164254721765, 0.0009477551970364928, 0.006034270244673401, -0.015669969356488345, 0.003877161768981452, -0.008932334241059436, 0.01088110657279806, 0.004596197927540402, -0.0038724501622393603, 0.0020662558881321402, -0.011835109844143155, -0.0111160736855771, -0.0006767339019351226, -0.013512860880801725, -0.019078733367471123, -0.005070843759840571, 0.006353841870724963, -0.003472985629672465, 0.0015070055426074092, 0.010215332351897644, -0.020037448245561862, 0.015408371274885369, -0.0005702100266029575, -0.002620794626952083, -0.00962473943076958, 0.003371173361085056, 0.005874484431655169, 0.008138116782697047, 0.009975653632385395, 0.008777260034757539, 0.004143471457332737, -0.017720553956849905, 0.013091476986163642, -0.001049567465649659, 0.01178655951320362, 0.004889138584738717, 0.008431057439919343, -0.010423668495842975, -0.006801856734173661, 0.0059277463693350185, -0.00616271348211761, -0.015323766761636826, 0.0041434714573309606, -0.008160036144784222, -0.006215975419787689, -0.0023012230009333834, -0.02214129478361304, 0.006806568340921082, -0.0006501029330978625, -0.008692655521530313, -0.002674056564634597, 0.009709343944003024, -0.01859937592844485, -0.013379706036623418, 0.01958943338211494, 0.007445711592981574, 0.008697367128267963, 0.0044896740521966905, 0.0065136276837254314, -0.005150736666352351, 0.0007879693840342483, 0.020734565042054953, 0.004196733395001928, -0.0011294603721427876, -0.0019550204060667653, 0.007019616091602288, -0.005576832167721868, -0.0019283894372108534, -0.0027273185022949065, 0.0032380185169254005, -0.004165390819437675, -0.012873717628748338, -0.017454244268495955, -0.00491105794682678, 0.010881106572799837, 0.003744006924808474, 0.0023591965453499952, 0.006327210901867275, 0.0012939577919093281, -0.005656725074231872, 0.006353841870712529, 0.017885051376631544, -0.0048045340714670814, 0.005421757961446616, 0.005421757961462603, -0.008213298082471177, 0.00803159290738531, 0.0045429359898649935, -0.003526247567376295, -0.009438322648938957, -0.004271914694780499, 0.0011608029477212511, 0.007605497405993589, -0.01194163371948509, 0.009016938754301762, -0.011116073685590422, 0.011253940136485951, 0.004436412114554145, 0.013411048612210763, -0.009438322648925634, -0.010769871090703376, -0.011089442716733622, -0.018226542364742748, 0.007951700000856654, -0.002274592032084577, -0.017028148767144202, 0.0007080764775073689, 0.010614796884432565, -0.00973126330614349, 0.006034270244661855, 0.0009477551970320519, 0.00033524291384257054, -0.009438322648907871, 0.012478964702951956, 0.0002819809761378522, 0.012718643422466869, -0.011808478875308559, -0.0001707454940600428, 0.0028651849531975415, 0.01857745656633991, -0.0023811159074380583, 0.015008906742352224, 0.028670593755117046, -0.019078733367483558, -0.01732108942430699, 0.009309879411485866, -0.004591486320800975, -0.01071660915304129, 0.008138116782703264, 0.007791914187841087, 0.0015868984491129723, -0.00328656884784273, -0.0013957700604994017, 0.00353095917411661, 0.006833199309772553, -0.007174690297878428, -0.005177367635174512, -0.005310522479380353, -0.005523570230067776, 0.015435002243705753, 0.0024657204206741667, -0.01143564531160468, 0.005235341179611552, -0.014817778353767963, 0.008297902595728601, -0.017028148767129103, -0.004405069538943707, -0.0011028294033144093, -0.021182579905502763, 0.0009477551970578091, -0.020090710183230165, 0.001773315230968464, -0.003765926286900978, 0.009975653632386283, 0.011200678198820313, -0.006935011578358186, -0.013859063475649691, -0.00544367732355866, 0.016367086152961008, 0.01572794290091828, 0.0003885048514806755, -0.00043705518241221597, 0.00835116453338447, 0.011067523354632236, 0.006194056057699626, -0.007973619362955375, 0.013251262799180097, -0.004831165040328322, 0.005261972148439931, -0.016948255860624428, -0.0028871043153237963, -0.010689978184204918, 0.017432324906400787, -0.014924302229091246, 0.003504328205274909, 0.014423025427973357, -0.005470308292379045, 0.01474259705399561, -0.009571477493095948, -0.009970942025621099, 0.01178655951320895, -0.005949665731429299, 0.0018265771686269971, 0.013357786674519367, 0.004303257270358074, -0.005363784417033557, -0.0032066759413496015, -0.0030468901283198235, -0.004112128881772925, -0.005230629572856138, -0.004911057946835662, -0.0028871043153300135, 0.006087532182351474, 0.016580133903659977, -0.001289246185169013, 0.009576189099831822, -0.011382383373928384, 0.011493618856019516, -0.005177367635196717, -0.017587399112663604, -0.0027273185023153346, -0.004484962445454599, 0.0001488261319515516, -0.009970942025628204, -0.001741972655376678, -0.010237251714001694, 0.002678768171358037, -0.004591486320793869, 0.010747951728617089, -0.018492852053103803, 0.004915769553554661, 0.004622828896380327, -0.007148059329036727, -0.0028604733464687726, -0.0021148062190832206, 0.0033179114234256346, 0.0007879693840253665, 0.015701311932054374, 0.002545613327205487, 0.016154038402294013, -0.008186667113633916, -0.022141294783590837, -0.0013158771539982794, 0.020148683727644112, -0.004058866944092188, -0.010210620745136012, -0.008639393583849575, 0.0009477551970480391, -0.009917680087963454, 0.011546880793694925, -0.007414369017393341, -0.010130727838661535, 0.01053490397793233, 0.00310486367271956, 0.010801213666289833, -0.0052838915105564155, -0.00011748355637219987, 0.013996929926581636, 0.011733297575533541, -0.0025675326892695693, 0.017219277155707147, 0.015461633212567882, 0.01799157525194861, 0.005475019899142453, 0.0034244352987755633, -0.020117341152081636, -0.007201321266709471, 0.00198636298163013, -0.011116073685595751, 0.0054483889302954225, -0.015936279044861834, -0.005523570230055341, 0.002252672670022271, 0.007525604499499572, -0.0002772693694002015, -0.004698010196132252, -0.010423668495832317, -0.00789372645643116, -0.008825810365700626, 0.00201299395048693, 0.004542935989875652, -0.013539491849643426, 0.0031581256104216138, -0.01151553821810225, 0.00922998650496698, -0.0037126643492415567, 0.002172779763482069, 0.004090209519659105, 0.008937045847809522, 0.018657349472836593, 0.0030249707662131087, 0.006087532182337263, 0.0076321283748139734, -0.018253173333568462, -0.002620794626956524, -0.00869265552151699, 0.003797268862467007, -0.008213298082466736, -0.0038191882245524056, -0.031781705502170965, -0.003446354660866291, 0.006833199309753013, -0.01644226745273869, -0.0019283894372366106, -0.011062811747894585, 0.007312556748807708, 0.013943667988915998, 0.013917037020078737, -0.0057632489495658135, 0.012132762108071127, 0.015674680963251753, -0.004777903102651138, 0.005288603117269197, -0.008612762614990999, -0.02238097350310131, 0.0034244352987906623, -0.0012892461851574666, -0.0018751274995540967, -0.002727318502298459, -0.005709987011913498, 0.005341865054960593, 0.0004950287268332687, 0.0029450778597128746, 0.017672003625918364, 0.001773315230952477, 0.00827127162689223, -0.0010761984344647146, -0.01242099115852291, 0.010561534946756268, 0.012052869201589544, -0.010849763997220485, 0.003184756579244663, 0.002758661077868929, -0.007174690297896191, 0.003930423706654196, 0.0031847565792464394, -0.00451159341428653, -0.00011748355638641073, 0.010002284601218214, -0.014524837696564319, 0.0060875321823647965, 0.013517572487540264, -0.002274592032104117, -0.0019017584683931332, 0.01002891557006702, 0.0039037927378098303, 0.0032646494857431207, 0.018018206220794752, -0.004698010196156233, 0.018177992033833412, 0.003424435298779116, -0.0006234719642419506, 0.00012219516314448953, -0.012128050501334364, 0.0024657204206821604, 0.0005482906645033481, -0.004165390819432346, -0.0007832577772939331, 0.010960999479300959, -0.007094797391363983, -0.01108944271674428, -0.007281214173232797, 0.013118107954987579, -0.011568800155771441, -0.0017952345930583036, 0.004063578550827174, 0.009176724567315553, -0.00046368615124681156, -0.004564855351968156, 0.00526197214844526, -0.0007033648707670537, 0.005794591525150494, -0.014657992540733744, -0.0033664617543580633, -0.01244762212737438, 0.01650024099714642, -0.007201321266721017, -0.009518215555438303, -6.42216186985678e-05, 0.006992985122777462, 0.020228576634154116, 0.009975653632374737, -0.005976296700265671, 0.00017545710079236443, -0.011701954999955966, -0.010823133028383225, 0.015754573869763533, 0.0014004816672477105, -0.015536814512329578, 0.008644105190579232, -0.00405886694409574, -0.0029936281906577378, 0.0019863629816274653, 0.006540258652559139, -0.0020349133125883156, -0.007387738048587167, 0.005235341179625763, -0.010743240121873221, 0.02014868372766454, -0.013033503441742589, 0.006380472839526696, 0.005927746369341236, -0.016602053265751593, 0.0011608029477327975, 0.01756547975060485, -0.010716609153024415, 0.0012939577919253153, 0.004729352771733808, -0.0026740565646310444, 0.017538848781740057, 0.007339187717642304, 0.001347219729582072, 0.012026238232747843, -0.004964319884503965, -0.012926979566385555, 0.009762605881696196, 0.013624096362884863, 0.012665381484788796, 0.0004417667891560839, -0.00038379324474124843, 0.01727253909339499, -0.011595431124617583, 0.008644105190592555, 0.006407103808363068, 0.013411048612203658, -0.012926979566439734, 0.006380472839553342, -0.008772548428010118, 0.017245908124545295, -0.012154681470161854, -0.00440506953894193, 0.010188701383077259, -0.010716609153017309, -0.014391682852363807, -0.004484962445451934, 0.004329888239209545, -0.014844409322584795, 0.013224631830349942, 0.005821222494003742, -0.009411691680112355, -0.020277126965081216, -0.00195502040604989, 0.0023858275141890317, -0.013566122818485127, -0.005496939261220746, 0.00409020951966621, 0.015088799648852458, -0.011169335623237409, 0.01263875051595953, 0.0010542790723864215, -0.010237251713985707, 0.015142061586518984, -0.0027539494711330548, -0.0008897816526216573, -0.002487639782768447, -0.004484962445457263, 0.005368496023792524, 0.020228576634158557, -0.0037925572557302445, -0.01316665828593333, 0.008963676816615695, 0.011706666606720262, 0.022092744452679725, 0.007898438063191904, -0.004618117289636459, 0.0027053991402015143, 0.0005749216333290619, 0.0038771617689796756, 0.010428380102580626, 0.01082784463512887, -0.005150736666361233, 0.005847853462837449, -0.005763248949581801, 0.0011075410100609417, -0.009491584586606372, -0.014152004132853335, -0.00706816642253294, 0.0074723425618197226, 0.019562802413260805, 0.017352431999894335, 0.0038238998313202543, 0.01761874168826072, 0.013384417643356628, 0.018044837189624907, 0.00800496193853828, 0.002572244296031201, 0.013837144113576727, 0.00446304308337897, 0.004170102426179767, 0.008457688408736175, 0.006620151559096676, -0.010982918841400569, 0.010215332351894979, -0.005124105697521308, -0.001582186842372657, 0.012851798266651393, 0.013277893768018245, -0.010689978184180049, 0.0024923513895052096, -0.006269237357446222, -0.0006501029330783226, 0.013597465394048491, 0.007152770935793917, 0.009656082006339162, -0.008373083895496514, -0.019691245650714784, -0.0020881752502504014, -0.0072013212667192406, 0.021719910888972294, 0.0007080764775251325, -0.002780580439975644, -0.0034197236920281426, -0.009544846524264017, -0.02280706900448415, -0.011568800155768777, 0.00478261470940744, -0.00046368615126812784, 0.015355109337204631, 0.0031847565792482158, 0.0003618738826540735, 0.005261972148443483, -0.0007033648707661655, -3.759064988262395e-05, 0.000814600352849304, -0.004032235975247822, -0.0005435790577568156, -0.03164855065799088, -0.001741972655366908, 0.004755983740556857, -0.006935011578359074, 0.0037972688624945405, -0.018759161741441766, -0.009438322648918529, -0.014072111226356654, -0.004271914694767176, -0.001928389437223288, -0.0053637844170415505, -0.006295868326290588, 0.0007613384151987646, -0.013246551192444223, 0.006939723185089619, 0.003797268862471448, -0.005683356043052257, -0.00893233424105322, -0.020942901185978968, -0.01726782748664135, 0.009416403286805597, -0.0020082823437359565, -0.011595431124637123, -0.013938956382156142, 0.002172779763478516, -0.0014490319981801392, -0.0017952345930387636, -0.0021148062190583516, -0.006748594796498253, 0.008697367128263522, 0.003051601735076126, 0.002119517825829753, -0.015696600325334487, -0.0017686036242254843, 0.005261972148451477, 0.0016667913556043246, -0.0015555558735229624, 9.556419428857765e-05, 0.008191378720366238, 0.0007879693840484592, 0.003610852080639937, 0.014076822833105851, 0.013490941518706556, -0.010903025934881683, 0.005528281836794768, 0.008644105190592555, 0.012878429235482436, -0.008586131646188377, 0.01876387334820251, -0.002674056564623939, 0.013544203456373971, 0.01088110657277852, -0.006242606388612515, 0.006992985122777462, 0.008670736159428039, -0.0022213300944233794, -0.005896403793764549, -0.003259937879010799, 0.005608174743306549, -0.010050834932153307, 0.002945077859719092, 0.006566889621404393, -0.010423668495852745, -0.007440999986231489, 0.005528281836792104, -0.008559500677326248, -0.005683356043074461, -0.009092120054038588, 0.019642695319796566, 0.0020129939504967, 0.010854475603982117, -0.0035795095050472625, 0.0011341719788706683, 0.012478964702952844, -0.007600785799247944, -0.00970463233726715, -0.0139655873510236, -0.004085497912940994, 0.006167425088861478, -0.018705899803777015, 0.026886318843134305, -0.0002506384005620532, 0.012692012453647372, -0.008532869708505864, -0.01524387385513215, -0.004431700507783631, 0.011946345326245833, -0.03931826968269192, -0.0179602326763888, -0.0027006875334540936, 0.005661436680981957, -0.010370406558172007, -0.0008897816526234337, 0.020548148260203902, -0.013779170569164556, 0.0018265771686118981, 0.005714698618655589, -0.017507506206166035, -0.004804534071485733, -0.009891049119135964, 0.0017999461997657562, -0.008586131646191042, -0.015776493231860478, 0.011014261416963933, -0.00640239220163874, -0.0002506384005762641, 0.01144035691834766, 0.005341865054965034, -0.005683356043078014, -0.0006767339019342344, -0.016069433889033036, 0.009123462629633039, 0.022625363829386735, -0.005230629572858803, 0.006726675434408413, 0.011253940136488616, -0.006375761232821908, -0.0017153416865225424, -0.0022745920320863533, -0.008692655521512549, 0.001666791355606989, 0.022758518673568595, -0.01441831382122416, 0.02355744773863222, 0.012452333734105814, -0.000916412621466911, -0.00938506071125822, 0.0075788664371509995, 0.003530959174110393, 0.002146148794636815, 0.00907020069196296, 0.0009211242281974563, 0.014875751898171252, -0.007547523861576977, 0.003264649485764437, 0.013437679581037365, 0.0019863629816629924, -0.01516398094860616, -0.0001707454940680364, -0.0067219638276494464, -0.01290034859757938, 0.00813811678271037, 0.00856421228409232, -0.01923851918048136, -0.002487639782772888, 0.005528281836797433, 0.01543500224372707, 0.007259294811118089, -0.010476930433519271, -0.010610085277691361, -0.005896403793762772, 0.004116840488502582, -0.00794698839410568, 0.0003885048514877809, 0.0026255062337119384, 0.0036641140182807064, 0.013517572487540264, 0.00920335553615459, 0.005368496023795188, -0.01007746590098435, -0.010450299464675794, -0.007201321266716576, -0.0013425081228284341, 0.0012406958542277025, 0.006540258652568909, 0.010241963320752667, -0.002354484938600798, -0.001049567465639889, 0.009176724567323546, 0.011893083388558878, -0.006109451544434208, 0.0035575901429591994, -0.018173280427070893, -0.0077073096745801095, 0.008351164533383582, -0.008186667113634805, -0.006642070921172305, -0.010104096869805623, -0.031062669343587146, -0.005523570230054453, 0.004196733395002816, -0.008026881300627231, 0.0034776972364287673, 0.021320446356416056, 0.018284515909158472, -0.008612762615000769, 0.010268594289568611, 0.01519532352420061, -0.006668701889983808, 0.003504328205274021, 0.010987630448139107, -0.004085497912933889, -0.006748594796503582, -0.0002240074317407803, 0.012798536328981314, -0.014338420914707939, -0.0038990811310677387, 0.00222604170116103, 0.016074145495775127, 0.00784517612550406, 0.01386377508238823, -0.0004903171200991707, 0.009629451037531211, 0.012638750515987063, -0.002993628190639086, -0.01188837178181501, 0.010934368510461034, -0.009624739430788232, -0.01372590863148293, 0.014955644804670598, 0.004942400522412349, 1.567128776702731e-05, 0.010481642040261363, 0.030055404134575525, 0.018604087535166514, -0.0017686036242094971, -0.0012892461851663484, 6.893322544332392e-05, 0.016020883558127252, 0.014929013835843996, 0.010268594289568611, 0.023584078707481915, 0.001799946199789737, 0.0028385539843762686, 0.013304524736830636, 0.01013543944541162, 0.0015602674802641658, -0.020623329559955828, -0.012660669878044928, -0.010397037527014596, 0.0037706378936332996, 0.024675948429723427, 0.00022871903847754282, 0.0011608029477319093, -0.0095714774931146, 0.01415671573958921, 0.004729352771709827, -0.018599375928446626, 0.008351164533402233, -0.02246086640964684, 0.0013738506984415366, 0.005608174743299443, 0.0019331010439600504, -0.018173280427073557, 0.0027320301090503207, -0.003206675941346049, 0.010215332351882545, -0.0012359842474873872, 0.005767960556321228, 0.015381740306046332, 0.006992985122771245, 0.0035575901429654166, 0.007552235468326174, 0.019749219195127843, -0.0030468901283446925, 0.004995662460086869, 0.0018532081374562637, -0.007121428360201243, 0.005022293428921465, 0.015301847399546098, 0.015115430617687053, -0.0064556541393034905, 0.009203355536134161, 0.00030861194497866506, 0.001560267480270383, -0.007840464518779733, 0.006194056057709396, 0.0025189823583522397, -0.002700687533460311, -0.0034197236920423535, 0.010375118164906993, -0.012793824722217018, 0.004170102426168221, 0.000335242913815037, 0.01247896470293508, 0.017938313314300736, 0.011040892385838497, 0.0018265771686021282, -0.00272731850231267, -0.012847086659902196, 0.01471596608517789, -0.006402392201630747, 0.008910414878959827, -0.011355752405104447, 0.007898438063183022, 0.0008412313216972223, 0.008058223876213688, -0.008905703272173326, 0.0176187416882696, -0.01021062074516177, -0.008479607770846442, -0.0007033648707910345, -0.011116073685570882, 0.0013472197295847366, -0.012820455691070265, -0.012420991158531791, 0.0015868984490925442, -0.0016088178112028118, 0.00856421228410742, 0.00350432820526958, 0.003238018516922736, -0.0023278539697768608, 0.002465720420680384, -0.002274592032094347, -0.0040056050064034565, 0.013810513144730585, 0.0012939577918817946, 0.0014004816672565923, -0.006855118671840188, 0.006300579933041561, 0.00014882613196842698, 0.005501650867961061, 0.013224631830351719, 0.0039037927378311466, -0.004085497912919678, -0.007361107079725926, 0.013011584079658078, 0.002518982358347799, -0.01891894755446355, 0.001240695854245466, -0.004165390819451886, -0.006029558637934862, -0.016016171951384273, 0.007845176125527153, 0.003664114018287812, -0.007893726456424055, 0.0002819809761724912, 0.010188701383049725, -0.020969532154842874, 0.015781204838593688, 0.0014271126360902997, 0.011839821450901233, -0.005736617980752534, 0.00709950899811318, -0.00041042421355808045, -0.013752539600336178, -0.018679268834958407, 0.006300579933045114, 0.0011608029477327975, 0.004649459865212258, -0.011009549810231611, -0.010210620745159993, 0.011600142731379215, 0.0008944932593664134, 0.000734707446354399, -0.02315327159935432, 0.00036187388263630993, -0.0005435790577470456, -0.011994895657167604, 0.004223364363831195, 0.011972976295074211, -0.0009164126214633583, -0.004271914694776058, -0.011888371781811458, -0.02123584184317906, -0.0033930927231846653, 0.005022293428927682, 0.02193295863965794, 0.0003352429138372415, -0.00014411452523255264, -0.02118257990551964, -0.006935011578355521, 0.023504185800951483, 0.006433734777214539, -0.015749862263003678, -0.006429023170480441, -0.007733940643433357, -0.012341098252013794, -0.000729995839595432, 0.01338441764336018, -0.003126783034837821, 0.007765283219005603, 0.005581543774471065, -0.008879072303376923, 0.0024923513895256377, 0.0107479517286162, 0.005528281836807203, -0.004698010196151792, -0.015377028699295359, 0.006726675434403084, 0.008537581315239073, -0.005523570230076658, -0.009305167804739334, -0.0023012230009245016, 0.010268594289597921, -0.0026474255957857906, -0.003952343068759134, -0.001955020406055219, 0.004995662460096639, 0.008910414878945616, 0.003397804329942744, 0.0020396249192975446, 0.0008678622905362587, -0.009917680087935032, 0.005475019899124689, 0.006726675434421736, -0.008639393583860233, -0.0009696745591059042, -0.004005605006423885, 0.0044896740522117895, 0.0037706378936430696, 0.017112753280376758, -0.0016887107177012695, -0.00046368615126013424, 0.005927746369351894, 0.0005749216333539309, 0.006327210901871716, 0.014369763490295284, -0.0048311650403336515, 0.01226591695225654, 0.0005216596956891806, 0.013277893768021798, 0.011653404669039524, -0.004698010196127811, 0.01112078529230942, -0.013805801537987605, 0.004489674052217119, -0.01079650205954863, 0.009443034255654403, -0.012873717628735903, 0.008324533564560532, -0.0003039003382312444, -0.00762741676807277, 0.008084854845031408, -0.0025409017204349738, -0.0011294603721507812, 0.012532226640606936, -0.006242606388618732, -0.005310522479371471, -0.0035795095050579206, 0.0011874339165753867, -0.00808014323829731, 0.02347755483213465, -0.00701490448486819, -0.002168068156732872, -0.01375253960032996, -0.0028604733464732135, 0.0029184468908862726, 0.009443034255671279, -0.004245283725929028, 0.0012406958542312552, 0.005182079241953019, -0.003259937879030339, -0.0020082823437359565, -0.0016887107176968286, -0.00850623873963574, 0.0048092456782313775, -0.01726782748665112, -0.013353075067786158, 0.0027586610778804754, -0.005017581822177597, -0.007627416768084316, -0.010849763997216044, -0.00701490448486819, 0.005235341179594677, -0.007733940643434245, 0.016446979059502098, -0.013459598943121875, -0.004644748258487041, -0.011222597560918146, 0.0035043282052873437, 0.0019064700751236785, 0.005341865054941941, -0.003100152065995232, -0.008026881300627231, -0.0007566268084548966, -0.0022745920320978996, -0.0010229364968168397, -0.005150736666345246, -0.0015022939358395604, -0.016921624891775622, -0.02570984460759984, -0.012607407940378401, -0.013779170569159227, -0.003792557255752449, -0.012740562784561149, -0.004538224383138889, 0.005741329587490185, -0.01601617195137628, 0.0027320301090405508, -0.019265150149335497, 0.014023560895433107, -0.009092120054073227, -0.011968264688330343, -0.02190161606407237, -0.008213298082468512, 0.014609442209826184, -0.0019283894372179589, 0.018098099127315415, 0.008590843252933134, -0.00730784514205407, -0.01670857714109175, -0.004245283725934357, 0.008723998097085683, -0.0011294603721472285, 0.0012939577919208745, -0.015403659668142389, -0.011861740812981303, -0.000996305527961816, 0.006859830278600043, 0.011014261416976368, -0.0004370551823935642, 0.010135439445402739, -0.019451566931197206, -0.007174690297886421, -0.012660669878032493, 0.012186024045750976, 0.004889138584743158, 0.011733297575549528, 0.01602088355810949, -0.006615439952335045, -0.01998418630789356, 0.0016135294179147053, 0.005448388930290093, -0.0020881752502308615, -0.010503561402350314, -0.005976296700268335, 0.005554912805648904, -0.008506238739669492, 0.00491576955356976, -0.0015022939358537712, -0.0028338423776377297, -0.004511593414290971, 0.002199410732345086, 0.005874484431677374, -0.013725908631490036, -0.0048577960091655825, 0.007978330969699243, -0.001928389437209077, 0.011200678198838077, -0.0022213300944100567, 0.022359054141042556, 0.005528281836807203, -0.005789879918431495, -0.008506238739663274, -0.005390415385866376, -0.012687300846907057, 0.0058478534628250145, 0.0004950287268181697, 0.012399071796424188, -0.0011560913409800477, 0.014209977677247743, 0.0015868984491058669, 0.012692012453625168, 0.004463043083373641, -0.008932334241042561, -0.0090122271475499, 0.01969595725743467, 0.0096028200686753, 0.02289167351775223, -0.011142704654415247, 0.019403016600260337, -0.014178635101694148, 0.008937045847772218, 6.89332254646402e-05, -0.0028338423776403943, -0.010077465900980798, -0.016335743577381656, -0.001928389437228617, 0.001959732012793758, 0.010295225258409424, -0.025523427825745237, -0.004618117289634682, 0.0011874339165789394, -0.0029403662529983166, 0.004489674052212678, 0.009469665224510315, 0.012532226640607824, -0.013060134410596724, -3.759064988440031e-05, 0.004116840488506135, -0.005763248949581801, -0.0058964037937538905, -0.0041121288817551616, -0.004138759850598639, -0.0005435790577461574, -0.015243873855105505, 0.0018265771686349908, -0.007654047736927794, 0.025448246525977325, -0.003712664349238892, 0.007871807094350203, 0.012905060204328578, -0.0066953328588477135, 0.0010276481035509377, -0.0043784385701313155, -0.007707309674565899, -3.759064987818306e-05, -0.00033053130708449174, -0.0041920217882545074, 0.0021727797634811807, 0.015887728713920524, -0.0003837932447430248, -0.010290513651661115, -0.0043518076012842855, -0.002700687533471857, -0.0033131998166968657, -0.012234574376688734, -0.008932334241040785, 0.009229986504981191, 0.003264649485759996, 0.007179401904637395, -0.0203037579339167, 0.008271271626874466, 0.00704624706042889, -0.009837787181462332, -0.0007566268084557848, 0.0032380185169298414, 0.007339187717620099, 0.002971708828560793, 0.02278514964241385, -0.0008897816526047819, -0.013805801537996487, 0.001427112636076977, -0.002194699125585231, 0.0031314946415683664, 0.008777260034776191, 0.018976921098887267, 0.008537581315247955, -0.013113396348259698, -0.005949665731419529, 0.011307202074159584, 0.013570834425220113, 0.01916333788071256, -0.010077465900990568, -0.0047246411649970455, 0.005448388930282988, 0.008297902595725937, 0.015301847399540769, -0.0026474255957715798, -0.0019283894372099653, -0.002620794626966294, -0.0029137352841503983, -0.003472985629697334, -0.00850623873968015, -0.008479607770826014, 0.012319178889920401, -0.008106774207147005, 0.014343132521464241, -0.0067219638276796445, -0.0003039003382525607, 0.0024657204206670613, -0.017267827486659115, -0.002887104315317579, -0.0012892461851761183, 0.0036907449871330655, -0.008692655521520543, -0.00839971486432578, 0.009735974912870482, -0.019265150149332833, 0.01937638563141242, 0.003397804329952514, -0.0034463546608645146, -0.009065489085212874, 0.0012406958542312552, -0.008133405175982489, -0.0034729856296964456, 0.015514895150242403, 0.0019597320127830997, 0.002226041701145931, 0.01844430172216338, -0.012128050501361898, -0.00294036625299654, 0.009150093598453424, 0.0015602674802561722, 0.00717940190461519, 0.0074190806241265506, -0.01194163371948509, 0.00046839775799689676, 0.00885715294125955, 0.0002819809761556158, -0.003952343068733377, -0.0040322359752549275, -0.004032235975269138, -0.00453822438314333, -0.0007566268084415739, 0.0030249707662370895, -0.009651370399617498, 0.006300579933053996, -0.00586977282491663, -0.0012892461851565784, -0.00051694808891245, 0.012825167297817686, -0.007121428360192361, -0.007654047736924241, 0.01871061141052799, 0.004809245678230489, 0.003957054675496785, -0.0013957700604931844, -0.0005702100265780885, 0.010268594289587263, -0.02762727436377066, 0.005581543774461295, -0.012660669878052033, -0.0005702100265994048, -0.00808014323829287, -0.011062811747920342, -0.004591486320801863, 0.001347219729587401, 0.004782614709409216, 0.007419080624144314, -0.007867095487624987, -0.015962910013689324, -0.01037040655815602, 0.00044176678917473566, -0.013805801537991158, -0.007813833549950466, 0.010348487196080391, 0.003903792737827594, -0.012128050501342358, -0.0009164126214686874, -0.012447622127361058, 0.0016401603867644, -0.008239929051319095, 0.008910414878947392, -0.019691245650693467, -0.004724641164971288, -0.023472843225407658, 0.00504892439775162, -0.00682848770301181, 0.008004961938535615, -0.000570210026580753, -0.000836519714966677, -0.005203998604020654, -0.009811156212641059, 0.008271271626873578, -0.011329121436264522, 0.014236608646097437, -0.006881749640671231, 0.0008944932593788479, -0.005044212791015745, -0.00038379324474036025, 0.017964944283119344, 0.0009477551970347164, 0.004116840488495477, 0.009522927162159078, 0.011520249824855, 0.007232663842288822, 0.0032380185169458287, 0.005688067649815665, 0.016766550685511916, -0.02525711813738507, -0.010397037527006603, -0.01356612281846914, 0.006593520590236324, 0.005581543774479059, -0.012287836314361478, -0.0067219638276547755, 0.010215332351926953, 0.010508273009091518, -0.0013957700604940726, -0.00946495361774602, -0.005044212791020186, 0.00688646124741954, -0.0023544849386016864, 0.0028651849532312923, 0.017299170062218927, 0.008191378720382225, -0.022487497378453902, -0.0004104242135802849, 0.0041967333950037045, -0.003180044972509677, 0.004036947581999684, 0.011893083388555326, 0.004516305021037503, -0.013992218319843985, -0.012207943407857691, 0.0004950287268385978, 0.0005482906645051244, -0.0013158771540071612, -0.013885694444494945, 0.007925069032022947, 0.008484319377565441, 0.0014537436049302244, -0.005257260541715603, -0.019451566931178554, 0.0048358766470730785, 0.005475019899145117, 0.011520249824869211, 0.015275216430711502, 0.012958322141971124, 0.007871807094347538, 0.011759928544353926, -0.002088175250228197, 0.00944303425566062, 0.00760549740598826, 0.0033445423922513484, 0.0010542790723864215, 0.013996929926610946, -0.002034913312585651, -0.0029669972218346885, -0.000490317120095618, -0.0015289249046768205, 0.007259294811126971, 0.0010542790723677697, -0.00863939358384247, -0.002647425595787567, 0.01098763044814799, -0.01814664945823985, -0.0006767339019457808, 0.00435651920801039, 0.006300579933030015, -0.001022936496818616, -0.01116933562325162, -0.008426345833166593, 0.01218602404577318, 0.016553502934832487, -0.0005435790577807964, -0.010689978184197813, 0.006753306403253667, -0.0020615442813980422, -0.004298545663594666, 0.003530959174101511, -0.013912325413328652, -0.0012892461851459203, -0.005124105697513315, -0.0035528785362046733, -0.010183989776318292, 0.008457688408757491, -0.02147552056270019, 0.009176724567288908, -0.004538224383134448, 0.002439089451849341, -0.011382383373942595, -0.0013691390916621415, 0.005821222494001965, 0.004516305021036615, 0.015861097745095698, -0.0007033648707812645, -0.012367729220855495, -0.016309112608563936, 0.004782614709395894, -0.017161303611294088, -0.0026740565646274916, -0.0014224010293384381, 0.011520249824856776, -0.003339830785545672, 0.0008412313217069922, 0.00427662630152259, -0.003499616598523936, 0.0055549128056471275, -0.0004104242135882785, -0.00621597541978236, 0.00483587664706242, -0.0046980101961455745, -0.020117341152071866, -0.007707309674603202, 0.019802481132800587, -0.02730770273775196, 0.001879839106304182, 0.004276626301526143, -0.00816003614479932, 0.0006281835710364447, -0.0006234719642668196, 0.003850530800150409, -0.016948255860604, 0.0012673268230560808, -0.01045029946466336, -0.010610085277709125, 0.005981008306998881, -0.004964319884518176, 0.0012673268230845025, -0.01543029063697876, -0.004085497912927671, -0.008506238739659722, 0.0027053991401881916, 0.01021533235189942, 0.007578866437162546, 0.005475019899107814, -0.016149326795560803, 0.00574132958749729, -0.0035795095050312753, 0.021373708294091465, -0.0005968409954215659, -0.013060134410586066, -0.019611352744210997, 0.0036641140182966936, -0.004378438570119769, 0.014769228022818659, 0.007525604499496019, 0.005155448273096219, 0.005022293428927682, 0.00470272180288589, 0.0010276481035464968, -0.00014411452521567725, -0.022194556721267134, 0.014795858991671018, 0.014050191864261485, 0.0017466842621027823, 0.0018532081374615927, -0.010210620745147558, 0.004596197927544843, -0.002247961063264192, 0.008271271626889565, -0.02246086640961753, 0.006486996714899718, 0.0008678622905335942, -0.010343775589321424, -0.010956287872565085, 0.004143471457319414, 0.006939723185104718, -0.004351807601307378, -0.010237251714019457, -0.009225274898226665, -0.009411691680062617, -0.01806675655172363, -0.005736617980740988, 0.01466270414746873, -0.004751272133826312, 0.002412458483021851, -0.004431700507789849, 0.004036947581999684, -0.011968264688330343, 0.001773315230938266, -0.00011748355639618069, -0.007520892892727282, 0.0012406958542383606, 0.013357786674517591, 0.008937045847789094, 0.0014004816672663623, 0.024702579398581115, 0.014343132521462465, 0.0065668896214141625, 0.0033711733611072603, -0.011195966592097761, 0.0009743861658879638, -0.002940366252981441, -0.018679268834925544, -0.012341098252026228, -0.004325176632445249, -0.010796502059556623, -0.0005702100265922994, -0.010636716246525069, -0.008532869708490765, 0.01215939307692171, -0.0013425081228346514, 0.004862507615910339, -0.005656725074221214, 0.007978330969684144, -0.0003039003382525607, -0.010476930433521936, 0.003744006924803145, 0.0012140648853868896, -0.005257260541709385, -0.013379706036613648, 0.014396394459130768, 0.0029184468908844963, -0.006642070921146548, 0.002226041701146819, -0.01878579271029679, -0.016389005515065946, -0.0005702100266171684, 0.005448388930287429, 0.00619405605768808, 0.012186024045761634, -0.01007746590098968, 0.005448388930294534, 0.010668058822112414, -0.0038191882245808273, 0.008830521972443606, 0.003957054675475469, 0.022918304486597485, -0.012500884065050677, 0.01213276210808445, -0.0076007857992435035, -0.0012093532786616734, -0.008932334241039008, 0.004116840488509688, 0.00630057993302735, 0.0011608029477363502, -0.002354484938610568, 0.0023591965453313435, 0.004090209519669763, -0.0032066759413389434, -0.004192021788253619, -0.01732108942433097, -0.008639393583841581, 0.006513627683720102, 0.00720603287347199, -0.01953145983769833, 0.0024390894518662165, 0.002039624919329519, 0.009949022663563234, 0.005741329587496402, 0.005528281836799209, -0.004618117289624024, -0.004325176632431926, 0.003717375955967661, -0.0025675326892606876, -0.002274592032073919, -0.011222597560923475, 0.0016934223244362556, -0.00525726054171205, 0.009309879411484978, 0.006167425088855261, -0.0001707454940556019, -0.0012892461851468084, -0.015217242886286009, 0.023051459330759805, 0.009070200691964736, 0.0036641140182966936, 0.0039037927378160475, -0.004351807601283397, 0.008191378720377784, -0.01870589980378412, -0.005283891510533323, -0.0017153416865349769, 0.014929013835828897, 0.012052869201577998, -0.0036594024115510493, -0.014152004132866658, 0.002146148794661684, 0.01695296746735675, 0.0019064700751325603, -0.000863150683783509, -0.009385060711241344, -0.013992218319855532, -0.007334476110913535, -0.0017153416865127724, -0.008692655521504555, -0.007893726456433825, 0.015142061586548294, -0.007148059329048273, 0.024383007772561527, 0.013490941518703892, 0.008510950346401813, 0.02603412784036241, -0.01029051365165845, -0.01974450758837687, 0.012265916952259204, -0.017640661050342565, -0.019265150149316845, -0.0005702100266100629, -0.007973619362949158, 0.0025456133271895, -0.010849763997216044, 0.008004961938530286, 0.015328478368374476, -0.0034197236920139318, -0.0023278539697697553, 0.002119517825824424, 0.0026521372025198886, -0.0006501029331040797, -0.0065355470458134945, -0.006082820575617376, 0.004835876647075743, 0.0012140648854073177, 0.016739919716675544, -0.003952343068742259, 0.007552235468312851, -0.020596698591121232, -0.014258528008191718, 0.009762605881688202, 0.004676090834061064, -0.013246551192449552, 0.004782614709396782, 0.010268594289571276, -0.01559007644998367, -0.007520892892761921, 0.014289870583778175, 0.0011341719788866556, 0.008404426471052773, -0.014045480257528276, 0.0028385539843620577, -0.006136082513291008, -0.02059669859113722, 0.0013472197295749666, -0.0012359842474856109, 0.0005749216333352791, 0.0002020880696402827, -0.008026881300609467, 0.003744006924807586, 0.004116840488491924, -0.003792557255718698, 0.010108808476556597, -0.013353075067771059, 0.007419080624149643, -0.012021526626003087, -0.0117019549999684, 0.018071468158456838, -0.00195502040605966, -0.0031534140036759695, -0.01566996935648124, 0.00555491280564091, 0.001187433916562064, 0.03647346762400794, -0.0025142707516128127, 0.01631382421529981, 0.0009477551970453746, 0.0025456133271921644, 0.007898438063176805, -0.002913735284143293, -0.005709987011904616, -0.013646015724958716, 0.0031314946415772482, -0.013805801537993823, -0.002913735284163721, -0.0017952345930618563, 0.006726675434411966, -0.0010495674656088028, -0.004298545663623088, -0.0081334051759816, -0.008293190988985621, 0.0006281835710266748, -0.0034996165985425876, 0.007898438063187463, -0.002461008813955168, 0.008218009689230144, 0.011786559513219608, 0.0077919141878393106, -0.007760571612269729, 0.008351164533383582, -0.00581651088725188, -0.015057457073276659, -0.005124105697527526, -0.015696600325354026, 0.001720053293289503, -0.0008631506837950553, 0.002012993950468278, 0.009443034255658844, 0.006087532182354138, -0.007334476110880672, -0.0032599378790276745, 0.005954377338172279, -6.422161871277865e-05, -0.006482285108159402, -0.0017686036242254843, 0.01290506020432769, -0.012101419532482005, 0.0043565192080183834, 0.014103453801932453, -0.012341098252012017, 0.00797833096969569, 0.0003885048514913336, 0.0002020880696314009, -0.01084976399722759, -0.022380973503112855, 0.011626773700176507, -0.007334476110896659, -0.006082820575612047, -0.0026740565646168335, 0.011653404669018208, 0.008697367128263522, 0.0021461487946670132, -0.022407604471978537, 0.004622828896371445, -0.0017153416865527404, 0.008617474221760624, -0.004431700507773861, -0.005923034762592927, -0.0141520041328409, -0.008293190988974963, -0.017614030081508858, 0.004862507615906786, 0.016100776464617716, -0.014684623509575445, 0.001853208137462481, -0.011648693062300985, 0.005155448273103325, 0.005794591525143389, 0.019349754662586705, -0.011169335623242738, -0.020330388902752183, -0.012607407940371296, 0.0020129939504842653, 0.015381740306039227, -0.0135927537873064, -0.0019283894372126298, 0.006486996714896165, 0.020974243761590294, 0.003957054675490568, -0.0013425081228337632, -0.008426345833171034, 0.001187433916557623, -0.007094797391361318, -0.009331798773565936, -0.01029051365167355, -0.005763248949585353, 0.0008678622905256006, 0.01676655068551547, -0.001502293935857324, 0.0018532081374642573, 0.007978330969693026, -0.0019283894372144061, -0.005417046354727617, 0.005528281836792992, -0.007387738048581838, 0.01727253909337101, 0.012905060204331242, -0.008639393583846022, 0.015834466776259326, 0.0024923513895389604, -0.012207943407861244, -0.0016088178111672846, -0.007733940643428028, -0.005044212791000646, -0.018998840460969113, 0.004729352771724926, 0.006726675434416407, 0.0007347074463348591, -0.009970942025627316, 0.0007879693840262547, -0.006748594796501806, 0.0004151358203268174, -0.015350397730463428, 0.0343429901171568, -0.00688174964068633, -0.0027539494711419366, 0.0020928868570111447, -0.0104502994646829, 0.0036108520806266142, 0.0185774565663559, -0.009704632337264485, -0.010796502059536195, 0.007765283219003827, -0.0029403662529876584, -0.01194163371947532, 0.005821222494001077, -0.00823992905129689, 0.00752560449948092, 0.003610852080600857, 0.0010809100412147998, -0.000943043590293513, -0.0034197236920565643, -0.008586131646183048, 0.023157983206091082, -0.010743240121881215, -0.00019737646288753297, -0.0018484965307248302, 0.01178655951319385, -0.0011294603721472285, 0.01034848719607595, -0.019238519180485802, -0.008319821957816664, 0.001560267480274824, 0.008990307785471607, 0.0032646494857475616, -0.0033398307855261322, -0.010077465900986127, -0.0025142707516163654, 0.010641427853268048, -0.013486229911962688, -0.009331798773569489, 0.006620151559080689, 0.008297902595735707, -0.003686033380380316, 0.012452333734101373, -0.009438322648921194, 0.012692012453649149, 0.004676090834054847, -0.003845819193415423, 0.0002819809761502867, 0.004676090834060176, 0.0033179114234247464, 0.01133383304300839, 0.017006229405040152, -0.010450299464686452, -0.017001517798297172, 0.009895760725878056, 0.0031314946415692546, -0.0036860333803945267, -0.014231897039364227, -0.016788470047611526, -0.0037925572557391263, 0.010534903977933219, -0.013406337005451796, 0.003983685644321611, -0.002700687533456758, -0.0059230347625804924, -0.00680185673416922, -0.006642070921158982, 0.00403694758200146, -0.0020615442814140295, -0.007440999986234154, 0.006566889621419492, 0.017166015218034403, -0.009997572994476123, -0.014737885447260624, 0.014209977677276164, -0.004724641164988164, 0.006992985122772133, 0.0032113875480783705, -0.005017581822179373, -0.003659402411539503, 0.004915769553568872, 0.00736581868649111, -0.004751272133820095, 0.0018798391062881947, 0.01234580985877809, -0.004058866944098405, 0.006140794120025106, 0.009176724567313777, 0.008164747751551182, 0.013038215048505997, 0.011866452419718065, 0.009709343944005688, -0.016761839078777818, -0.03271378941143066, 0.012638750515917785, 0.019110075943054028, -0.0069083806094960565, -0.012474253096215193, -0.015084088042136123, 0.00291844689089249, 0.014476287365638996, -0.009651370399613945, -0.01433842091469728, -0.003819188224569281, 0.001773315230938266, 0.00020208806963672998, -6.422161872254861e-05, 0.015648049994418045, 0.012638750515985286, 0.005581543774467512, 0.011600142731353458, -0.0007033648707874818, -0.0070947973913577655, 0.005395126992630672, -0.012847086659912854, 0.005315234086116227, -0.008080143238313298, 0.0024923513895105387, -0.0011294603721223595, 0.006380472839540019, -0.02150215153154189, 0.0008146003528555212, 0.008484319377568994, 0.0002553500073165793, -0.0021946991255834547, -0.00493768891567381, -0.004085497912917013, -0.00837308389548852, 0.0012140648853860014, 0.009895760725881608, -0.001608817811209029, 0.009363141349157722, -0.003233306910174427, -0.02139562765618752, -0.00696164254718834, 0.011413725949517506, 0.007658759343652122, -0.0025142707516083718, -0.0025941636581157113, 0.013251262799182761, -0.0028338423776403943, 0.0032113875480987986, -0.021422258625043433, 0.009309879411490307, -0.0006234719642881359, -0.009651370399613945, -0.004005605006419444, 0.010321856227247572, 0.011067523354642006, -0.011808478875300565, -0.008799179396862478, -0.00722795223554229, -1.0959681066680105e-05, 0.02289167351774868, 0.003584221111779584, 0.007738652250149691, -0.004138759850621732, -0.0007033648707732709, 0.017432324906426544, -0.009518215555429421, 0.0022526726699840793, -0.007973619362955375, -0.014498206727720842, 0.0012406958542330315, -0.013912325413335758, -0.003632771442704019, -0.014604730603064553, 0.0030249707662175496, -0.0015555558735167452, -0.012261205345510007, -0.0021414371879053817, -0.02070322246646139, 0.003770637893641293, -0.014072111226369977, -0.0026474255958008897, -0.003366461754372274, 0.002572244296016102, 0.01580783580741052, -0.015057457073289093, 0.004542935989877428, -0.0007033648707821527, -0.009092120054058128, 0.004383150176852091, 0.0065136276837156615, -0.005976296700281658, 0.0026255062337012802, -0.0032066759413433843, -0.007227952235528967, 0.0031314946415994527, -0.02325979547470869, 0.013890406051255688, 0.0005749216333317264, 0.0029717088285581283, 0.003238018516931618, 0.018657349472844587, 0.009070200691981611, 0.014929013835837779, 0.00491576955356976, -0.012128050501335252, -0.006322499295131401, -0.019052102398648074, -9.085258756602599e-05, 0.02078782697970194, 0.02203948251500254, -0.004564855351940622, 0.013331155705694542, -0.013885694444499386, 0.0102685942895695, -0.010183989776318292, 0.0004950287268403741, -0.006775225765350612, -0.011994895657152504, 0.004116840488515905, -0.0014490319981552702, 0.016606764872493684, -0.0016088178111832718, 0.009256617473822892, 0.002518982358373556, 0.011706666606714045, -0.0071746902978775395, -0.0019283894372126298, -0.0002240074317247931, -0.006162713482114945, 0.002332565576522505, -0.0019816513748942555, 0.013331155705697206, -0.011861740812952881, -0.01210141953248911, -0.003925712099897005, -0.008612762615010539, 0.008564212284062123, 0.0009743861658852992, 0.004835876647065085, 0.001879839106294412, 0.0006814455086869842, 0.013251262799180097, 0.004596197927561718, -0.004005605006419444, 0.002092886856983611, 0.002172779763497168, -0.009891049119149287, -0.01630911260855683, 0.0048625076159147795, 0.006486996714882842, 0.0013738506984122267, -0.017267827486658227, -0.0002240074317283458, -0.008745917459194175, -0.009225274898224, -0.016708577141096193, -0.0021946991255923365, -0.004058866944104622, -0.002753949471124173, 0.014076822833107627, -0.00802688130061302, 0.013837144113595379, 0.00917672456731733, 0.00012219516314004863, 0.012239285983430825, -0.0029137352841566155, -0.012447622127357505, 0.008590843252914482, -0.009811156212617966, -0.0135927537873064, -0.00022400743172923399, 0.005528281836810756, 0.016154038402296678, 0.0025988752648604674, 0.0010542790723775397, -0.007148059329034062, -0.011275859498579344, 0.008111485813852681, -0.01087639496605064, -0.0031001520659827975, 0.007152770935792141, 0.02134707732525687, -0.0003039003382232508, 0.025608032339009767, 0.0014271126360885233, -0.004005605006415003, -0.005550201198889049, -0.016442267452767112, -0.004351807601287838, -0.00613608251328035, -0.001369139091669247, 0.001267326823056969, -0.005869772824928177, -0.01769392298803929, -0.010343775589335635, 0.00773865225017456, -0.0025142707516030427, 0.007259294811120753, 0.0077919141878393106, -0.007760571612261735, 0.0007613384151934355, -0.014231897039375774, -0.006908380609512932, 0.019882374039304374, 0.010534903977934995, 0.0020129939504602845, -0.007893726456433825, 0.01639371712180182, 0.015248585461876019, 0.0063272109018690514, -0.007654047736935787, 0.008351164533388022, 0.015195323524192617, -0.004804534071504385, 0.000521659695671417, 0.008377795502243934, 0.0114936188559982, 0.010028915570064356, -0.004405069538943707, -0.005017581822176709, 0.008297902595731266, 0.020601410197851777, 0.00014882613196931516, -0.001981651374896032, 0.018417670753339443, 0.03053476157361601, 0.007365818686463577, -0.004085497912917901, 0.002439089451852894, -9.085258755003878e-05, 0.0022793036388364385, 0.003744006924807586, -0.015989540982534578, -0.0005968409954340004, -0.0014224010293517608, 0.003957054675490568, 0.02281178061124045, 0.0029983397973962767, 0.008644105190596107, 0.001427112636101846, -0.008905703272198195, -0.020889639248321323, 0.0010276481035509377, 0.0014004816672477105, -0.009305167804748216, 0.012612119547145362, 0.008750629065933602, 0.002199410732329099, -0.0023544849385972455, 0.011307202074156919, 0.011200678198852287, 0.0038771617689956628, 0.013118107955000902, 0.003291280454567058, 0.009283248442654823, -0.006881749640700541, 0.008857152941258661, -0.009651370399613945, -0.012527515033888825, -0.015616707418848463, -0.01838632817775565, 0.014396394459133433, -0.008666024552693052, 0.016526871965975687, -0.007600785799237286, -0.009012227147543683, -0.013646015724996019, -0.020490174715786402, 0.02084108891738712, -0.010263882682822079, -0.013965587350997843, -0.01143564531159047, -0.002833842377635065, 0.01487575189817747, 0.002518982358359345, 0.007312556748811261, -0.005203998604019766, -0.007973619362955375, -0.00573661798073033, -0.01380580153799027, -0.00424528372594235, -0.006322499295119854, -0.0030202591595038797, -0.002594163658129922, 0.019775850163965103, -0.001395770060506507, 0.011333833043010166, -0.012607407940370408, 0.0006281835710115757, 0.004516305021045497, -0.005949665731436404, -0.0030202591594870043, 0.012665381484829652, -0.005310522479362589, 0.00744571159297891, -0.011994895657146287, -0.008080143238291981, 1.5671287799001732e-05, -0.0031534140036617586, 0.011573511762524191, 0.021693279920138586, -0.0069882735160256, 0.004809245678233154, 0.015062168679997434, 0.006273948964211407, -0.002061544281390937, -0.00310015206598635, 0.00454293598987654, 0.01405019186424461, 0.020175314696504465, -0.028026738896302028, 0.015248585461887565, -0.0008365197149524661, -0.007254583204375109, 0.007712021281334636, 0.008937045847794423, 0.00294507785973952, -0.013353075067772835, 0.00017545710080479893, -0.012634038909212997, 0.0029717088285439175, -0.006056189606757911, -0.007547523861579641, 0.00278529204671063, 0.008324533564587178, -0.01399221831984132, 0.014476287365632778, 0.003690744987150829, -0.009251905867062149, 0.010561534946748274, 0.004622828896396314, 0.01793831331429452, -0.0007566268084477912, -0.00797361936295804, -0.0012359842474891636, 0.006034270244689388, -0.004351807601285174, -0.009251905867071919, -0.012048157594838571, -0.01409874219519569, 0.0056880676498103355, 0.0024390894518449002, -0.00493768891565427, -0.007547523861584082, 0.015168692555358021, -0.012847086659886209, 0.0040103166131624235, -0.0027006875334780744, 0.0016401603867777226, 0.026460223341753242, 0.011147416261169774, 0.00012219516313560774, 0.012612119547130263, -0.00594966573142397, 0.004356519208028153, 0.008750629065928273, 0.008004961938525845, -0.022247818658926555, 0.005235341179619546, -0.006189344450955758, -0.007494261923890022, -0.01993092437021815, -0.02632235689082396, -0.005337153448208731, -0.0017153416865385296, -0.008106774207131906, -0.009811156212618855, -0.007068166422536493, 0.0011608029477363502, -0.015669969356497226, 0.002119517825829753, 0.005981008307012203, -0.020223865027420018, 0.016127407433455865, -0.014924302229088582, -0.00728121417322658, 0.015914359682752455, -0.005816510887240334, -0.0025142707516128127, -0.007733940643423587, -0.010077465900986127, 0.013783882175899542, -0.003046890128316271, 0.010348487196101708, 0.003477697236448307, 0.004809245678227825, -0.0192385191805009, -0.013592753787300182, 0.0034776972364447545, -0.008745917459186181, -0.01513734997977867, 0.013064846017330822, -0.018333066240097118, 0.007099508998128279, -0.004245283725940574, -0.0013957700604985135, -0.005869772824913966, 0.0026255062337012802, -0.01569660032534248, -0.0015821868423495644, 0.0003885048514806755, -0.010370406558170231, -0.004911057946848096, 0.01112078529232452, 0.0035043282052908964, -0.0005169480889382072, -0.005443677323545337, 0.00677993737208471, 0.01476922802282754, -0.006828487703003816, -0.008905703272199084, -0.0020881752502415196, 0.005235341179613329, 0.009496296193331588, 0.004010316613165088, 0.016926336498530148, -0.005230629572849033, 0.0034776972364305436, -0.004271914694773393, -0.020170603089745498, 0.009043569723128364, 0.005847853462848107, -0.0065355470458330345, -0.0015821868423646634, 0.000681445508676326, 0.01199960726390259, 0.002012993950473607, 0.00960282006867974, -0.0016088178112010354, 0.004596197927535961, 0.0008146003528528567, -0.0024876397827915397, 9.556419430278851e-05, -0.0046447482584772715, -0.0159895409825328, 0.017299170062204716, -0.003792557255732909, -0.043206391132719624, -0.0004370551824077751, -0.00379255725572758, -0.003446354660846751, -0.004591486320809857, -0.0035528785362108906, -0.005683356043068244, -0.020703222466449844, -0.008639393583838029, -0.004005605006430102, -0.02808000083398632, 0.008750629065917614, -0.015829755169525228, 0.00012219516312672596, 0.011067523354633124, -0.010370406558180889, -0.002647425595776909, 0.0008412313216874523, 0.005022293428915248, 0.00952292716216352, -0.008080143238296422, -0.013912325413346416, 0.00033524291381681337, -0.01593627904486361, 0.004409781145689351, -0.007680678705760613, -0.006615439952335045, 0.0232645070814268, -0.008879072303384916, 0.008004961938533839, 0.014369763490289955, 0.01855082559752308, 0.012292547921091135, 0.01588772871393651, 0.020734565042050512, 0.010321856227242243, -0.014178635101694148, 0.0045961979275706, -0.004591486320801863, -0.000410424213585614, -0.006615439952324387, -0.007840464518777068, -0.0016088178112081408, 0.005155448273097996, 0.002838553984368275, 0.01942964756909138, 0.001160802947731021, -9.08525875367161e-05, 0.017139384249204248, -0.011595431124620248, 0.002865184953209976, -0.016548791328095724, -0.0015289249046883668, 0.005315234086118004, -0.016495529390401664, -0.006402392201649398, -0.0008365197149560188, -0.012367729220842172, -0.013033503441755911, 0.007925069032019394, 0.010162070414237334, 0.020042159852309283, -0.0016620797488657857, 0.014556180272144559, 0.007099508998088311, -0.021315734749689064, 0.004463043083374529, -0.01223457437668607, 0.004063578550836944, 0.0013205887607510292, -0.005124105697519532, -0.008825810365701514, 0.00504892439775162, 0.001533636511413583, 0.007791914187857962, 0.002811923015562101, -0.0006767339019457808, 0.008937045847789094, 0.013570834425221001, 0.004249995332680001, -0.015297135792811112, 0.0005749216333406082, 0.024888996180452594, 0.002598875264863132, -0.005417046354698307, -0.0042719146947698405, 0.010827844635134198, 0.0021994107323317635, -0.012314467283177422, -0.005603463136552023, 0.0036108520806079625, -0.013672646693831503, -0.0038191882245763864, 0.002039624919323302, -0.0027805804399729794, -0.016868362954102878, -0.0050708437598334655, 0.002252672669987632, 0.006194056057698738, 0.025208567806456195, 0.0039037927378160475, 0.010561534946766926, -0.0026474255957991133, 0.0015070055425923101, -0.005816510887241222, 0.028750486661603958, 0.002918446890888049, -0.006562178014650755, -0.001741972655377566, 0.010641427853278707, -0.013512860880805277, 0.005528281836814308, 0.0019331010439707086, 0.011733297575549528, 0.0028918159220401307, 0.017778527501281616, 0.006380472839526696, 0.026886318843120094, 0.02518193683764025, 0.008857152941296853, -0.003952343068761799, -0.00019737646288398025, -0.0007566268084628902, 0.015594788056752407, 0.011786559513215167, -0.008160036144803762, 0.0022793036388257804, 0.0024923513895283023, 0.010428380102577073, 0.0015336365114260175, 0.0016135294179449033, 0.008590843252902047, -0.015536814512320696, -0.00688174964068633, -0.00046368615127168056, 0.009656082006358702, 0.0007347074463526226, -0.002247961063264192, 0.008138116782717475, 0.0034510662676225934, 0.006433734777226974, 0.001240695854225926, -0.004218652757115748, -0.0031267830348395975, 0.022838411580083928, -0.003659402411550161, -0.005070843759845012, -0.0257098446075954, 0.002465720420670614, -0.008346452926674353, -0.005949665731435516, -0.00648228510815585, 0.01532847836838247, -0.011116073685559336, 0.01841767075334033, -0.00038379324475723564, -0.008106774207131018, 0.005608174743313654, -0.008586131646174167, -0.01609606485786408, -0.006242606388624061, 0.004489674052190473, 0.018071468158472825, 0.001267326823072068, -0.0034463546608636264, -0.007893726456427608, 0.007632128374821967, -0.00650891607698334, -0.00041042421358650216, -0.0030735210971704063, -0.0008631506838012726, 0.0037173759559552266, 0.0028385539843664986, -0.002620794626952083, -0.008772548428036764, 0.002359196545349107, -0.004085497912936553, -0.012101419532511315, 0.007818545156673906, -0.015803124200663987, 0.008750629065936266, -0.005070843759837018, 0.01322463183034639, -0.007813833549942473, -0.011835109844145819, 0.010108808476558373, -0.011435645311599352, -0.0006234719642792541, 0.013277893768017357, -0.01612269582669512, 0.005661436680992615, -0.0038990811310712914, 0.009469665224500545, -0.009784525243801134, -0.001795234593035211, 0.002865184953218858, 0.014529549303293976, -0.0029669972218258067, 0.013277893768014692, -0.001955020406064989, 0.004809245678239371, -0.02642888076615968, 0.013118107954999125, 0.006806568340917529, 0.01125394013649128, 0.011759928544388565, 0.0021727797635158197, 0.0026521372025438694, 0.0013738506984166676, 0.0009477551970435982, -0.001049567465630119, 0.005821222494002853, -0.005949665731431963, -0.0015821868423433472, 0.012931691173156068, 0.010268594289576605, -0.014418313821220607, 0.007978330969675262, 0.013011584079645644, 0.010375118164909658, 0.014396394459116557, -3.759064988972938e-05, 0.003211387548072153, -0.0048311650403141115, 0.015381740306059655, 0.0014803745737523855, -0.014018849288677693, 0.0052886031172709735, -0.006482285108152297, 0.010135439445364547, 0.00765875934367255, 0.00699298512275881, -0.010476930433505949, -0.00019737646289641475, 0.00225267267000806, -0.014924302229090358, -0.014791147384918268, -0.024245141321624253, -3.759064987285399e-05, -0.0030468901283438043, 0.014316501552619876, -0.0031800449724981306, 0.0059277463693545585, -0.02019723405857654, -0.00959810846192699, -0.008879072303359159, -0.012953610535231697, -0.00038379324475279475, 0.016020883558101495, 0.004809245678245588, 0.010481642040252481, -0.0028604733464918652, -0.0019550204060374554, 0.014369763490289955, 0.008777260034768197, 0.0009211242281939036, -0.003153414003683075, -0.01734772039315846, -0.014524837696542114, -0.004271914694761847, -0.0037126643492291223, 0.004862507615907674, 0.010135439445403627, -0.003180044972509677, -0.013459598943136974, -0.0021680681567533, -0.001315877153996503, 0.007898438063188351, -0.004458331476599575, -0.006668701889974926, 0.005528281836794768, 0.0006814455086852078, 0.0004950287268217224, 0.0059277463693296895, -0.006775225765349724, 0.007179401904629401, 0.004010316613143772, 0.0031314946415825773, 0.00547501989911936, 0.018231253971467964, 0.008138116782697935, -0.015749862263014336, 0.006140794120036652, 0.005714698618654701, 0.004702721802891219, -0.0034996165985319294, 0.024010174208844326, -0.004698010196138469, 0.0016667913556034364, -0.009891049119149287, -0.011755216937640256, 0.009602820068671747, 0.0035842211117911305, -0.012207943407831934, -0.015350397730483856, -0.006828487703015362, -0.0028072114088146805, -0.012101419532503321, -0.007920357425280855, -0.00531052247938657, 0.00888378391010658, 0.010028915570059915, 0.011999607263917689, 0.005661436680980181, -0.008000250331789083, -0.0002240074317167995, 0.015221954493016554, 0.004702721802884113, 0.0036641140182913645, -0.004698010196140245, -0.01143564531160468, -0.0019550204060720944, -0.00770730967461386, 0.00683319930974946, 0.010455011071437426, -0.005576832167727197, 0.006886461247430198, -0.009038858116388937, -0.0002772693694259587, 0.009176724567311112, 0.0019597320128079687, 0.009522927162154637, 0.012452333734116472, 0.007871807094357308, -0.024431558103483297, 0.011786559513219608, 0.02187969670198342, 0.002199410732334428, -0.0049110579468285565, -0.004911057946847208, -0.006588808983503114, -0.007201321266692595, 0.005927746369339459, 0.008564212284089656, -0.0056833560430611385, -0.008905703272214183, 0.019456278537929528, -0.00736110707970461, 0.0018798391062881947, 0.005155448273082008, 0.021560125075948733, 0.011972976295067994, -0.010237251714009687, 0.002971708828551911, -0.003153414003687516, -0.022194556721262693, -0.0009696745591307732, -0.004005605006405233, 0.021799803795479633, -0.00573661798075964, -0.006855118671860616, 0.0026521372025429812, 0.00795170000085843, -0.005363784417043327, 0.008510950346416912, 0.005501650867970831, 0.0068331993097654475, -0.014152004132840013, 0.002998339797392724, 0.01658013390366886, -0.013006872472922204, -0.015004195135623455, -0.008106774207106149, -0.024511451009996854, -0.004564855351961938, -0.0011028294033019748, -0.011622062093474383, -0.015616707418824483, 0.013677358300540732, -0.00041042421356696224, 0.01383714411357051, -0.00459148632079831, 0.017565479750599522, 0.002305934607674587, 0.00446304308335943, 0.008084854845034961, -0.010903025934902999, 0.0017733152309560296, -0.005896403793753002, -0.004911057946838326, -0.0087725484280341, 0.015594788056749742, -0.01481777835375464, -0.006935011578356409, -6.422161871721954e-05, -0.007654047736933123, -0.00038379324473947207, 0.007206032873460444, -0.007840464518777956, -0.004804534071488398, 6.893322546286385e-05, -0.007227952235558277, -0.002088175250247737, -0.01596291001370531, -0.006082820575599612, -0.0013957700605189416, -0.015856386138348277, -0.0032865688478489474, -0.011169335623253396, 0.008937045847774883, 0.0040902095196821975, -0.011355752405121322, 0.006460365746061569, -0.0019283894372268406, 0.0011608029477372384, 0.0045961979275679354, -0.0005702100266011811, -0.0012093532786536798, 0.0010276481035598195, -0.00690838060952359, -0.0059230347626009205, -0.018918947554455556, -0.009172012960566356, 0.001986362981631906, 0.014023560895440212, 0.003744006924797816, -0.005283891510524441, 0.008031592907358664, -0.0161226958266818, -0.006375761232804145, 0.004090209519659993, 0.013810513144744796, 0.005395126992598698, 0.0010542790723953033, -0.008000250331776648, 0.0031581256104109556, -0.00019737646290884925, 0.014849120929341098, -0.012367729220854606, -0.013725908631479378, 0.0002553500073174675, -0.008559500677323584, -0.002887104315311362, -0.0011028294033197383, -0.008772548428027882, -0.0029137352841415165, 0.007738652250179001, -0.0020082823437306274, 0.004170102426185096, -0.0025941636581059413, -0.006508916076975346, -0.02006407921440001, -0.012261205345511783, 0.002492351389522973, -0.00829319098897141, 0.016260562277643942, 0.008910414878950945, 0.011520249824852336, 0.002971708828560793, 0.015195323524181958, 0.0009211242281912391, -0.004378438570099341, 0.0044097811456866864, 0.0031048636727515344, 0.004463043083363871, -0.020383650840429368, 0.0037706378936466223, 0.008644105190581008, -0.015297135792786243, -0.009118751022876737, 0.003903792737798284, -0.0009963055279742505, -0.0012093532786705552, 0.015275216430718608, 0.004942400522401691, 0.012851798266644288, 0.0004417667891658539, 0.007632128374824632, 0.0023325655764949715, 0.01173329757554864, 0.0051288173042634, -0.013406337005445579, 0.000335242913815037, -0.0007033648708008045, 0.004889138584749375, -0.009518215555458731, -0.0041653908194234646, -0.00935842974242096, 0.02241231607870997, -0.000916412621461582, 0.0014004816672334996, -0.019744507588392857, 0.0004151358203143829, 0.004915769553584859, -0.013672646693833279, 0.000601552602176092, -0.0044849624454679216, -0.008080143238300863, 0.003770637893655504, 0.0017200532932779566, 0.00800496193854805, -0.0033664617543598396, -0.012687300846899952, -0.001901758468411785, -0.01428515897703786, 0.005022293428940117, -0.005550201198890825, -0.008506238739659722, -0.0038724501622358076, -0.0005968409954340004, 0.0087506290659487, -0.004804534071492839, 0.0021727797634891743, 0.011546880793694037, 0.019775850163967768, -0.013219920223616732, 0.004036947581996131, 0.0068598302785920495, -0.01662868423459951, 0.01492901383584666, 0.013650727331720347, 0.005741329587472421, 0.006220687026548433, 0.006913092216271899, -0.003899081131069515, 0.024329745834868355, -0.002540901720451849, 0.009975653632374737, 0.0001488261319675388, -0.0030202591595074324, 0.013570834425220113, -0.013006872472907993, -0.028479465366534562, -0.001981651374896032, 0.0009477551970560327, -0.0006767339019386753, 0.017139384249209577, -0.003552878536209114, 0.0012406958542419133, 0.01950954047559783, 0.006460365746066898, -0.006295868326314569, 0.021347077325263086, 0.0037706378936332996, 0.0036641140183100163, 0.004809245678224272, 0.0018265771686269971, -0.005923034762608914, -0.0013425081228186642, 0.007791914187850857, 0.014023560895425113, -0.007840464518793944, -0.00429854566361243, -0.006322499295124295, -0.006988273516038035, -0.0020349133125616703, 0.009895760725857627, 0.009203355536140378, -0.0020349133125376895, -0.01761403008149731, 0.002439089451858223, 0.0024390894518369066, -0.017081410704802735, -0.0009963055279733624, -0.0016354487800285256, 0.01945627853793841, 0.012026238232746955, -0.0009164126214544766, -0.000676733901942228, -0.010636716246523292, -0.0012359842474944926, 0.012052869201574445, 0.012585488578294779, -0.010263882682822967, -0.006908380609521814, 0.007392449655317712, 0.0037972688624892115, 0.029336367976011246, 0.004436412114535493, 0.004542935989891639, -6.422161871544319e-05, -0.0051773676351798414, -0.006695332858825509, 0.004196733395001928, -0.004564855351964603, -0.0044317005077942895, -0.002061544281387384, 0.0014803745737790308, 0.0007080764775251325, -0.0018218655618689183, -0.008239929051296002, 0.0004151358203356992, 0.013411048612193888, 0.003877161768981452, 0.00273203010902634, 0.009336510380312468, 0.002545613327190388, -0.002274592032089018, 0.0006814455086949778, -0.0027273185023046764, 0.007099508998107851, -0.01303350344176124, 0.004649459865200711, 0.008431057439932665, 0.00821800968922659, -0.009118751022893612, -0.019291781118167428, 0.0007080764775269088, -0.011275859498597107, 0.0192698617560616, -0.005150736666350575, -0.010476930433516607, -0.0058697728249264, 0.013357786674530914, 0.0004151358203232647, 0.0015868984491032023, 0.007339187717630757, 0.011333833043000396, -0.009065489085230638, 0.004063578550828062, -0.011994895657148064, 0.003744006924803145, -0.004804534071475075, 0.006194056057704955, -0.005310522479372359, -0.007973619362943829, -0.0017153416865349769, 0.005315234086126885, -0.012128050501344134, 0.009789236850534344, 0.005448388930296311, 0.004516305021024181, -0.002274592032100564, 0.009602820068669082, -0.011462276280449046, -0.00634913026396422, -0.011169335623252508, 0.010002284601216438, -0.012820455691066712, -0.015563445481134863, -0.005576832167735191, 0.0012406958542268143, 0.014209977677269059, 0.00518207924193792, 0.008963676816617472, 0.013650727331732782, 0.019722588226289695, 0.0047559837405879435, -0.0012093532786510153, 0.01050827300911461, -0.017800446863362573, -0.006322499295135842, 0.021719910888970517, 0.012931691173134752, 0.006247317995373258, 0.008564212284088768, -0.014365051883576285, 0.0016667913556007719, -0.007014904484878848, 0.0038505308001264282, 0.00978923685052191, 0.01423660864611076, 0.014636073178650122, -0.005203998604029536, -0.011116073685573546, 0.015035537711184155, 0.004596197927544843, 0.006034270244685835, -0.016389005515063282, 0.001799946199795066, 0.004276626301521702, 0.00792506903204071, 0.013490941518688793, -0.010903025934896782, -0.020836377310642362, 0.00017545710080391075, 0.015168692555366903, 0.007179401904639171, -0.006615439952314617, -0.00014411452521212453, -0.016708577141085534, -0.004990950853343001, 0.007605497405975825, -0.001715341686526095, -0.018892316585604085, -0.014737885447244636, 0.00978923685054589, -0.005576832167721868, 0.0026521372025305467, 0.01540837127488448, 0.008058223876208359, 0.0008944932593735189, -0.02171519928223109, 0.0007879693840262547, 0.026886318843128088, 0.015461633212559889, 0.032478822298620535, 0.0035575901429503176, 0.006034270244684059, -0.0005702100265825294, 0.013890406051236148, 0.009336510380309804, -0.01825317333354448, 0.0037173759559747666, 0.0016667913556123182, 0.01061479688444944, -0.0074942619238971275, 0.005554912805640022, 0.000841231321706104, -0.00858613164616262, 0.018311146877974416, -0.011089442716739839, -0.008772548428021665, 0.015328478368365595, 0.0038505308001530736, -3.759064987196581e-05, 0.022625363829395617, 0.004676090834064617, -0.0035795095050428216, -0.0011827223098146433, -0.007307845142036307, -0.013512860880806166, -0.01340633700543048, -0.0005435790577630328, -0.0016354487800169792, -0.013113396348259698, -0.0016620797488533512, 0.005688067649814776, 0.009949022663541918, -0.0001174835563872989, 0.0028651849532179696, 0.003983685644325163, -0.002354484938605239, 0.01053490397792256, -0.01300687247291954, 0.0007347074463677217, -0.02483102263601822, 0.0004683977580075549, 0.008803891003608122, 0.0017200532932859502, 9.556419429745944e-05, 0.0022260417011574773, -0.010503561402352979, -0.005550201198915694, 0.016500240997153526, -0.0029669972218240304, 0.011839821450887023, 0.00765875934366278, -0.0011560913409844886, 0.0005482906644918017, -0.010263882682829184, -0.006508916076990445, -0.0007299958395892148, 0.005368496023761438, 0.004622828896382991, -0.0065621780146498665, -0.0022213300944278203, -0.0037126643492157996, 0.0004683977579951204, 0.010561534946761597, 0.009043569723137246, -0.022993485786331647, -0.014844409322575913, -0.0007832577773019267, -0.020516805684627215, -0.0049909508533536595, 0.0123191788899355, 0.012745274391295247, 0.004303257270366068, -0.002061544281417582, 0.000468397757978245, 6.893322545309388e-05, 0.010987630448137331, 0.006753306403254555, -0.005097474728686713, 0.0011075410100715999, -0.0011028294033259556, 0.002332565576516288, 0.018923659161217188, -0.00017074549405382555, 0.0037440069248066976, -0.002993628190654185, -0.007946988394100352, 0.0026521372025500867, -0.009092120054050135, 0.002918446890913806, -0.00011748355638552255, 0.015621419025574568, 0.0024657204206688377, -0.0011560913409827123, 0.0044097811457115554, 0.006300579933026462, 0.019110075943064686, -0.007733940643430692, 0.00041513582034191643, 0.014130084770762608, 0.009922391694709098, 0.0079250690320114, -0.017241196517817414, -0.0077339406434466795, 0.012212655014591789, 0.02182643476431778, 0.014902382867005848, 0.009203355536145708, 0.0076054974059776015, 0.020628041166708577, 0.006620151559051379, 0.00014882613196132155, 0.003690744987125072, 0.012425702765252566, 0.010854475603962577, -0.00286047334648476, 0.0008146003528697321, -0.01758739911266538, -0.0072279522355458425, -0.0009164126214695756, -0.003366461754361616, 0.0006015526021920792, -0.001662079748852463, 0.016340455184135294, 0.011360464011829663, -0.022167925752423656, 0.007206032873461332, -0.009065489085222644, 0.006833199309755678, -0.006429023170475112, -0.0024343778451028086, -0.008479607770831343, 0.0035309591741219393, -0.001475662967026281, 0.007578866437149223, -0.006082820575595171, -0.002620794626950307, 0.01207950017040993, 0.002146148794659908, -0.0007033648707723827, -0.00560346313655824, 0.019163337880736542, 0.012186024045745647, -0.012527515033853298, 0.003264649485759996, 0.007339187717638751, 0.003344542392254013, 0.013837144113572286, 0.008670736159439585, -0.01417863510170303, -0.006455654139297273, 0.007126139966951328, -0.008719286490350697, 0.019775850163954445, -0.005603463136555575, 0.02052151729134355, -0.015962910013676, 0.004063578550850266, 0.002199410732324658, -0.006588808983494232, 0.007365818686479564, -9.08525875491506e-05, -0.013912325413330429, 0.0163138242153007, 0.0014004816672343878, 0.02033510050948184, -0.0030735210971650773, -0.005070843759851229, 0.011759928544393894, 0.011866452419719842, -0.010450299464664248, 0.005261972148442595, -0.01071660915303596, -0.0017952345930423164, 0.011946345326227181, -0.0034463546608733964, -0.00738773804856141, -0.007654047736905589, -0.008160036144806426, -0.011249228529755406, -0.004032235975249598, -0.02762727436377954, 0.00781854515666236, 0.007925069032019394, -0.01106281174792656, 0.0023858275141526164, 0.00350432820527935, 4.230225661761011e-05, 0.0003086119449813296, 0.00968271297517731, -0.016229219702052156, -0.006642070921143883, -0.0015022939358653176, -0.016815101016440792, -0.013353075067797704, 0.01503553771118682, -0.004644748258469278, -0.005177367635186947, -0.006828487703020691, 0.02110739860572597, 0.011600142731372998, 0.0046228288963900965, -0.005896403793747673, -0.006402392201642293, 0.0004151358203179356, 0.028351022129085024, -0.007014904484854867, 0.017991575251970815, 0.009709343944037663, -0.0039789740375919536, 0.01394366798890978, 0.00912346262962771, -0.008293190988988286, -0.0008631506837870617, -0.01572323129416997, 0.006114163151213603, -0.004405069538941042, 0.014449656396779531, 0.012106131139256071, 0.007925069032024723, -0.013832432506826642, -0.004351807601276292, -0.002620794626952083, 0.007818545156688117, -0.016735208109929012, 0.008457688408710418, -0.001022936496798188, 0.008883783910119902, 0.015062168680027632, 0.012319178889938165, 0.010241963320733127, -0.02051680568461034, -0.012847086659911078, 0.007871807094352867, 0.012851798266649617, 0.008324533564557868, -0.0025142707516110363, -0.018519483021920635, 0.008457688408742392, 0.012026238232735409, -0.00038379324476078835, 0.00603427024466896, -0.00882581036569885, 0.0009477551970498155, 0.009176724567293348, 0.01088110657280339, 0.0012406958542339197, -0.00163544878003119, -0.0031534140036697522, -0.012847086659912854, -0.006855118671854399, 0.010321856227267112, 1.5671287791896304e-05, -0.011302490467422821, -0.011488907249293412, 0.009869129757037243, -0.01207478856366695, -0.014764516416101436, -0.004058866944098405, 0.007845176125525377, 0.001533636511398484, 0.0032912804546025853, 0.0013205887607377065, -0.002860473346470549, -0.012847086659922624, 0.00022871903848820097, 0.004010316613160647, -0.002141437187912487, 0.003424435298774675, 0.006779937372087375, 0.02102750569924794, 0.0024923513895140914, 0.012239285983427273, -0.011994895657155169, 0.01871061141053243, -0.01021062074515644, -0.0023012230009245016, -0.011941633719493971, 0.0040902095196626576, -0.0037659262869178534, -0.017480875237343874, -0.006721963827673427, 0.008777260034763756, -0.005470308292400361, 0.0077919141878641796, 0.010801213666309373, 0.01769863459474763, 0.0014271126360858588, 0.0003885048515002154, 6.893322543888303e-05, 0.020468255353701892, -0.006455654139299938, -0.004884426978025935, 0.013144738923825727, 0.014263239614944467, 0.013837144113582944, -0.0023544849386016864, 0.009789236850523686, -0.009891049119130635, -0.00310015206598635, 0.021080767636925124, 0.005927746369336795, -0.0024610088139489505, -0.004564855351956609, 0.010162070414226676, 0.004223364363854287, 0.0002553500073139148, -0.0006234719642517206, -0.008160036144783334, -0.022460866409640623, -0.005763248949584465, 0.002598875264853362, -0.00163544878003119, 0.011360464011839433, 0.004782614709384347, -0.009331798773581923, 0.0064869967148890595, 0.011946345326209418, -0.008532869708500535, 0.009789236850534344, -0.006775225765346171, 0.0025456133272072634, -0.000357162275907541, -0.015483552574639958, 0.02219926832802699, 0.008617474221765953, -0.006535547045807277, -0.008905703272212406, 0.02677979496776306, -0.008213298082480058, -0.011062811747912349, -0.019052102398638304, -0.007574154830409796, -0.010876394966058633, 0.019376385631415083, -0.002354484938589252, -0.013566122818475357, -0.00033053130708093903, -0.004964319884500412, -0.007414369017406663, 0.008084854845034961, -0.007547523861582306, -0.0029936281906719486, 0.010694689790948786, -0.009092120054054575, 0.014822489960510055, 0.002705399140209508, -0.007148059329052714, -0.015616707418812048, 0.02022857663415678, 0.0006548145398550531, 0.012825167297811468, 0.001027648103566925, -0.007707309674598761, -0.006136082513289232, -0.010503561402336992, 0.007419080624118557, -0.0032066759413336143, 0.003877161768996551, -0.004911057946835662, -0.013752539600313973, -0.005709987011930373, 0.005235341179606223, 0.004356519208021048, -0.015483552574645287, 0.001373850698413115, 0.002945077859740408, 0.006034270244676954, 0.010002284601214662, 0.005847853462855213, -0.009837787181460556, -0.00424528372595212, 0.016233931308789806, 0.023823757426998604, 0.010162070414217794, 0.01072132075976917, 0.009443034255666838, -0.004218652757097097, 0.011972976295053783, -0.017374351361993057, -0.0017686036242050562, 0.008084854845050948, 0.00033524291380881976, -0.0015821868423859797, -0.006775225765353277, 0.010348487196075062, 0.01335778667451848, 0.007765283219024255, -0.007334476110894883, -0.013752539600319302, 0.009070200691974506, 0.0015868984491040905, 0.002465720420705253, 0.013863775082413099, 0.016606764872515, 0.010854475603949254, 0.0025988752648657965, 0.001533636511443781, -0.012048157594828801, 0.005608174743311878, -0.001662079748862233, -0.002807211408793364, 0.015488264181414912, 0.006486996714907711, 0.03476908561851566, 0.004063578550829838, 0.005954377338175831, -0.016202588733218448, -0.0010495674656469944, -0.0031800449725167823, -0.008186667113629476, 0.0207079340731946, -0.010796502059544189, 0.01109415432347216, 0.0008412313216954459, 0.011946345326235175, 0.005448388930290093, -0.008426345833165705, 0.008537581315249732, -0.0016354487800196438, 0.0029450778597235328, 0.0032912804546025853, -0.002407746876248673, -0.006828487703028685, -0.001528924904689255, -0.002753949471104633, 0.0060609012135133256, 0.005315234086096687, 0.015408371274886257, -0.024431558103497508, -0.0030735210971615246, -0.0008098887461143178, -0.011036180779088411, 0.01162677370018006, -0.015004195135603027, 0.001799946199784408, 0.00022871903848020736, 0.002545613327185947, -0.0049376889156800274, 0.01024196332073224, 0.0012939577919004464, -0.01332644409893291, 0.0009211242281983445, -0.00017074549405382555, 0.00020208806964649995, 0.011200678198824754, 0.013544203456378412, 0.01697959843620822, 0.009363141349143511, 0.014662704147480277, -0.004458331476632438, -0.008825810365689968, -0.009305167804733117, 0.003451066267605718, 0.004755983740564851, 0.008883783910123455, -0.0021414371879151517, 0.01048164204026314, -0.008133405175974495, 0.005688067649813888, -0.009837787181449897, 0.0027586610778609355, 0.0003618738826576262, 0.0031847565792526566, 0.006806568340916641, 0.011174047229987494, 0.002678768171378465, -0.006002927669102931, -0.009837787181464996, -0.022141294783600607, -0.01564333838765819, -0.006588808983489791, 0.008138116782723692, 0.00030861194497600053, 0.002092886856981835, -0.010769871090703376, 0.023078090299581078, 0.0193763856314213, -0.009997572994478787, -0.012207943407832822, -0.0015821868423717689, -0.0034463546608636264, -0.00017074549405915462, 0.008191378720382225, -0.0010229364968070698, 0.0010276481035642604, -0.0005968409954242304, 0.007152770935778818, 0.002279303638843544, 0.011280571105340087, 0.011893083388565984, 0.009176724567320882, 0.0037173759559596675, -0.001475662967020952, 0.0029717088285847737, -0.009624739430782903, 0.010881106572805166, 0.015914359682772883, 0.0022260417011574773, 0.025181936837618935, 0.0054750198991273535, -0.0066420709211652, 0.007845176125518272, 0.0021727797634998325, 0.012052869201559346, -0.013273182161279706, 0.022119375421516985, -0.011009549810247599, 0.0067533064032456736, 0.007818545156677459, 0.004143471457352277, 0.00507555536660842, 0.012532226640616706, -0.008106774207136347, 0.006726675434404861, -0.013459598943108553, 0.01567468096323399, -0.009757894274964762, -0.01441831382121972, -0.0013158771540071612, -0.005656725074230984, 0.0026787681713695832, 0.021107398605752614, -0.0039789740375963945, -0.011648693062295656, -0.0028072114088013578, -0.009012227147560559, -0.009651370399613945, -0.0011028294033348374, 0.00709950899811318, 0.011839821450870147, -0.010077465900986127, -0.013006872472903552, 0.0022260417011645828, 0.0014803745737630436, -0.016602053265750705, 0.005475019899114919, -0.019797769526044284, 0.005155448273097996, 0.0028119230155549957, -0.0021414371878947236, -0.006162713482122051, 0.01199960726389726, -0.008692655521498338, 0.007712021281326642, 0.008777260034765533, 0.012212655014574025, -0.003899081131073956, 0.011520249824871875, 0.011174047229996376, -0.004218652757113972, 0.007951700000851325, 0.004569566958712912, -0.006136082513271468, 0.020228576634154116, 0.002865184953225075, 0.017831789438941925, -0.014178635101695924, -0.01649552939040877, -0.0016620797488684502, 0.015754573869736, -0.005044212791003311, -0.008000250331807734, -0.01220794340784881, -0.004032235975230947, -0.011462276280444605, -0.0033131998166764376, 0.018577456566354122, -0.0019550204060516663, -0.005150736666354128, -0.004085497912931224, -0.0006234719642668196, -0.00445833147661201, 0.01242570276528987, -0.005470308292374604, 0.02033510050949694, 0.005954377338162509, -0.007973619362943829, 0.0022793036388355503, -6.422161870833776e-05, -0.0022213300944198267, -0.003499616598535482, -0.012207943407852362, 0.00033524291382658333, 0.003584221111798236, -0.020543436653444047, 0.008537581315268383, 0.004116840488518569, 0.010801213666295162, 0.019189968849568473, 0.011813190482042657, 0.0044630430833505486, -0.002594163658104165, 0.02089435085505631, -0.00624260638863916, -0.00994431105679805, -0.0033930927231820007, -0.002247961063243764, 0.006513627683712997, -0.005337153448213172, -0.014418313821230377, 0.008297902595722384, 0.0004683977579960086, 0.000787969384022702, 0.011360464011837657, 0.010668058822087545, 0.0028119230155496666, -0.003606140473896957, 0.002518982358347799, -0.005470308292375492, 0.004223364363843629, -0.015137349979776893, -0.0049376889156800274, -0.0056833560430611385, 0.024782472305084013, 0.011919714357383704, 0.0010010171347270003, -0.019904293401380002, -0.014391682852393117, -0.00286047334647499, -0.004165390819446557, -0.008532869708500535, 0.004170102426164668, 0.0014004816672468223, -0.005150736666354128, -0.015590076449995216, -9.085258752161707e-05, 0.006220687026536886, -0.00935842974243517, -0.01074324012185901, -0.0038990811310855022, 0.011333833043015495, 0.0018798391063103992, 0.016606764872483026, 0.005608174743309213, -0.00983778718143391, 0.005341865054934836, 0.009762605881691755, 0.00717940190461519, -0.01252751503388172, 0.011014261416973703, -0.0058964037937441205, 0.011253940136501939, 0.012771905360146718, 0.00885715294125955, -0.008266560020130598, 0.004782614709413657, -0.012980241504085832, 0.0007347074463677217, -0.017400982330827652, 0.0067533064032456736, 0.00472935277172315, 0.008138116782698823, -0.00584314185608914, -0.012207943407841704, -0.008532869708494317, 0.0032113875480881404, -0.0028871043153184672, -0.00869265552151166, -0.0042719146947796105, -0.007281214173204376, -0.01822654236472321, 0.0003086119449724478, -0.01327318216128237, 0.0037972688624705597, 0.00315812561042339, -0.00499095085333412, 0.02443626971020052, 0.0027320301090432153, -0.004884426977990408, -0.022034770908253343, 0.0017733152309595823, -0.01819991139589039, 0.013304524736868828, 0.004170102426171773, 0.0014271126360831943, 0.0077120212813541755, 0.006513627683737866, 0.01532847836837714, 0.009309879411487643, -0.006748594796485818, -0.0037126643492157996, 0.00382389983131759, 0.010188701383063048, -0.009305167804734005, 0.013198000861510018, 0.0027053991402166133, 0.00888378391011635, 0.0025189823583557924, 0.0024657204206937067, -0.005443677323549778, -0.01172858596880122, -0.01407211122633445, 0.012665381484779914, -0.002966997221832024, 0.0066467825279090675, 0.0023059346076887977, -0.012181312438992897, -0.013219920223606074, 0.005315234086118004, 0.00406357855084849, 0.010135439445400074, 0.01580783580743894, -0.017880339769872577, 0.009842498788217746, 0.01271864342248108, 0.00813811678270504, 0.001799946199784408, -0.010849763997214268, 0.0050489243977409615, -0.01566996935650522, -0.009464953617744243, 0.014130084770758167, -0.004857796009184234, -0.0073344761108771195, 0.0019863629816478934, -0.005869772824909525, 0.0039836856443207225, 0.007605497405982042, 0.009256617473815787, 0.0134376795810347, 0.019349754662594698, -0.007840464518770851, -0.0013158771539920622, -0.013859063475676336, -0.007973619362951823, -0.006508916076975346, -6.422161871988408e-05, -0.021688568313400047, -0.009704632337272479, -0.018093387520573323, 0.0008146003528519685, -0.010050834932146202, -0.014897671260255763, 0.006353841870695653, 0.005128817304266953, 0.012106131139249854, -0.00035716227593152183, -0.021502151531538338, 0.0010542790723908624, 0.011520249824870099, -0.018679268834953966, -0.012793824722248104, 0.0047559837405533045, 0.006034270244690276, -0.006455654139291056, -0.0009963055279724742, 0.014103453801928012, 0.004889138584740493, 0.004170102426166444, 0.009176724567310224, 0.004942400522423895, -0.014631361571883161, -0.0052306295728685726, 0.010241963320737568, -0.008852441334529004, -0.0188656856167837, -0.008958965209883374, 0.002492351389521197, 0.006566889621385741, 0.00036187388265673803, -0.002780580439970315, -0.0034996165985132777, -0.0033930927231962116, -0.007414369017394229, -0.001369139091679017, -0.0022213300944251557, 0.00012219516314004863, 0.003158125610427831, -0.007680678705752619, -0.00400560500640168, 0.012239285983408621, -0.005603463136567122, 0.006433734777210098, -6.422161873320675e-05, 0.0068598302785920495, -0.02059669859111679, 0.012585488578298332, 0.0014537436049266717, 0.0032113875481085685, 0.004622828896366116, -0.0025409017204447437, 0.02214600639034625, 0.0020928868569791703, 0.0005482906645051244, -0.0004104242135776204, 0.0009743861658710884, -0.0008897816526243219, -0.00805351226945561, 0.0035842211117813605, -0.01878579271028169, 0.004942400522399026, -0.009038858116375614, -0.0021414371879098226, 0.0024923513895256377, -0.023313057412393867, 0.012478964702943962, 0.008004961938543609, -0.0030202591594790107, 0.007419080624145202, -0.027174547893559442, -0.012447622127361946, -0.005417046354720512, 0.005741329587489297, 0.007685390312506257, -0.008639393583833588, 0.007179401904624072, 0.005235341179600894, -0.007920357425271973, 0.013091476986175188, 0.004196733395017027, 0.0024390894518360184, -0.008799179396860701, -0.007201321266707694, 0.0013205887607421474, -0.010929656903709173, -0.013459598943142304, 0.0037706378936519513, 0.013437679581038253, -0.018865685616795247, -0.024697867791857675, 0.011227309167656685, -0.005470308292379933, 0.0038238998313007144, 0.006513627683719214, 0.012931691173156956, 0.004436412114549704, -0.005150736666352351, -0.012447622127363722, -0.00752089289274771, 0.006859830278591161, -0.001955020406060548, 0.012292547921092023, -0.005683356043085119, -0.0033398307855083686, 0.012186024045742094, 0.02520856780646419, 0.002891815922061447, -0.013672646693810186, -0.013193289254775031, 0.011546880793683378, -0.019238519180493796, -0.006508916076978011, -0.0013425081228390923, -0.0032333069101619927, 0.011493618856026622, -0.0028338423776528288, -0.0022745920320872415, -0.013219920223611403, 0.003930423706646202, 0.0029717088285936555, -0.002807211408807575, 0.010721320759785158, -0.0043518076012842855, -0.006881749640693435, 0.005581543774469289, 0.0013205887607377065, -0.011222597560928804, -0.003925712099931644, -0.004564855351984143, 0.002279303638839991, -0.0010495674656558762, 0.017751896532455902, 0.011972976295067106, -0.009411691680069723, 0.015541526119057458, 0.008937045847791758, 0.0004151358203339228, 0.02227916123449525, -0.005816510887257209, -0.006535547045816159, 0.002918446890888937, -0.009385060711230686, 0.006247317995373258, -0.003046890128327817, 0.025155305868810984, 0.00464945986521581, 0.000468397757988015, 0.01354420345638907, 0.012399071796443728, 0.00946966522450321, -0.0005702100266029575, 0.0154350022437173, 0.005475019899126465, -0.008479607770825126, -0.00320667594133095, -0.005257260541688069, 0.009336510380304475, -0.010210620745144006, -0.0024077468762762066, 0.007285925779965119, -0.00693501157835108, 0.004116840488515905, 0.006646782527921502, 0.00017545710080302257, -0.003845819193401212, 0.01743232490641855, -0.014950933197937388, 0.002545613327201046, -0.0013691390916665824, -0.011275859498579344, 0.0036374830494754207, -0.003073521097154419, -0.019744507588355553, 0.017911682345474134, 0.006886461247451514, -0.002700687533470969, -0.0020881752502361905, 0.018763873348190074, 0.013091476986176964, 0.012585488578302773, -0.007946988394122556, -0.025070701355535796, 0.00992239169471354, 0.0007613384151978764, 0.0021994107323362044, -0.010663347215378316, 0.012239285983419279, 0.01058816591560241, 0.011759928544393894, 0.012612119547120493, -0.01692162489177118, -0.036255708266567765, 0.009070200691950525, -0.0012359842474820582, -0.017480875237329663, 0.014209977677272612, -0.006029558637941079, 0.01373062023822591, 0.006220687026543992, -0.005789879918418173, 0.0017733152309711286, -0.014604730603067217, -0.009145381991736201, 0.023557447738633108, -0.026668559485703014, -0.014391682852378906, -0.009784525243782483, -0.009784525243785147, -0.0010761984345029063, -0.018173280427060234, 0.009549558130999003, 0.0011341719788973137, 0.022119375421520537, -0.00469801019613314, 0.004329888239170465, -0.0037126643492166878, -0.0023278539697519918, 0.009416403286807373, -0.014791147384909387, -0.004644748258475495, 0.006327210901880598, -0.0027006875334647518, -0.01124922852975807, -0.015110719010956508, 0.007951700000845108, -0.002034913312570552, -0.015217242886313542, -0.0008365197149551307, -0.01140901434279673, 0.01663339584131851, -0.01812001848939726, -0.009811156212633065, -0.004192021788256284, -0.003393092723197988, 0.006273948964203413, -0.008080143238296422, -0.0038191882245675046, 0.010801213666284504, 0.0055549128056417985, -0.002514270751613701, 6.893322547174563e-05, -0.004325176632447025, 0.00033524291382658333, 0.02619391365337087, 0.013224631830337508, -0.001848496530718613, -0.003552878536207338, 0.01189308338856332, -0.0009963055279600397, -0.01076987109072114, 0.014502918334454051, 0.006486996714870408, -0.010503561402358308, -0.009811156212623295, 0.016420348090646186, 0.0032646494857582198, 0.002572244296037418, 0.005741329587480415, -0.005789879918413732, 0.0017200532932788448, -0.0037392953180575006, -0.0007566268084486794, -0.004058866944084194, -0.01857274495958361, 0.00891041487894828, 0.0027586610778662646, -0.0014490319981916855, 0.023903650333479298, 0.0020928868570013748, 0.016873074560851187, -0.002434377845100144, -0.005630094105400829, -0.0013425081228417568, -0.007227952235568047, 0.0012406958542383606, -0.013246551192426459, 0.004249995332680001, -0.009464953617744243, 0.0038505308001370864, -0.00765404773691003, 0.0007879693840342483, -0.00738773804855164, -0.0074676309550802955, 0.012532226640615818, 0.003903792737813383, -0.0055235702300509, 0.018391039784472873, -0.0025941636581281458, 0.001906470075121014, -0.009145381991729096, 0.01761874168826072, 0.0031847565792615384, 0.000708076477518027, 0.011600142731372998, 0.010188701383059495, 0.0025722442960196545, -0.0004903171200867362, 0.009070200691971841, -0.006455654139301714, -0.004564855351973485, -0.011595431124611366, 0.01764537265710775, -0.016495529390410546, 0.013357786674519367, 0.004622828896377662, -0.007680678705750843, -0.005550201198896154, -0.0029669972218098195, -0.017161303611295864, 0.006886461247430198, 0.012771905360156488, 0.007472342561832157, 0.0038238998313024908, -0.005976296700255901, -0.009198643929400063, -0.014125373164025845, 0.022012851546159062, -0.006881749640678336, -0.009225274898254199, 0.019562802413276792, 0.01165340466902176, -0.010024203963310718, -0.004724641164974841, 0.014902382866988972, -0.01348622991199111, -0.004618117289649781, 0.0047826147093994464, -0.009518215555407217, -0.0015821868423548935, -0.007760571612291045, -0.015243873855131262, -0.005044212791011304, -0.008293190988979404, 0.008590843252920699, 0.0011874339165611758, -0.022594021253812713, 0.0009477551970382692, 0.0077120212813373, 0.0012673268230782853, 0.0021994107323211054, 0.000814600352889272, 0.0015070055425958628, 0.008404426471076754, -0.0023278539697644263, -0.008612762615011427, -0.0043251766324381435, -0.004271914694782275, 0.0056348057121420325, -9.085258753316339e-05, 0.008404426471083859, -0.00038379324476078835, -0.0008098887461009951, 0.0007879693840200375, 0.006140794120031323, 0.002518982358372668, 0.0027852920467088538, 0.0077120212813293065, 0.003504328205274909, -0.008772548428016336, -0.011009549810215624, 0.0035575901429636403, 0.011040892385814516, -0.004058866944092188, 0.006087532182347033, 0.0027320301090592025, -0.009678001368441436, 1.5671287806995338e-05, -0.014524837696570536, -0.01135575240511244, 0.005182079241930815, -0.005044212791026403, 0.011653404669037748, -0.006189344450966416, 0.008058223876199477, -0.019877662432559617, -0.0063224992951305126, -0.013299813130114302, 0.00893704584779087, 0.014929013835828897, 0.000841231321681235, 0.005688067649813888, 0.017192646186895644, -0.00017074549405915462, 0.0017466842621125522, -0.0010229364967919707, 0.0017466842621187695, 0.004569566958715576, -0.018785792710283467, -0.005283891510530658, 0.0023059346076541587, 0.004596197927554613, -0.000490317120085848, -0.004671379227301209, -0.0028338423776226307, -0.0009963055279680333, -0.014125373164032062, -0.006056189606768569, 0.0035309591741023993, 0.0042766263015190376, -0.008879072303365376, 0.010747951728632188, 0.0015336365114455575, 0.020601410197865988, 0.012692012453622503, -0.014578099634234398, 0.005767960556326557, 0.007152770935788588, -0.009331798773586364, 0.0002553500072881576, -0.0011294603721463403, 0.014636073178632358, -0.0041121288817551616, 0.001693422324438032, 0.005554912805635581, -0.011062811747913237, 0.01428987058377551, 0.006753306403243897, -0.0035795095050286108, -0.004325176632431926, -0.002008282343723522, 0.01061479688443523, 0.015195323524198834, 0.003877161768997439, -0.0035528785362046733, -3.75906499012757e-05, 0.01564804999440028, -0.016495529390406105, 0.007365818686474235, 0.0014803745737781426, 0.0021994107323104473, -0.00011748355639351615, -0.004990950853341225, -0.005843141856080258, -0.010210620745159105, 0.010747951728620642, 0.003238018516917407, 0.01138709498068291, -0.008719286490355138, -0.0020615442814051477, 0.006486996714874849, -0.003286568847866711, 0.013411048612204546, 0.011626773700186277, 0.005821222493969103, 0.0015336365114402284, 0.0015070055425949747, -0.003020259159505656, 0.0002553500073121384, 0.0011608029477336856, 0.011680035637855468, 0.00041513582032415286, 0.007312556748805932, -0.009251905867075472, -0.0006234719642694841, -0.004298545663608877, 0.0004417667891640775, -0.002061544281392713, 0.004969031491248721, 0.007925069032023835, 0.0041967333950188035, -0.02009071018324704, 0.0021195178258022196, -0.01250088406501959, 0.0022793036388417676, 0.004755983740571068, -0.006109451544446642, 0.007179401904619631, -0.013246551192439782, -0.00200828234373418, 0.016606764872480362, -0.001182722309803097, 0.0074723425618241635, 0.00893704584780064, 0.004489674052215342, -0.010663347215375651, -0.012740562784559373, 0.009176724567315553, -0.0023811159074424992, 0.017512217812923225, -0.009944311056820254, 0.005741329587494626, -0.01617595776437586, -0.010982918841406786, -0.0007832577772868277, -0.016948255860624428, 0.0015868984490996496, 0.010747951728618865, 0.013570834425227218, 0.009336510380330232, -0.0011560913409791596, 0.007818545156683676, 0.02118729151225729, 0.009762605881686426, -0.0037659262868894317, -0.013006872472918651, -0.00011748355638818708, 0.003957054675487903, 0.0009743861658728648, 0.00025535000731036206, 0.02752546209517348, -0.002594163658108606, 0.0020396249193019855, 0.0019331010439556096, 0.005714698618659142, 0.002012993950482489, 0.011733297575539758, -0.022141294783591725, 0.0025189823583504634, -0.016042802920209098, -0.0007566268084673311, 0.002625506233705721, -0.014657992540742626, 0.023637340645162652, -0.004431700507789849, -0.01084976399720361, -0.0021414371878956118, -0.014844409322592789, 0.003584221111788466, -0.0041920217882598365, -0.0154036596681566, -0.009678001368441436, 0.007791914187847304, -0.005150736666365674, 0.005261972148460359, 0.004915769553574201, 0.008803891003596576, -0.006668701889987361, 0.012905060204340124, -0.007893726456425831, -0.006455654139301714, 0.0015070055425931983, -0.012500884065032913, -0.030237109309689814, -0.012580776971554464, -0.0026474255957964488, -0.005816510887262538, -0.0019283894372321697, 0.006913092216259464, -0.009864418150285381, -0.018652637866097166, -0.021155948936665503, -0.004005605006430102, 0.01378388217590043, 0.007712021281335524, 0.017405693937569744, -0.0014756629670129584, 0.010055546538874971, 0.010508273009095959, 0.01668665777900813, 0.011706666606736249, -0.0007566268084264749, -0.002727318502311782, 0.011653404669040413, 0.011520249824862105, 0.00952292716216796, -0.015616707418807607, -0.0009430435902890721, 0.009176724567305783, 0.012665381484803895, -0.016175957764397175, -0.019025471429818808, 0.02448953164790524, 0.002732030109052097, 0.001720053293274404, -0.007467630955069637, 0.003797268862477665, -0.012154681470175177, 0.0009743861658755293, 0.007738652250176337, -0.0036061404738729763, -0.004671379227321637, -0.03345945653882332, 0.007845176125510278, 0.005741329587496402, 0.01639371712179649, -0.0057366179807294415, 0.007206032873465773, 0.008457688408750386, -0.020809746341799773, 0.01588772871394184, -0.013992218319850203, 0.004489674052197579, 0.012984953110811048, -0.001608817811188601, 0.0031581256104065147, -0.011675324031124923, 0.005501650867960173, -0.0194249359623484, 0.002092886856991605, -0.006508916076984228, -0.01319328925478569, -0.0061360825132785735, 0.0224123160786851, 0.006194056057718278, -0.001102829403313521, 0.010215332351905637, 0.004649459865221139, -0.0041387598505817635, 0.015621419025561245, 0.01961606435093266, -0.01825317333356402, -0.007387738048558745, 0.002891815922032137, 0.0013738506984308785, 0.00315812561043316, -0.009305167804741998, 0.014316501552613659, -0.0064556541393185896, 0.006566889621395511, -0.004058866944077977, -0.005843141856082035, -0.020277126965091874, 0.007365818686473347, 0.004116840488491924, -0.000809888746124976, 0.009016938754291104, -0.015776493231826727, -0.00914538199171755, 0.009016938754300874, 0.003184756579249992, 0.008617474221765953, -0.0042452837259432386, 0.01162677370020404, -0.01670857714110685, -0.004245283725940574, -0.0018751274995496559, -0.010716609153010204, -0.004618117289619583, 0.005128817304277611, -0.014018849288681245, 0.020654672135516527, -0.001821865561876912, -0.020756484404134135, -0.003819188224559511, 0.010561534946790019, -0.0009696745591210032, 0.012026238232727415, -0.01718793458014556, -0.002247961063242876, -0.0029669972218142604, 0.001560267480249955, 1.5671287791896304e-05, -0.011409014342769197, -0.0005702100265896348, 0.005022293428927682, 0.006726675434414631, -0.011036180779078641, 0.00717940190463473, -0.0024343778450877096, -0.004165390819444781, 0.012399071796433958, -0.013672646693811075, -0.002168068156747971, -0.02384567678909466, -0.01047693043351039, 0.0015070055425692175, 0.015195323524188176, 0.008777260034768197, 0.0119729762950751, 0.008271271626886012, -0.005923034762602697, -0.01809338752057066, 0.012345809858759438, -0.016628684234581748, 0.01796494428313622, 0.02470257939858911, -0.0037659262868698917, 0.011999607263911471, -0.011701954999970177, -0.02067659149762946, -0.001422401029352649, -0.0013425081228257696, 0.00901693875428844, 0.004676090834060176, -9.085258754382153e-05, 0.008084854845061606, 0.0019331010439733731, 0.009443034255663285, 0.006913092216271011, 0.0168997055296769, -0.004538224383132672, -0.01116933562325162, -0.00123598424750071, 0.007285925779964231, 0.0021461487946741187, -0.0024077468762557785, -0.011755216937637591, -0.011009549810244046, 0.0018798391062873065, -0.006322499295151829, 0.0004950287268288278, -0.018626006897283, 0.0036108520806239497, -0.0006234719642623787, -0.0018751274995478795, 0.012106131139246301, -0.005150736666360345, 0.012265916952255651, -0.026322356890832843, 0.0030782327038947344, 0.009602820068670859, -0.00341972369202459, 0.014023560895418008, -0.0022213300944082803, -0.0010761984344807018, -0.018679268834945972, 0.013917037020091172, -0.007014904484855755, 0.002918446890888049, 0.01130720207417557, -0.0012359842474820582, 0.002518982358354016, -0.005949665731439957, 0.004436412114536381, 0.014689335116321978, -0.009038858116374726, -0.010956287872544657, -0.0004104242135802849, 0.011094154323489036, 0.0014004816672530396, 0.004329888239184676, 0.0015868984490987614, 0.0014271126361009578, -0.023659260007231175, -0.0028338423776306243, 0.019269861756066042, 0.001853208137462481, -0.010583454308868312, -0.00925190586707103, -0.003952343068739594, -0.004005605006409674, -0.0029669972218302476, -0.012873717628744785, -0.002327853969748439, 0.0058212224939984125, 0.019243230787232335, -0.017321089424325642, -0.011062811747907908, -0.016069433889033924, -0.011968264688320573, 0.0168997055296769, 0.003957054675471028, -0.0027006875334576463, -0.007494261923915779, 0.0011075410100449545, -0.007227952235544066, -0.002407746876283312, -0.0008098887461196469, 0.002518982358344246, -0.020703222466472937, 0.003557590142936995, 0.012612119547128486, -0.0008365197149382553, -0.004005605006423885, 0.004489674052213566, 0.009709343944011906, -0.01178184790648551, 0.004809245678237595, 0.0027053991402086197, 0.012265916952233447, -0.010503561402352979, -0.004857796009161142, -0.019238519180503566, 0.005901115400515522, -0.008639393583872668, 0.0074457115929877915, -0.010849763997222261, 0.007046247060434219, 0.009576189099840704, 0.016074145495787562, 0.015301847399546986, -0.01740098233080456, -0.0017153416865349769, 0.001533636511443781, 0.0022526726699956257, 0.0012406958542365842, 0.0069663541539384255, 0.018257884940304336, -0.002327853969758209, 0.0021994107323211054, -0.0067752257653230785, 0.0067266754344386115, 0.007019616091598735, 0.004729352771708939, -0.004218652757115748, 0.011174047229993711, -0.0062159754197983474, 0.007126139966935341, 0.020414993416030036, 0.019855743070466225, -0.0015555558735327324, -0.011835109844152036, 0.0060609012135230955, -0.004671379227311867, -0.004964319884515511, 0.012665381484800342, 0.0012939577919306444, -0.01015735880751567, 0.0060076392758245944, -0.005390415385869041, 0.007232663842276388, 0.00843105743989625, 0.016047514526934314, -0.004511593414322057, -0.012713931815723889, -0.0054969392612393975, 0.0042499953326720075, 0.00994902266354103, 0.0179116823454315, 0.004755983740566627, 0.000468397757988015, -0.008160036144803762, -0.01351286088077508, 0.006220687026535998, -0.00701490448486819, 0.006273948964201637, 0.005182079241913939, -0.01359275378731617, 0.013597465394057373, -0.02216792575244675, 0.006806568340926411, -0.002700687533450541, 0.010694689790950562, -0.005896403793771654, -0.018812423679126056, -0.0131400273171014, -0.0009430435902961776, 0.009735974912853607, -0.013805801537985829, 0.005794591525154935, -0.007094797391363095, 0.011440356918360983, -0.004777903102649361, 0.006566889621392846, 0.010162070414240887, -0.005150736666351463, -0.002487639782778217, 0.0043032572703456395, -0.00448496244545904, 0.004143471457341619, 0.011520249824836348, -0.00038379324475279475, 0.0021461487946572433, -0.010397037527011044, 0.0031314946415772482, -0.013912325413349969, -0.005470308292382597, -0.0010495674656141318, 0.013570834425220113, -0.0021680681567515236, 0.011307202074181788, 0.005421757961458162, 0.004329888239193558, 0.0073658186864582476, 0.0003885048515037681, -0.015270504823965858, 0.0037173759559507857, -0.00232785396976265, 0.002945077859740408, -0.003233306910169098, 0.016793181654349176, 0.00651362768373609, -0.0032599378790134637, -0.014045480257513177, -0.0025409017204349738, -0.0030468901283295935, -0.010024203963291178, -0.0006501029331182906, -0.010317144620514362, -0.013033503441739036, -0.010290513651665556, -0.0021414371879098226, 4.230225662560372e-05, 0.010481642040256034, 0.008670736159423598, -0.017480875237342097, 0.0006281835710089112, -0.005683356043068244, -0.026934869174049858, 0.0090702006919674, 0.00885715294128353, -0.00017074549407070094, 0.015701311932065032, 0.0037972688624634543, -0.003552878536222437, -0.0132731821612877, 0.007019616091588077, 0.013544203456380188, 0.004463043083363871, 0.011680035637869679, 0.003744006924799592, -0.010556823340035493, -0.0059762967002443546, 0.0031581256104100675, 0.003024970766219326, -0.007227952235528967, -0.022034770908272883, 0.0006281835710417738, -0.02443155810348152, 0.0029717088285634574, 0.003530959174100623, 0.01194634532623784, -0.012447622127363722, 0.01034848719609549, -0.011116073685568217, 0.013384417643366397, -0.028985453774379444, 0.008004961938535615, 0.0003618738826300927, 0.013437679581036477, 0.02350418580096747, -0.009784525243786035, 0.019296492724921954, 0.0029450778597226446, -0.007494261923899792, 0.009869129757023032, -0.007574154830424895, 0.015861097745102803, 0.011653404669043077, 0.006540258652548481, -0.002434377845104585, 0.0310673809503621, -0.00573661798074987, -0.0003837932447554593, -0.0011827223098253015, -0.003552878536218884, -0.02666855948567548, 0.010135439445405403, 0.0015070055425931983, -0.03210127712820032, 0.012106131139244525, 0.0071527709357797065, 0.006460365746055352, 0.004596197927554613, 0.00683319930975923, 0.01298495311086345, 0.019323123693737898, -0.013566122818455817, 0.0004950287268350451, -0.013432967974292609, 0.02148023216945205, 0.00014882613198086148, 0.006194056057691633, -0.0031534140036706404, 0.0037440069248049213, 0.002518982358364674, -0.004484962445466145, 0.009229986504980303, -0.002780580439971203, 0.008218009689220374, -0.0029669972218107077, -0.00025063840055583597, 0.010987630448163088, -0.00445833147661201, -0.000783257777283275, 0.004170102426190425, -0.027068024018213954, 0.007206032873457779, 0.012638750515970187, -0.012314467283180974, -0.008452976801984313, -0.007973619362941164, -0.006189344450953094, 0.0036108520806266142, 0.00630057993304689, 0.010241963320749115, -0.0016620797488489103, -0.009225274898241764, -0.008692655521516102, -0.015137349979785775, 0.009363141349150617, -0.017427613299662248, -0.005470308292385262, -0.01614932679555192, 0.0071261399669433345, -0.008825810365685527, 0.004835876647075743, -0.0006767339019484453, 0.004649459865222916, -0.0063491302639517855, -0.0016887107176932759, -0.007920357425287072, 0.0028651849532259632, -0.00658880898348535, -0.00712142836020746, 0.002545613327175289, 0.003770637893650175, -0.007813833549937144, -0.0084263458331586, -0.01055682334002217, -0.003686033380386533, 0.018231253971498163, 0.0009477551970382692, -0.0002506384005664941, -0.003206675941341608, -0.0011560913409978113, 0.0017200532932930557, 0.008351164533388022, -0.0011028294033099684, 0.013544203456381076, 0.0034244352987569115, -0.019531459837679677, 0.016473610028306496, 0.009229986504971421, 0.003477697236448307, -0.0072013212667139115, 0.004995662460100192, -0.008932334241036344, -0.0062159754197983474, -0.006082820575594283, 0.01602088355808995, -0.016042802920206434, -0.0008897816526234337, 0.00611416315121005, 0.006913092216243477, 0.005528281836792104, 0.007339187717635198, 0.022225899296860696, -0.016389005515053512, -0.00869265552150722, -0.0009164126214677992, -0.002381115907436282, 0.007232663842298592, 0.015594788056727538, -0.02413861744629653, -0.00467137922729588, 0.013464310549870184, 0.0057413295875035075, 0.004835876647051762, 0.00773865225018433, 0.01301158407966252, -0.012873717628725245, -0.0003039003382481198, -0.005017581822166939, -0.0025675326892988792, -0.008745917459189734, -0.0052838915105368756, 0.008031592907383533, -0.0032066759413389434, 0.01434313252144559, -0.01423189703936778, 0.013970298957746152, 0.0033711733610983785, -0.0130335034417568, 0.009735974912858936, -0.016229219702048603, 0.016313824215289152, -0.012500884065040019, 0.005395126992624455, 0.029442891851361175, 0.0035842211117875777, -0.01098291884140945, 0.0002287190384624438, -0.011116073685582428, -0.01231446728320762, -0.002194699125579902, 0.026114020746875966, -0.013006872472926645, -0.009092120054082109, 0.002625506233686181, 0.004063578550842273, 0.007206032873449786, 0.01458281124096672, 0.002039624919319749, -0.017906970738700956, 0.0067799373720722755, 0.002598875264879119, 0.00699298512277835, -0.01769392298802064, 0.0036374830494789734, -0.004378438570096677, -0.010130727838648212, 0.013011584079665184, 0.011839821450894128, 0.0001221951631213969, -0.004005605006400792, -0.005230629572849921, 0.001214064885408206, -0.0003039003382481198, -0.004431700507796066, 0.013144738923847932, 0.007046247060437771, 0.0062473179953697056, -0.00738773804856141, 0.02265199479822133, 0.003584221111778696, 0.035248443057551704, 0.006566889621391958, -0.011355752405095565, -0.007600785799239063, -0.008586131646185713, -0.011675324031109824, -0.025763106545266368, 0.008324533564562309, 0.0066467825279037385, -0.00541704635471163, -0.008772548428016336, 0.014050191864257933, 0.005475019899131794, 0.007259294811130523, -0.012181312439027536, -0.004990950853350995, -0.001209353278664338, -0.007920357425292401, 0.006886461247416875, 0.0037440069248120267, 0.0083777955022315, 0.012532226640613153, 0.00821800968922215, -0.010556823340036381, 0.0090435697231257, 0.00563480571213848, -0.0016887107177119276, -0.016335743577382544, -0.0024610088139240816, -0.005070843759840571, 0.016553502934818276, 0.018177992033808543, 0.002918446890883608, 0.001773315230953365, 0.01117404722998927, -0.003579509505058809, 0.01402356089543133, -0.011036180779072424, -0.005230629572879231, 0.0213737082940888, 0.00033524291382658333, -0.012474253096214305, -0.0018218655618778001, 0.005022293428906366, -0.002940366252965454, 0.00741908062414165, 0.005501650867977048, 0.005102186335427028, 0.016287193246451892, 0.0028918159220499007, -0.009731263306121285, 0.0019064700751183494, 0.00837779550223594, -0.005390415385861047, 0.0025988752648569147, -0.006215975419799236, 0.0030782327039053925, -0.0015555558735220743, 0.007285925779971336, -0.00789372645642139, 0.015221954493021883, 0.001560267480259725, 0.011200678198814984, -0.006029558637944632, -0.004405069538965911, 0.00968271297518708, 0.0020928868569844994, -0.014365051883565627, -0.0058431418560758175, -0.0025142707516119245, -0.003259937879010799, 0.0021994107323255463, -0.016309112608554166, 0.006140794120010007, -0.0006501029331049679, 0.014343132521438484, -0.0019816513748800446, -0.011329121436246758, 0.006087532182358579, -0.00512410569751065, -0.00142240102934732, 0.001986362981631018, 0.0047826147093950055, 0.007285925779971336, 0.0027053991402130606, -0.009864418150277388, 0.0012140648854073177, -0.012207943407827493, 0.0006814455086852078, 0.007658759343668109, -0.0022479610632313296, 0.004223364363858728, 0.004942400522405244, -0.0021680681567417537, -0.009651370399603287, 0.00571469861866003, 0.01833777784681434, 0.01122730916765935, -0.0007832577772646232, 0.0019863629816381234, 0.025048781993445957, -0.001235984247496269, 0.016660026810164652, 0.0038505308001370864, -0.00025063840056116504, -0.015030826104444728, 0.007712021281340853, -0.006162713482102511, -0.009278536835914508, 0.0028918159220552297, -0.008666024552680618, 0.018417670753327897, -0.023925569695618876, 0.005288603117296731, 0.0077120212813142075, -0.002247961063267745, -0.004591486320797422, 0.014529549303314404, -0.019371674024677432, 0.0016401603867661763, 0.015008906742338013, 0.005341865054954376, -0.007307845142062952, -0.009065489085232414, 0.017698634594768947, 0.005421757961461715, 0.01303821504849445, 0.009522927162164407, 0.005448388930306081, -0.00011748355639440433, -0.009305167804720682, -0.002727318502307341, 0.013597465394043162, 0.010055546538893623, -0.014444944790053427, -0.004538224383124678, -0.008213298082483611, 0.004809245678245588, -0.012660669878052033, 0.011227309167671784, 0.002172779763487398, -0.007148059329048273, -0.00014411452521656543, 0.002279303638829333, -0.005337153448202514, 0.0074457115929726925, -0.0037126643492246814, 0.0020662558881348048, 0.0026521372025429812, 0.021879696701981644, -0.0036061404738676472, 0.006007639275837029, -0.014311789945884001, 0.0051021863354394625, -0.004911057946840991, 0.0019331010439787022, -0.012207943407849697, 0.010694689790930134, 0.022438947047550784, 0.0026255062337012802, -0.0008631506837790681, -0.024538081978834114, 0.010827844635140416, -0.006988273516042476, -0.009970942025643303, 0.022944935455414317, -0.004112128881772037, -0.007707309674601426, 0.012292547921115116, 0.020201945665337284, 0.00014882613198174965, -0.00903885811636762, 0.00821800968921238, -0.008559500677332466, -0.023712521944904807, 0.001080910041200589, -0.0021946991255976656, 0.005714698618654701, 0.002359196545349107, 0.0056348057121322626, 0.0021461487946581315, 0.0002819809761422931, 0.005341865054945494, 0.003397804329942744, 0.0142099776772584, 0.010907737541632656, 0.0025722442960240954, -0.023952200664433043, -0.00967800136845387, 0.009016938754285775, -0.0005435790577603683, -0.004857796009162918, 0.023264507081439234, -0.015137349979783998, 0.00014882613196398609, 0.016952967467360303, 0.00736581868648134, 0.0012939577919022227, 0.008244640658044311, -0.009145381991721102, -0.007094797391354213, 0.005741329587494626, 0.006966354153933096, 0.0043565192080183834, 0.0034776972364456427, 0.004463043083356766, -0.015270504823956976, -0.01790697073870806, 0.00033524291383812965, -0.003180044972515894, -0.00488442697798952, -0.002514270751610148, 0.001427112636076977, 0.014263239614934697, 0.0015070055425958628, 0.007419080624140761, -0.0020881752502210915, 0.00872399809709723, -0.002407746876254002, -0.017827077832209604, -0.006295868326295029, 0.004809245678247365, -0.01007746590098968, -0.0033664617543687214, -0.016335743577392314, 0.01154688079370736, -0.010689978184212023, 0.004729352771735584, -0.012580776971524266, 0.014955644804675927, 0.002252672669996514, 0.010987630448144436, -0.006109451544430655, 0.022412316078689543, 0.0068065683409237465, -0.003792557255733797, -0.014631361571905366, 0.012319178889941718, 0.0007080764775357906, -0.004618117289662216, -0.0004903171200831835, 0.006087532182340816, -0.002807211408803134, 0.009469665224491663, -0.01132912143625564, 0.022598732860549475, -0.025576689763412652, 0.01138709498067847, -0.009358429742410301, 0.005022293428934788, -0.003899081131079285, -0.0025409017204376383, 0.010002284601221767, -0.001342508122817776, -0.014444944790055203, -0.010397037527005715, 0.011280571105331205, 0.011733297575533541, -0.009997572994469905, 0.001187433916562064, -0.003978974037578631, -0.011728585968818095, -0.02685497626754252, -0.01383243250684707, 0.004969031491243392, 0.0016401603867706172, -0.0035528785361993442, 0.003584221111774255, 0.014263239614926704, -0.012181312439019543, -0.005177367635178953, 0.01474259705397607, -0.007494261923911338, 0.0011608029477230275, 0.010481642040270245, -0.019158626273993562, -0.005257260541706721, 0.0057679605563052405, 0.013783882175898654, -0.011888371781786589, -0.0014490319981828037, 0.010241963320764214, 0.003557590142937883, 0.0021461487946430324, -0.005683356043077126, 0.0010542790723810924, 0.015062168680023191, -0.002567532689288221, 0.006433734777190558, -0.022487497378461008, -0.002913735284148622, 0.0030516017350743496, -0.004804534071498168, -0.011249228529747413, 0.008590843252913594, 0.0008146003528652912, 0.00677993737208471, 0.014609442209819967, -0.014125373164024957, -0.013033503441739924, -0.0038724501622340313, -0.005390415385881475, 0.00331791142343274, 0.0025189823583557924, -0.009385060711246673, 0.0015070055426029683, -0.0021946991255816783, -0.0006767339019484453, 0.01170666660670161, 0.001640160386779499, -0.0167352081099148, -0.000410424213585614, 0.007046247060429778, 0.007898438063199897, 0.0030249707662370895, -0.015776493231837385, -0.002088175250247737, 0.008297902595716167, -0.005630094105399941, 0.004383150176852091, 0.004010316613175746, 0.005874484431677374, -0.014205266070542066, -0.005257260541693398, 0.006273948964192755, -0.00602955863793575, 0.003158125610418061, -0.021049425061326232, 0.009682712975195074, -0.002966997221832024, 0.006407103808387937, 0.004809245678239371, -0.002993628190668396, -0.01481777835374043, -0.012953610535231697, 0.0025722442960098846, -0.0023811159074229593, -0.0018218655618813528, 0.007099508998112292, -0.005976296700270112, -0.002887104315298039, 0.01697959843619934, 0.01788505137659513, 0.0011874339165878212, -0.0008365197149542425, -0.00027726936939131974, -0.0005435790577532629, 0.005767960556325669, -0.003978974037578631, -0.006588808983471139, -0.008266560020140368, -0.015270504823957864, -0.004751272133804996, 0.014289870583773734, 0.011600142731349905, 0.0012939577918880119, 0.003184756579255321, 0.009602820068692175, -0.003046890128336699, 0.004755983740551528, 0.006167425088858813, 0.010428380102590395, -0.018359697208921055, -0.0037659262868983134, 0.0069130922162603525, -0.00033053130707649814, 0.0049956624600779875, -0.002807211408793364, 0.008404426471079418, 0.012399071796425076, -0.01037040655816579, 0.029576046695538594, -0.009065489085235967, 0.01165340466903153, -0.00837308389548408, 0.017352431999897888, -0.0005968409954393294, -0.00011748355639529251, 0.0034776972364642944, 0.003078232703912498, -0.010317144620487717, 0.010508273009097735, -0.005656725074238089, -0.0013158771540124903, -0.0014224010293437672, -0.014498206727732388, 0.004942400522407908, 0.007365818686474235, 0.0009211242282063381, 0.0006015526021698747, -0.006908380609522702, -0.0006767339019573271, -0.005150736666355016, -0.013592753787305512, 0.004170102426189537, -0.0040854979129081315, -0.004777903102661796, 0.0004950287268243869, 0.010028915570053698, -0.002833842377624407, -0.0027539494711419366, -0.01122259756091104, -0.0014490319981677047, 0.00885715294127376, -0.008825810365697073, -0.010849763997215156, 0.008431057439902467, -0.00397897403757419, 0.01745895587525137, -0.005603463136553799, -0.009358429742422736, 0.0006548145398372895, 0.014955644804667045, 0.008537581315239962, -0.009678001368422784, 0.00640710380839149, 0.010508273009074642, 0.0026255062337119384, -0.0081866671136277, -0.012048157594833242, -0.009331798773549949, -6.422161871988408e-05, -0.010743240121865227, -0.017161303611315404, 0.011120785292322743, 0.006460365746058905, -0.008532869708498758, -0.00022400743173811577, 0.0005482906645024599, -0.002913735284145069, -0.000836519714956907, 0.002865184953205535, -0.0034463546608591855, 0.0019331010439644913, 0.002385827514195249, 0.015328478368368259, 0.00789843806319901, -0.006988273516036259, -0.013432967974308596, -0.0008631506837861735, -0.0026740565646328207, -0.0013691390916736879, -0.0037925572557195864, 0.012771905360129843, -0.0052306295728685726, -0.0046980101961455745, 0.0010010171347216712, 0.004329888239204216, 0.004835876647074855, 0.013917037020069856, -0.009411691680065282, 0.003530959174105952, -0.01822654236473653, 0.007445711592989568, -0.003393092723204205, 0.004356519208045917, -0.00610945154446263, 0.022518839954038583, -0.013006872472910658, 0.0031581256104198374, -0.001156091341005805, 0.012638750515963082, -0.015989540982527473, 0.0060342702446716245, -0.001795234593015671, -0.014178635101695036, 0.002598875264848033, 0.014582811240953397, 0.006753306403248338, 0.0008678622905371469, -0.0008365197149595716, -0.007121428360204796, -0.007547523861592964, 0.011440356918348549, -0.00275394947114993, -0.007440999986241259, 0.006007639275860122, -0.007893726456448036, 0.010588165915591752, 0.011280571105335646, 0.011893083388557102, 0.0024657204206883776, -0.002247961063248205, -0.008160036144800209, -0.007760571612281275, -0.004325176632443473, 0.00800496193853295, -0.01489767126026198, -0.0024077468762691012, -0.016921624891780063, -0.0007033648707732709, 0.0008412313216945577, -0.010956287872557091, 0.02273188770473844, 0.004969031491235398, 0.006646782527897521, -0.005070843759853894, -0.020064079214406227, 0.017831789438938372, -0.00033053130707649814, -0.0005702100266100629, -0.003046890128333146, 0.005341865054946382, 0.01327789376800581, -0.010689978184201365, 0.006220687026527116, 0.003344542392258454, 0.004569566958726234, -0.008133405175961173, -0.008692655521518766, 0.006540258652564468, 0.014236608646113424, -0.00488442697800906, 0.0002819809761431813, 0.004116840488492812, 0.01306484601732727, 0.010241963320750003, 0.006060901213540859, -0.00943832264891764, 0.005634805712153579, 0.0012673268230658508, -0.001369139091689675, 0.012159393076911051, -0.0010761984344798137, -0.004857796009166471, 0.0033978043299294214, 0.016713288747837396, -0.01750750620615804, -0.0004636861512654633, 0.012052869201579774, -0.007946988394127885, 0.0060076392758494634, 0.012771905360120961, 0.006034270244676954, 0.006114163151186958, -0.008639393583854904, -0.012500884065032913, 0.0023059346076674814, 0.00030861194498843503, 0.0008412313216723533, 0.015115430617706593, 0.0027320301090600907, -0.0052572605416800755, -0.007840464518768187, -0.0025409017204545137, 0.013677358300558495, 0.00901693875429288, 0.008963676816621913, 0.0005216596956518771, 0.0011341719788928728, -0.008532869708508528, -0.00757415483040802, 0.00454293598987654, -0.004751272133804996, -0.003233306910172651, -0.009970942025618434, 0.017352431999899665, -0.0002772693694019779, 0.02872385569280045, -0.0031001520660121074, 0.00856421228407811, 0.004436412114530164, 0.009895760725869174, -0.007946988394097687, -0.024191879383937298, 0.004436412114544375, -0.006588808983492456, -0.006029558637934862, -0.0018484965307274948, 0.004809245678238483, -0.003872450162252683, -0.0009963055279698096, -0.011675324031135581, 9.556419429124219e-05, 0.007951700000867312, -0.002461008813935628, -0.0021946991255585857, 9.556419429301855e-05, -0.029651227995306506, -0.003393092723208646, 0.001373850698414003, 0.014982275773538056, -0.006402392201659168, 0.004276626301504827, -0.002833842377658158, -0.0018218655618778001, 0.01583446677625311, 0.0039037927378151593, -0.011462276280449046, 0.0012140648854099823, 0.01199960726389726, -0.005363784417038886, -0.017667292019165615, 0.017938313314302512, 0.01612740743342922, 0.010561534946780249, 0.007072878029272367, -0.01321992022358831, 0.009656082006353373, 0.006433734777222533, -0.013912325413343751, 0.0057679605563452085, 0.015168692555350027, 0.024569424554424124, 0.005048924397764942, 0.0024657204206892658, 0.002359196545328679, 0.0013205887607457, -0.00195502040605966, 0.0016135294179395743, -0.002194699125569244, 0.007126139966937117, 0.004463043083376306, -0.0037925572557364617, 0.0017733152309569178, 0.0028119230155390085, 0.009389772318002976, -0.0054170463546947545, 0.015727942900916503, 0.017245908124584375, 0.004862507615904121, 0.01772526556358134, 0.0051820792419290385, -0.0026740565646266035, -0.009970942025644192, 0.00584785346283212, -0.0038458191934083175, -0.004671379227317196, 0.0072592948111216415, 0.013490941518707444, -0.00291373528413974, 0.01631382421531491, 0.0015868984490872151, 0.0019331010439662677, 0.014689335116309543, 0.004276626301516373, 0.014396394459133433, 0.006060901213528425, -0.011142704654401925, 0.005794591525149606, 0.006167425088863254, -0.004698010196139357, 0.011813190482058644, 0.000708076477502928, 0.015195323524195281, -0.0027805804399729794, -0.014551468665398914, 0.0027320301090236754, -0.005203998604035753, 0.0042766263015234784, -0.008852441334536998, -0.014711254478416258, -0.021182579905506316, -0.008133405175970942, -0.010024203963332923, 0.012984953110843911, -0.0034996165985319294, 0.0008944932593673016, -0.018439590115437277, -0.006562178014648978, -0.018359697208906844, 0.007179401904619631, -0.005923034762600032, 0.013890406051256576, 0.015754573869747546, -0.003632771442702243, 0.014289870583773734, -0.003899081131065074, -0.0033930927231917707, -0.017427613299645373, 0.005421757961450169, 0.012745274391281924, 0.008910414878942952, -0.0005169480889248845, -0.012953610535256566, -0.011994895657148952, -0.004538224383149547, -0.005630094105384842, 0.0014803745737541618, -0.0017419726553891124, 0.0019597320128061924, -0.020649960528808187, -0.0037126643492140232, -0.00392571209992898, -0.0009430435902757495, 0.003104863672734659, 0.002305934607670146, -0.010370406558177336, 0.012186024045754529, 0.006566889621395511, 0.00531523408612955, -0.0042186527571015375, 0.004702721802883225, -0.006002927669112701, -0.011169335623233856, 0.022971566424257794, -0.007920357425284408, 0.0007347074463588399, -0.017267827486667997, -0.0031800449725336577, 0.01231917888992573, -0.00946495361777, 0.01740569393757685, -0.013566122818467363, 0.002039624919325078, 0.01729917006223669, -0.0020349133125776575, 9.556419430278851e-05, 0.005821222494002853, -0.014817778353761746, 0.007552235468316404, -0.0051241056975168675, -0.0198776624325534, 0.004329888239189117, 0.0011341719788973137, 0.009762605881705078, 0.002226041701175241, -0.00914538199172199, 0.0165801339036431, 0.004116840488501694, -0.014950933197927618, -0.0076806787057632775, -0.018705899803796555, 0.0174589558752416, -0.0013425081228364277, 0.005634805712149138, -0.0020082823437199693, 0.005661436680990839, -0.0026740565646177217, -0.0035262475673576432, 0.00813811678271481, -0.00523062957286502, -0.010769871090708705, -0.005630094105383954, 0.014130084770769713, 0.00664678252791262, 0.008803891003603681, 0.003104863672739988, 0.0005216596956758579, -0.013113396348257922, -0.004937688915682692, 0.008351164533412003, -0.01039703752700305, 0.0012673268230738444, -0.004405069538950812, -0.004857796009170912, -0.021795092188744647, 0.006833199309748572, -0.0041653908194430045, -0.003393092723178448, 0.006167425088863254, -0.007574154830424007, 0.007632128374853053, -0.0035795095050525916, -0.013938956382165024, 0.007845176125529818, 0.015514895150223751, -0.001102829403313521, 0.0010542790723784279, 0.004516305021047273, 0.003078232703923156, 0.003690744987134842, 0.0033179114234362928, 0.006034270244689388, -0.0064023922016298584, 0.011147416261150234, -0.0027273185023046764, 0.005421757961441287, -0.011355752405111552, -0.0002506384005700468, -0.0037659262868947607, 0.005661436680987286, -0.0032599378790267863, 0.00603427024467873, 0.002998339797408711, -0.011302490467426374, -0.0029137352841468456, 0.011440356918352101, -0.006695332858832614, -0.012207943407858579, 0.0004950287268368214, 0.013943667988913333, 0.0017733152309551414, 0.007072878029271479, 0.007738652250179001, 0.0029450778597315264, -0.011648693062267235, 0.011466987887171598, 0.0036907449871419473, 0.00044176678914276124, 0.0071261399669628744, 0.015488264181390043, -0.000943043590288184, -0.0068817496406845535, 0.016393717121803597, 0.022359054141037227, -0.006721963827665434, 4.230225663093279e-05, -0.0051241056975070975, 0.002279303638829333, -0.0010495674656327836, -0.010104096869827828, 0.012345809858762102, 0.008138116782723692, 0.011626773700192494, 0.011839821450892352, 6.893322545398206e-05, 0.005261972148431049, -0.00776057161229371, 0.012159393076920821, -0.012873717628746562, 0.012026238232731856, -0.002221330094407392, -0.028186524709346017, 0.001933101043983143, 0.012851798266632741, -0.007600785799251497, 0.01074795172862597, -0.0007299958396123074, -0.025496796856912418, -0.0013158771540000558, -0.021235841843190606, -0.0010495674656318954, -0.008958965209877157, 0.015940990651595932, 0.004329888239184676, -0.006588808983493344, 0.026060758809202333, 0.004223364363834747, 0.013277893768016469, -0.006189344450953982, -0.0010761984344780373, -0.0029137352841459574, -0.01404548025750696, 0.0032380185169351705, 0.028670593755113494, -0.01372590863149803, 0.0046228288964096365, 0.016473610028286956, -0.012980241504066292, -0.0016887107176977167, -0.015350397730471421, 0.002119517825810213, -0.001715341686550076, 0.01165340466902176, -0.0006501029331138497, 0.01293169117316495, -0.009731263306109739, -0.012367729220864376, -0.03321977781928709, 0.00382389983131759, -0.0049909508533385605, -0.007813833549938032, 0.006353841870712529, 0.008990307785474272, -0.004671379227316308, -0.007281214173231909, -0.0024610088139338515, -0.023419581287716262, 0.013757251207050736, -0.007148059329050049, 0.006380472839550677, -0.009305167804738446, -0.006109451544450195, 0.0004151358203179356, -0.0012892461851574666, -0.007068166422517841, 0.004862507615883693, 0.012212655014595342, 0.006007639275845911, 0.017751896532439915, 0.010641427853287588, -0.023819045820254736, 0.001267326823066739, 0.004569566958730675, 0.001613529417918258, -0.0010229364968070698, 0.010774582697470336, -0.007973619362958928, -0.00014411452523166446, 0.018923659161199424, 0.011600142731368557, 0.009336510380306251, 0.00765875934368232, 0.009629451037505454, 0.009283248442658376, -0.005017581822178485, 0.005847853462833896, 0.0011341719788857674, -0.010583454308862095, -0.014551468665424672, 0.007365818686469794, -0.007600785799254162, 0.0014537436049222308, -0.015829755169523452, 0.003983685644312729, 0.009123462629631263, -0.008239929051313766, 0.010881106572800725, -0.00728121417324612, -0.002034913312574105, 0.008111485813868669, 0.015994252589274893, -0.022327711565448105, 0.004063578550824509, 0.00824464065805497, 0.004782614709391453, -0.012554146002702105, 0.02270525673588164, -0.006189344450942436, -0.008293190988979404, 0.011733297575530877, 0.012585488578300108, 0.00403694758199169, 0.012345809858767431, 0.0019064700751254549, -0.001528924904689255, -0.0019816513748658338, -0.0023278539697662026, 0.0016934223244442492, 0.0012939577919217626, -0.0029403662529867702, 0.008937045847788205, 0.004489674052199355, -0.012287836314363254, 0.00488913858474227, 0.004676090834057511, 0.0034510662675941717, 0.008191378720390219, -0.007680678705754396, -0.009811156212625072, 0.0013205887607323774, -0.014578099634226405, -0.004564855351985031, 0.0014537436049240071, 0.008510950346407142, 0.008404426471074977, 0.00795170000085399, 0.01160014273135257, -0.002780580439976532, -0.0019550204060436727, -0.0018218655618698065, 0.000867862290542476, 0.015435002243712859, 0.003211387548070377, -0.003739295318060165, -0.015084088042113919, 0.007498973530641884, -0.0012359842474971572, 0.00725929481112253, -0.02219455672125914, -0.008745917459187957, -0.004431700507788072, 4.2302256615833755e-05, 0.017272539093402095, -0.003419723692039689, -0.006828487702988717, 0.01160014273135701, -0.007733940643436021, -0.0165487913280824, 0.013357786674530026, 0.003850530800140639, 0.014822489960494067, 0.03311796555070057, 0.0021195178258164304, 0.01144035691834766, -0.0023278539697653144, -0.0007832577772814986, 0.011333833043006614, -0.012367729220867929, 0.001427112636086747, -0.0020615442814104767, -0.014098742195177039, -0.004298545663605324, -0.015643338387671513, -0.009438322648921194, 0.0013738506984273258, -0.007227952235537849, -0.012234574376662088, 0.005155448273091778, 0.0007613384152076463, 0.008404426471065207, -0.008532869708509416, 0.006566889621385741, -0.0038458191933976593, 0.014396394459122774, 0.010188701383071042, 0.013437679581026707, -0.01196826468833656, 0.011067523354648223, -0.009837787181451674, 0.005528281836788551, 0.005661436680976628, -0.010530192371183134, -0.0055235702300659995, 0.011600142731380103, 0.0038238998313122607, -0.014737885447250854, -0.009198643929400951, -0.0007832577772921567, 0.01309147698618851, 0.0025988752648657965, 0.007232663842300369, -0.016495529390406993, -0.01681510101645145, 0.014316501552619876, -0.009092120054066122, -0.005443677323534679, 0.0032380185169103015, -0.0017952345930183355, 0.01423660864612053, -0.011462276280443717, 0.0035842211117760314, 0.023717233551653116, -0.004058866944087747, 0.009283248442658376, -0.001901758468421555, 0.010721320759786046, 0.004463043083386076, -0.010450299464676682, 0.001560267480269495, -0.013219920223605186, 0.004729352771732032, 0.0039836856443109525, 0.003610852080644378, -0.012793824722222347, -0.00877254842804831, 0.0049157695535777535, -0.006482285108132757, 0.0010542790723730988, -0.005150736666359457, 0.0018265771686305499, -0.0156433383876724, -0.010290513651686872, 0.009815867819384039, 0.0011608029477425674, -0.016175957764364313, -0.0037659262868787735, 0.008723998097102559, -0.007867095487615217, 0.011120785292296098, -0.008053512269462715, -0.001555555873525627, -0.0005435790577825728, -0.022940223848675778, -0.016921624891783615, 0.0003352429138274715, -0.00019737646290352018, -0.005683356043059362, -0.004378438570121546, 0.003291280454586598, 0.0023325655764860898, -0.004112128881768484, 0.009309879411492084, 0.004489674052193138, -0.01780044686336435, 0.0012673268230658508, -0.012181312439004444, -0.0047512721338272, -0.00014411452520768364, 0.014076822833109404, -0.006695332858821956, 0.009469665224508539, 0.0025456133271841708, -0.0005169480889257727, 0.00962945103752677, 0.002226041701155701, 0.01133383304298885, -0.00019737646290440836, -0.0022745920320934587, 0.00113417197890886, -0.0010761984344878073, 0.005448388930294534, 0.00739244965530883, 0.008510950346412471, 0.012851798266650505, 0.018630718504026866, -0.00653554704579129, -0.014551468665397138, 0.01783178943893926, 0.0018265771686243326, -0.005976296700276329, 0.002785292046714183, 0.015727942900899627, -0.011116073685594863, -0.01431178994587956, -0.0021414371879178162, 0.0024390894518413475, 0.014609442209821744, 0.02547487749482258, 0.004969031491253162, 0.0015070055425852047, -0.003526247567366525, -0.002194699125579014, -0.016681946172277584, 0.005821222494000189, 0.001959732012803528, -0.019105364336308384, 0.010614796884448552, -0.009225274898227553, -0.002327853969757321, -0.00861276261502919, 0.0014803745737532736, -0.011701954999945308, 0.006540258652554698, 0.01114741626114224, 0.010401749133758464, 0.008404426471074977, -0.0018218655618849056, -0.009065489085213763, -0.0022745920320810242, -0.005070843759859223, -0.0036327714427208946, 0.0029184468908916017, -0.013060134410576296, -0.005869772824915742, -0.011195966592087103, 0.000281980976146734, -0.010237251714002582, -0.005896403793758331, -0.017347720393152244, 0.015115430617699488, -0.0013425081228470859, 0.006620151559070031, 0.0038505308001219873, 0.00041513582031171836, -0.0076274167681003036, -0.01481777835375464, 0.009842498788217746, 0.00848431937757077, -0.0008631506837906144, 0.0067533064032501144, 0.0039037927378204884, -0.012048157594812814, -0.0009963055279751387, 0.009016938754284887, 0.004356519208037923, -0.006375761232797039, -6.422161871189047e-05, -0.0005702100265869703, 0.017245908124563947, 0.002172779763507826, -0.00019737646288486843, -0.014045480257522058, 0.011600142731365892, -0.0005435790577559274, 0.002865184953214417, 0.0012939577919004464, 0.004170102426180655, -0.020037448245575185, -0.012074788563674055, 0.0033179114234407336, 0.0009743861658559894, -0.016841731985281605, -0.007094797391363983, 0.01226591695225654, 0.0020928868569791703, 0.018683980441697834, -0.011622062093463725, -0.028000107927471873, 0.012692012453626944, 0.003371173361110813, 0.013490941518705668, 0.012692012453626056, -0.010104096869815393, 0.004489674052200243, 0.002199410732308671, -0.003552878536217996, -0.0029137352841459574, 0.007898438063177693, -0.007254583204396425, -0.0044050695389579175, 0.0004950287268377096, -0.0006234719642641551, -0.011009549810226282, 0.0034510662675923953, 0.022678625767075467, -0.010183989776326285, -0.010476930433521936, 0.01165340466903153, 0.0023325655764940834, 0.0010809100412325634, 0.0065402586525626916, -0.007787202581097219, -0.005496939261226075, -0.0034996165985479166, -0.016389005515087263, 0.010188701383063048, 0.010694689790965661, 0.0023059346076781395, -0.00126261521633797, -0.006988273516029153, -0.016974886829443925, 0.00760549740603178, 0.002891815922061447, 0.017725265563583115, -0.012500884065052453, -0.001555555873540726, -0.008905703272212406, 0.0002553500073210202, 0.01373062023823124, -0.004138759850610185, 0.007605497405980266, 0.0032646494857662134, 0.01679318165433763, 0.009416403286846453, 0.009469665224516532, -0.02195487800174778, -0.007707309674603202, 0.015488264181398925, -0.0067752257653426184, -0.009331798773576594, -0.010263882682818526, 0.0060609012135453, -0.008692655521532089, -0.0043784385701162165, -0.006775225765347059, 0.020947612792746817, -0.007813833549974447, -0.0034996165985461403, -0.002807211408807575, -0.0072812141732141455, -0.007973619362963369, -0.013779170569161892, -0.0036061404739040626, -0.0009164126214589174, -0.0011560913409800477, -0.003339830785514586, 0.007578866437140341, 0.011040892385820733, -0.008080143238288429, 0.0004950287268226106, -0.01396558735101383, -0.0038724501622411367, -0.012181312439012437, 0.022066113483838024, 0.003770637893624418, 0.004409781145688463, -0.005363784417024675, -0.01686836295413041, -0.007680678705745514, 0.009895760725882496, 0.0024923513895194205, -0.0031800449724830315, -0.0011827223098164197, 0.0026787681713615896, 0.00241245848300764, 0.010668058822100868, -0.0010495674656327836, -0.0036061404738845226, -0.001741972655377566, 0.009895760725868286, 0.011839821450884358, 0.01271864342247131, 0.008830521972440941, -0.006615439952325275, -0.005097474728699147, -0.013219920223606074, -0.017187934580141118, -0.006136082513286567, -0.006961642547191893, 0.009309879411485866, 0.016660026810158435, -0.005496939261242062, -0.011728585968806549, -0.00760078579922574, -0.004591486320792093, 0.008351164533387134, 0.001666791355596331, -0.005257260541691622, -0.014391682852388676, 0.0151953235241864, 0.010135439445392969, 0.0010542790723953033, 0.0023858275141881435, -0.007946988394116339, 0.0055282818368000974, 0.0012673268230649626, 0.0168730745608503, 0.02662000915474927, 0.006646782527907291, -0.0019017584683886923, -0.005896403793768101, 0.011387094980675805, -0.0057898799184172844, -0.004698010196141134, 0.0009211242281974563, -0.010050834932161301, 0.008084854845042955, 0.010295225258412088, -0.017800446863365238, -0.0015022939358591003, 0.007578866437169651, 0.0036108520806230615, -0.013965587351026265, -0.009225274898236435, 0.006034270244679618, -0.003552878536207338, -0.004405069538959694, -0.008639393583869115, -0.005070843759857446, -0.009784525243780706, 0.014929013835850213, -0.01029051365167355, 0.0012939577919102163, 0.004862507615918332, 0.0002553500073130266, 0.006753306403238568, -0.0035262475673585314, -0.004458331476593358, -0.00789372645644626, -0.004298545663588449, -0.00834645292666103, 0.0014803745737612672, 0.003850530800155738, 0.0007613384152049818, -0.00941169168007594, -0.010610085277689585, -0.009438322648935404, -0.00182186556188757, 0.01658013390365376, -0.0011294603721383467, -0.002674056564639038, -0.0037126643492193523, 0.006247317995375923, 0.006433734777226974, -0.02640224979734107, 0.004702721802891219, 0.007339187717639639, 0.006673413496741887, 0.006700044465567601, -0.006109451544440425, -0.009198643929408945, -0.005124105697529302, -0.012926979566406871, 0.014209977677262842, -0.009731263306117732, 0.007259294811127859, 0.005874484431664051, 0.00036187388264696807, -0.007361107079716156, -0.020223865027421795, -0.00586977282493617, -0.012048157594818143, -0.007520892892752151, 0.03341090620790155, -0.005363784417047768, -0.009518215555432086, -0.0019017584683931332, 0.013783882175896878, -0.008346452926667247, 0.02779177178356118, -0.0024610088139240816, -0.004484962445451046, -0.014764516416068574, -0.0028871043153184672, -0.004751272133814766, -0.007094797391376417, -0.0015821868423637753, 0.01322463183035616, 0.002652137202527882, 0.014369763490296172, 0.014849120929336657, -0.006295868326304799, -0.005656725074222102, 0.007658759343668997, -0.0034463546608689555, 0.0001754571008136807, 0.006114163151171859, -0.006162713482126492, 0.0016401603867741699, 0.0032912804545928154, -0.0037659262868832144, 6.893322546197567e-05, 0.016793181654359834, 0.006966354153934873, -0.013353075067782605, 0.0019863629816239126, -0.0016088178111877127, 0.010428380102579737, -0.008080143238293758, 0.016340455184145952, -0.0010495674656407772, 0.004782614709416322, -0.004538224383124678, -0.0026740565646354852, -0.002753949471148154, -0.01156880015579631, -0.010610085277697578, -0.0007832577772681759, 0.006886461247440856, -0.0018218655618609247, -0.012847086659889762, -0.013166658285934218, -0.001608817811178831, 0.004729352771735584, -0.0033398307855163623, -0.010024203963313383, 0.009363141349146176, -0.008586131646169726, -0.00970463233729646, 0.004862507615908562, 0.0011075410100485072, -0.0038458191934074293, 0.0059277463693447885, 0.03149347645171208, -0.0009430435903041712, -0.005070843759840571, 0.016154038402299342, 0.005288603117296731, -0.01702814876713532, 0.011174047229992823, 0.007685390312510698, 0.003397804329936527, -0.0037126643492246814, -0.007946988394126109, 0.001214064885388666, -0.004271914694768064, 0.008564212284081663, 0.009629451037509895, 0.02355744773864643, -0.014897671260254874, 0.00435651920802016, 0.018364408815659594, 0.0015868984491183014, 0.0031048636727284418, 0.0011341719788982019, -0.0004370551824184332, 0.00896367681661836, -0.014684623509566563, -0.0029137352841326347, -0.007867095487606335, 0.010055546538893623, -0.007281214173202599, -0.002620794626955636, 0.010934368510476133, -0.00014411452522367085, -0.001422401029357978, 0.01157351176251531, -0.006748594796509799, 0.026433592372895554, -0.009518215555450737, -0.0015289249046785969, -0.0018218655618831292, -9.085258755892056e-05, -0.012500884065036466, -0.00017074549406981276, 0.008244640658057634, 0.01269201245362428, 0.004383150176870743, -0.010716609153039514, -0.011728585968794114, -0.009757894274954104, -3.75906498888412e-05, 0.009656082006356037, -0.011728585968808325, -0.0021414371879178162, -0.010610085277685144, 0.013464310549879954, -0.027387595644253082, 0.006859830278585832, 0.02459605552323918, -0.0074409999862483645, 0.007578866437151888, 0.007099508998122062, 0.0042233643638507345, 0.0019064700751094676, -0.004964319884503077, 0.009229986504974086, -0.00043705518240955143, -0.00017074549406181916, -0.0028604733464892007, 0.0019064700751174612, -0.007733940643449344, 0.007845176125510278, -0.011249228529752742, 0.00952292716216352, 0.010082177507728218, 0.021986220577325355, 0.012079500170408153, -0.003845819193405653, 0.0010010171347287766, 0.013677358300554943, 0.010881106572812271, -0.000303900338249008, -0.007973619362966033, -0.008053512269467156, 0.006620151559088683, -0.013086765379415333, 0.014476287365640772, -0.008639393583838917, -0.008373083895490296, 0.010987630448137331, -0.010556823340019506, 0.0031048636727266654, 0.006114163151179852, 0.002066255888136581, 0.005208710210762746, 0.006353841870715193, 0.0026255062336986157, -0.0037392953180610533, -0.0007832577772806104, 0.0029717088285634574, 0.001693422324438032, 0.00030861194497511235, -0.00802688130059881, -0.00855950067733513, -0.012847086659905749, 0.0026787681713811295, -0.008133405175973607, -0.015137349979794656, 0.009443034255663285, 0.019216599818395075, -0.00629586832629947, 0.006779937372076716, 0.014209977677257513, -0.013033503441777228, 0.018497563659817473, 0.0107479517286162, 0.002412458483011193, 0.014076822833100522, -0.017507506206156265, 0.0014004816672494869, -0.0067752257653381776, 0.012958322141988887, -0.0036327714427155655, 0.009789236850524574, 0.007206032873455115, 0.006513627683724543, -0.006801856734180767, 0.010481642040261363, 0.005048924397758725, -0.008266560020127045, 0.010827844635116435, 0.0012140648854028768, 0.002492351389522973, 0.019403016600250567, -9.085258755980874e-05, -0.0050974747287000355, -0.011195966592072892, 0.003637483049462098, -0.015057457073293534, 0.0012673268230631862, 0.002172779763492727, 0.0029184468908907135, 0.0016934223244460256, -0.021954878001726463, -0.0004370551824592894, 0.01066805882213373, 0.010348487196082168, 0.00941640328682869, 0.008218009689230144, 0.014689335116314872, -0.003872450162233143, 0.011680035637859021, 0.011120785292343172, 0.0003618738826620671, -0.004085497912911684, 0.006407103808395043, -0.004911057946850761, 0.00526197214844526, -0.013912325413332205, -0.004325176632440808, 0.003184756579265091, 0.010135439445408956, 0.0013472197295740784, 0.018976921098884603, -0.016282481639728452, -0.004990950853326126, -0.0009963055279529343, 0.002092886856991605, 0.00273203010903611, 0.010108808476559261, 0.014343132521428714, 0.008883783910104803, 0.0015868984491085314, -0.0019017584683975741, -0.005949665731431963, -0.0005702100266011811, 0.0006548145398390659, -0.014924302229101016, -0.004032235975230947, 0.009629451037537429, -0.0044849624454776915, -0.004724641164984611, -0.006242606388617844, -0.008080143238291981, -0.01361938475614366, -0.004351807601272739, -0.010183989776306746, 0.003557590142947653, -0.00560346313656801, 0.0072859257799580135, 0.00582122249400463, -0.006908380609531584, -0.0049110579468187865, 0.006939723185105606, 0.006513627683722767, -0.014178635101695924, -0.006642070921162535, -0.0034729856297071038, -0.006295868326303911, 0.004782614709391453, -0.0034463546608698437, 0.002758661077888469, 0.004729352771741802, -0.002327853969758209, -0.0007033648707794882, 0.0194829095067659, 0.010082177507705126, 0.00150700554262162, 0.01692633649851949, -0.0020881752502317497, -0.009172012960553033, 0.0031581256104251665, -0.011755216937622492, -0.0038724501622304786, 0.00438315017686719, 0.005448388930306081, -0.019877662432542742, 0.007552235468319957, 0.023557447738642878, -0.009225274898223113, 0.013757251207049848, -0.00027726936939487246, 0.010694689790938128, 0.01032185622726356, 0.00038850485149399816, 0.013650727331722123, 0.015861097745092145, -0.0014490319981659283, 0.011626773700201376, 0.009070200691974506, 0.008803891003612563, -0.004271914694767176, 0.014849120929325998, 0.00664678252791262, 0.01367735830057093, -0.011275859498582008, 0.0024923513895238614, 0.0008944932594010524, -0.0010761984344700437, -0.012873717628721693, -0.01817328042705757, -0.010663347215364105, 0.004010316613157983, 0.008138116782689053, -0.00547030829239592, 0.00757886643714567, -0.0015289249046865905, 0.007259294811158945, -0.0009696745591529776, -0.006668701890017559, 0.005155448273114871, 0.01330452473685284, -0.001715341686545635, 0.00875062906592472, -0.023712521944917242, -0.003073521097142873, -0.0061893444509522055, -0.005177367635202046, 0.0010809100412370043, -0.00038379324475368293, -0.00917201296054504, -0.007121428360200355, -0.012394360189693643, 0.013171369892684304, -0.016788470047616855, 0.007978330969696579, -0.003472985629702663, -0.015377028699300688, 0.011280571105347192, -0.006881749640697876, -6.422161871100229e-05, -0.002354484938593693, -0.008692655521542747, -0.008772548428031435, 0.014556180272141894, 0.012132762108093331, -0.0009696745591254441, -0.006242606388641825, -0.00919864392939207, -0.01582975516952967, 0.0025988752648657965, 0.014209977677257513, -0.014178635101706583, 0.007951700000862871, -0.011009549810231611, 0.01090773754164065, -0.00088978165263498, -0.015696600325340704, -0.0069083806095209255, -0.0021946991255878956, -0.01244762212735484, -0.0030468901283287053, 0.0012939577919119927, 0.010455011071419662, -0.013193289254776808, 0.003744006924788934, 0.008297902595725049, 0.00811148581389265, 0.0020662558881339166, -0.0007299958396114192, 0.004835876647065973, 0.00930987941147876, -0.0025142707516110363, -0.0047246411649926046, 0.003903792737828482, -0.007121428360220783, 0.02092098182390245, 0.0005482906645166707, 0.015488264181393596, -0.016894993922946355, -0.002620794626961853, -0.009651370399629045, -0.00413875985060308, 0.009256617473798912, -0.00216806815676307, -0.00198165137489692, 0.0007080764775135862, 0.0027320301090396626, -0.007387738048578285, -0.007307845142059399, -0.008319821957820217, 0.002865184953234845, -0.006881749640689883, 0.02116066054343868, 0.003184756579263315, -0.02070322246646139, -0.002034913312535913, 0.01362409636287687, -0.004698010196153568, -0.012394360189704301, -0.007813833549914051, 0.004436412114526611, -0.0074676309550705255, 0.014476287365619456, -0.023712521944900367, -0.016815101016434575, 0.009229986504985632, -0.005257260541707609, 0.0021994107323157763, -0.012048157594828801, -0.012207943407850586, -0.018333066240068696, 0.000628183571008023, 0.009735974912859824, 0.011573511762514421, 0.000495028726839486, 0.015461633212551007, -0.01170195499994886, 0.004862507615925438, -0.008133405175969166, -0.012873717628739456, -0.012554146002696775, -0.015536814512324248, -0.003819188224579051, -0.0013691390916878987, 0.009656082006346267, -0.01252751503386662, 0.0030782327039116097, -0.03140887193845732, -0.011808478875306783, 0.017512217812913455, 0.001666791355596331, -0.0016887107177012695, -0.0023544849385883637, -0.002567532689288221, 0.0035043282052660274, -0.008319821957835316, -0.02110268699900697, 0.01173329757554864, -0.007600785799249721, 0.003024970766224655, -0.0015555558735078634, 0.016473610028326036, -0.0006767339019377872, -0.015270504823970299, 0.009522927162178618, 0.00491576955356976, 0.012106131139244525, 0.0025722442960205427, 0.0006281835710053585, 0.0018265771686269971, -0.011329121436253864, 0.009602820068677076, 0.0012673268230685153, 0.0065136276837156615, -0.013992218319850203, -0.005070843759840571, -0.0076007857992337335, -0.00142240102934732, -0.019637983713044704, 0.001906470075131672, 0.010455011071439202, -0.019345043055837507, -0.00549693926122341, 0.011520249824854112, 0.014103453801906696, -0.002833842377635065, 0.005661436680982845, 0.012585488578276127, -0.00475127213381743, -0.0014224010293535372, 0.010907737541631768, 0.013837144113567845, -0.005576832167721868, 0.003557590142957423, -0.005976296700263006, -0.005496939261226075, -0.003579509505045486, -0.007627416768086981, -0.014205266070513645, 0.0099490226635508, 0.02174654185780689, -0.0016354487800187556, -0.01769392298800465, -0.0034197236920334717, -0.006961642547184788, 0.0021461487946430324, -0.003499616598529265, -0.006082820575604941, 0.0030516017350645797, 0.0008944932593433208, 0.0016135294179422388, -0.011062811747903467, 0.015221954493040535, 0.005341865054928618, -0.0007033648707848172, 0.010694689790943457, -0.004857796009163806, -0.0075475238615849705, 0.010907737541632656, -0.007600785799252385, 0.005341865054957928, -0.007946988394107457, 0.003051601735066356, 0.0033711733610832795, 0.00462282889637855, -0.012261205345526882, -0.010077465900991456, -0.010716609153036849, 0.02044162438485575, -0.03250074166071215, 0.003530959174114834, -0.012660669878055586, 0.0027053991402024025, -0.0016887107176914995, 0.003317911423431852, 0.007312556748803267, 0.006087532182369237, -0.024804391667181847, 0.0025189823583664506, -0.010370406558183554, 0.004489674052194026, 0.009895760725867397, 0.0027852920467035247, 0.0015868984491351767, 0.015488264181388267, 0.016100776464612387, -0.009092120054063457, -0.0038458191934047647, -0.006215975419776143, -0.0006767339019413399, 0.004596197927545731, 0.011626773700190718, 0.009336510380326679, 0.0014004816672423814, -0.010903025934889676, 0.003983685644323387, 0.00821800968922215, 0.0028119230155532193, 0.008750629065930937, 0.007871807094350203, 0.011120785292333402, 0.009842498788194654, -0.011116073685569106, 0.008218009689208827, 0.014795858991671018, -0.0023544849386025746, 0.000867862290532706, -0.0012626152163219828, 0.006939723185102942, -0.002194699125589672, 0.00350432820529889, 0.003690744987129513, 0.0069130922162754516, -0.007787202581110542, 0.01165340466903153, -0.01843959011541685, 0.008031592907390639, 0.0025988752648551383, -0.00685511867184907, 0.0054750198991220245, -0.009411691680076828, -0.017108041673629337, -0.007014904484863749, 0.001906470075115685, -0.007068166422529387, 0.001720053293260193, 0.009363141349152393, 0.008111485813866004, 0.007072878029267038, -0.008825810365691744, -0.011568800155794534, 0.008084854845025191, 0.016553502934812947, -0.002327853969743998, -0.006855118671847293, -0.005576832167735191, -0.011355752405100006, -0.011622062093435304, -0.00914538199172732, 0.012399071796441063, 0.0040103166131473245, -0.013273182161269936, 0.0093098794114983, 0.00805822387619859, -0.0025941636581316985, 0.008218009689225703, -0.006508916076988669, 0.012692012453626944, -0.005603463136559128, -0.004325176632461236, 0.003344542392274441, 0.00020208806964205905, 0.0026521372025438694, 0.0006281835710035821, -0.013805801538006257, 0.005661436680981957, -0.01668194617226959, 0.003238018516906749, -0.00999757299448678, 0.008617474221749966, -0.004484962445473251, 0.000867862290527377, 0.005901115400511081, 0.011626773700188942, -0.007387738048553416, -0.0024343778451019205, -0.0012626152163113247, 0.0022526726700036193, 0.0020928868569844994, -0.0022745920321121105, 0.005102186335428804, -0.002381115907441611, -0.004538224383113132, 0.018098099127299427, 0.018444301722162493, -0.025150594262047576, 0.009709343943996807, 0.004622828896398978, 0.0008146003528546331, 0.011094154323481042, 0.010721320759790487, -0.0014224010293455436, 0.011600142731363228, 0.0022526726699956257, 0.005501650867961949, 0.01860408753519671, 0.0017999461997906252, -0.0005702100266118393, 0.005874484431675597, -0.012687300846886629, -0.01444494479004721, 0.011786559513205397, -0.009065489085222644, -0.006668701890009565, 0.002891815922061447, 0.0007347074463606162, 0.011333833043006614, 0.014103453801922683, -0.018226542364739196, -0.004591486320806304, 0.008670736159425374, 0.0023858275141881435, 0.006673413496740999, 0.013304524736864387, -0.010130727838674858, -0.01026388268282652, -0.010769871090702487, -0.0016088178111823837, 0.012745274391315675, -0.006082820575611159, -0.00022400743172124038, -0.006029558637940191, 0.004170102426184208, 0.0002553500073378956, -0.020836377310656573, 0.0015868984491023141, -0.0008631506837941672, 0.01226591695227075, -0.009145381991710444, 0.01032185622725823, 0.008617474221775723, 0.005501650867959285, 0.004196733394999264, 0.0025189823583673387, -0.017427613299668465, 0.014822489960494067, -0.01441831382120462, 0.0015336365114322348, -0.009678001368446765, -0.008053512269481367, -0.0008631506837994962, 0.010241963320741121, -0.008586131646183048, -0.023206533537035057, 0.014369763490301501, -0.002354484938583923, 0.01037511816491854, -0.008799179396869583, -0.012873717628735015, 0.002226041701156589, -0.010556823340037269, 0.004036947581997907, -0.0011028294033019748, 0.007498973530649877, -0.00866602455267973, 0.016873074560866286, 0.00808485484503585, -0.005017581822182038, 0.004010316613158871, 0.005235341179610664, -0.018759161741453312, -6.422161870567322e-05, 0.02398354324002483, -0.005203998604024207, 0.014050191864262374, 0.0006281835710106876, -0.0031534140036724168, 0.011333833043021713, 0.0032646494857679897, 0.009496296193334253, 0.0007879693840244784, -0.01047693043351039, 0.016660026810163764, 0.006620151559059373, -0.011595431124632682, 0.001027648103547385, -0.006322499295116302, 0.011520249824841677, 0.004622828896401643, -0.0034729856297008865, -0.009731263306122173, 0.008644105190605877, 0.003371173361116142, 0.0057679605563052405, 0.003930423706655972, -0.005496939261228739, 0.0025189823583557924, 0.0186040875351976, 0.006806568340921082, -0.010263882682843395, 0.008031592907363994, 0.009709343944033222, 0.00675330640325722, -0.0018218655618751356, 0.0040902095196875266, 0.00310486367274887, -0.012367729220856383, 0.004436412114540822, 0.0035575901429707457, 0.01434313252145003, -0.015377028699306905, 0.005022293428934788, 0.016819812623178443, -0.0005968409954304477, -0.013725908631477601, 0.008004961938539168, -0.007148059329029621, -0.005843141856086476, 0.02041499341600428, 0.008777260034762868, 0.004356519208006837, 0.008111485813880215, -0.006269237357450663, -0.00616271348210784, 0.021640017982448967, -0.003313199816683543, 0.010108808476566367, 0.002172779763488286, 0.014529549303288647, 0.012984953110818154, -0.0011028294033001984, 0.02606075880920411, 0.0038238998313113726, -0.01516398094860083, 0.004303257270374061, 0.018177992033818313, 0.00630057993306643, 0.003584221111778696, 0.001693422324453131, 0.017885051376616445, 0.010534903977931442, 0.017751896532423928, -0.015909648076028127, 0.0025456133271823944, -0.001528924904699025, 0.0031314946415825773, 0.013437679581050688, 0.001347219729561644, -0.012980241504100931, -0.0017952345930583036, 0.0007613384152040936, 0.010028915570050145, 0.014636073178645681, -0.019345043055844613, -0.004538224383126455, 0.011972976295068882, 0.010508273009091518, -0.015217242886279791, -0.010263882682831849, 0.014023560895426002, -0.0026474255957813497, 0.010987630448144436, -0.0013158771540044967, -0.014791147384911163, 0.0020129939504656136, 0.01594099065159149, -0.0017686036241917336, -0.004804534071499056, 0.006380472839560447, -0.0014490319981916855, 0.009469665224508539, -0.0014224010293268918, 0.014955644804675039, -0.01601617195137095, -0.00725458320438932, -0.002940366252990323, -0.0055768321677396315, -0.004857796009159365, 0.012052869201570893, -0.011542169186959939, 0.004489674052205572, 0.01415671573958388, 0.0023325655765198405, 0.0022793036388311094, -0.026109309140123216, 0.006034270244684059, -0.009997572994466353, -0.0004104242135776204, 0.031094011919171827, 0.014476287365624785, 0.0018798391062970765, 0.00576796055633455, 0.01120067819882653, 0.02257210189173442, 0.006540258652564468, -0.00653554704580106, 0.004729352771717821, 0.00803159290736577, -0.008319821957819329, 9.556419430012397e-05, -0.0033398307855465603, -0.011755216937641144, 0.008084854845047396, 0.0074457115929629225, 0.0033445423922824347, -0.003046890128336699, -0.0023811159074345056, 0.015621419025562133, 0.019909005008134528, -0.005816510887243886, 0.023504185800955923, -0.005550201198876614, 0.002385827514149952, -0.0003571622759084292, -0.0058964037937840885, -0.009331798773566824, -0.005576832167726309, -0.005470308292388815, 0.008564212284088768, -0.01175521693763848, 0.012292547921108898, 0.007818545156690782, -0.008612762615006098, -0.0008365197149711179, 0.026646640123598964, -0.013805801537987605, 0.0020928868569711767, 0.005714698618647596, 0.008590843252910929, -0.014764516416087226, -0.01164869306227967, -0.007600785799251497, -0.009038858116380943, 0.02129381538758146, 0.004489674052198467, -0.016362374546216252, 0.0033711733610992667, -0.015669969356522984, -0.018439590115419513, -0.006748594796508023, -0.0017419726553855597, 0.005501650867961061, 0.01911007594306735, 0.0003618738826540735, 0.0027053991402068434, -0.010982918841394351, -0.011089442716751385, 0.002012993950483377, -0.012607407940378401, 0.02062804116670236, -0.008160036144798433, 0.013837144113574062, -0.0009164126214598056, 0.004489674052202908, -0.0070681664225311636, -0.032554003598408876, 0.010614796884434341, -0.01793360170755598, -0.004165390819434123, 0.0062473179953697056, -0.010157358807481032, -0.01071660915304573, -0.026029416233654068, -0.0071214283601941375, 0.00518207924194769, -0.0003837932447510184, 0.011839821450882582, -0.006269237357465762, 0.001666791355616759, 0.0029717088285625692, -0.0017686036242166026, 0.0018798391062970765, 0.011333833043019048, 0.005981008307017532, -0.012847086659899531, -0.004538224383131784, 0.003078232703918715, -0.00973126330610885, 0.00877726003477175, -0.0035795095050410453, 0.013650727331723012, 0.0039037927378222648, -0.0020881752502273088, -0.0042719146947796105, -0.004591486320802751, 0.0006281835710142403, 0.013277893768028015, -0.0006501029330925334, 0.0011341719789008664, 0.007099508998129167, 0.005368496023787195, 0.008191378720360909, -0.002966997221821366, -0.008825810365681974, 0.006806568340925523, 0.004942400522414125, 0.005341865054960593, 0.010295225258400542, 0.009363141349147952, -0.025763106545266368, 0.0025456133272063752, 0.0074457115929824624, -0.009278536835904738, 0.019456278537939298, -0.012474253096192989, -0.012713931815707014, 0.03703271796955221, -0.0027539494711312784, 0.0011341719788813265, -0.0012093532786403571, -0.0052039986040117725, -0.006162713482116722, -0.018652637866107824, -0.006136082513283014, -0.00405886694408597, -0.0020349133125723284, 0.018976921098865063, -0.0021680681567266546, -0.00027726936939931335, -0.008506238739664163, -0.01769392298803041, 0.007179401904616967, 0.019642695319782355, 0.0037972688624741124, -0.011249228529746524, 0.002811923015536344, 0.007818545156681012, -0.006988273515997179, -0.0257364755764522, -0.011675324031122258, -0.0074676309550802955, 0.008218009689215933, 0.00853758131524529, 0.018177992033806767, 0.0029983397973900594, 0.001826577168621668, 0.011653404669039524, 0.01594099065160126, 0.004409781145700897, 0.0035575901429583112, 0.008324533564553427, -0.011808478875304118, 0.010348487196088385, 0.005261972148450589, 0.005661436680982845, 0.0067266754344288415, -0.013885694444480734, -0.0033398307855172504, -0.019265150149317734, 0.003104863672744429, -0.005470308292381709, -0.002860473346466108, -0.002194699125594113, -0.004005605006407897, -0.005177367635183394, 0.013224631830347278, -0.01577649323183028, -0.001688710717709263, -0.012420991158521133, 0.0022793036388328858, -0.004698010196121594, -0.0028871043153140263, 0.006087532182365685, -0.01013072783865887, -0.007733940643434245, 0.003158125610417173, -0.017933601707544433, 4.230225662471554e-05, -0.0032599378790063582, -0.0034197236920068264, -0.0029669972218240304, 0.013304524736853729, 0.009602820068681517, 0.016207300339978303, 0.0031048636727408763, -0.011675324031124035, 0.02243894704753835, 0.007152770935811681, 0.016660026810162876, 0.00017545710080302257, 0.0013205887607457, 0.004596197927544843, -0.01321992022360785, -0.02072985343532263, -0.013938956382207657, -0.007920357425286184, -0.0012359842474953808, -0.00254090172046606, -0.013193289254771479, -0.019797769526047837, 0.00547501989912913, -0.014897671260277079, -0.0019017584683878042, 0.0003618738826709489, 0.009123462629642809, 0.007818545156683676, 0.0020928868569960457, 0.01002891557004748, -0.0027805804399525513, 0.0033978043299089933, 0.010295225258423635, -0.0009696745591414313, 0.0005749216333308382, 0.001054279072379316, 0.00901693875428311, -0.0059496657314426216, 0.0069929851227703566, 0.009682712975179975, 0.005874484431665827, -0.002700687533460311, 0.007738652250156797, 0.0225188399540448, -0.006961642547200775, 0.006034270244676065, -0.008799179396848267, -0.010769871090690053, 0.01583446677625222, 0.0036108520806044098, -0.0009696745591343259, -0.014950933197924954, 0.007046247060435995, -0.012820455691079147, 0.00640710380838172, 0.0033711733610832795, -0.0028072114087942523, -0.0024876397827853225, 0.005315234086118004, 0.007312556748791721, -0.007840464518775292, 0.007605497405997141, -0.01689499392293481, 0.0037706378936288587, -0.0019283894372108534, -0.007946988394117227, -0.007174690297861552, 0.008031592907358664, 0.0032646494857573316, 0.005475019899121136, -0.012527515033880832, 0.005315234086094911, 0.009096831660786897, -0.0027273185022904656, -0.011488907249272984, -0.007760571612268841, 0.008670736159426262, 0.009735974912856271, -0.006056189606785445, -0.010104096869798518, -0.010397037527005715, 0.005208710210782286, 0.00326464948574845, -0.00946495361775046, -0.0019283894372250643, 0.00819137872037512, 0.0025456133271930526, 0.005794591525162041, 0.008244640658051416, -0.010263882682813197, 0.010534903977914567, -0.016788470047616855, 0.008750629065918503, 0.0060342702446716245, 0.0011874339165709458, 0.003051601735070797, 0.0055549128056320285, -0.009704632337285801, 0.01266538148480123, 0.003744006924813803, 0.004409781145689351, 0.006700044465584476, -0.013432967974285503, -0.0007566268084584493, -0.01572323129418418, 0.002705399140215725, 0.008244640658053193, 0.004622828896386544, 0.00464945986523535, 0.0007080764775233561, 0.0007879693840386892, 0.005448388930293646, 0.008990307785452956, -0.0064556541393185896, -0.005017581822178485, 0.0027852920466973075, -0.0040588669440912994, -0.009997572994475235, -0.010157358807470374, -0.009092120054078556, 0.0019064700751281194, -3.7590649890617556e-05, -0.012287836314351708, -0.0025142707516030427, -0.004218652757082886, 0.014316501552624317, -0.0034729856296911166, -0.019664614681876635, 0.0029983397973998294, -0.011595431124620248, -0.0035795095050481507, 0.0051288173042607355, 0.0006548145398532768, 0.009496296193309384, -0.0006234719642783659, 0.00017545710079858168, -0.013725908631490924, 0.004596197927550172, 0.003051601735077014, 0.007046247060447541, -0.007227952235569823, -0.0009430435903041712, 0.007712021281325754, 0.010827844635125317, 0.008218009689211492, -0.015962910013668008, 0.006380472839570217, 0.015488264181393596, 0.0026255062337030566, 0.010215332351914519, 0.0049157695535777535, -0.005683356043062915, 0.007152770935775266, 0.0027586610778644882, -0.006349130263947345, -0.007361107079732143, 0.013730620238242786, 0.01120067819881676, 0.012771905360144942, -0.00863939358385224, 0.016846443592011262, -0.003792557255743567, 0.00092112422819568, 0.008723998097094565, 0.007179401904613414, 0.004995662460068218, 0.002385827514185479, -0.00376592628689032, 0.005288603117279855, -0.00288710431532202, -0.0033664617543598396, 0.011733297575521107, 0.00994902266354103, 0.006247317995366153, 0.015035537711179714, 0.011200678198840741, 0.008377795502239493, -0.008266560020159908, 0.01341104861218323, 0.011387094980686463, 0.013677358300577147, -0.0038990811310961604, 0.006566889621390182, -0.0021946991255878956, 0.006433734777218092, -0.019078733367493328, 0.011946345326230734, 0.009256617473812234, -0.0018751274995372214, -0.001129460372144564, 0.0027053991401926325, -0.008666024552692164, 0.016686657778994807, 0.00169342232445846, -0.0020881752502308615, 0.0068864612474186515, -0.022088032845926975, -0.002434377845103697, 0.009576189099849586, 0.006939723185092284, -0.0025675326892891093, 0.009043569723146128, -0.005390415385892133, -0.0038724501622340313, 0.00680656834092197, -0.010397037527009267, -0.002860473346480319, 0.007259294811118089, -0.011515538218120014, -0.014072111226350437, -0.0019550204060623244, -0.008586131646180384, -0.012580776971526042, -0.005390415385861047, -0.0049376889156755865, -0.023259795474697142, -0.015110719010941409, 0.007552235468307522, 0.006167425088868583, -0.018865685616811234, 9.556419430278851e-05, -0.000490317120080519, -0.0023012230009085144, 0.006673413496737446, 0.009309879411482314, -0.006269237357472868, -0.0005169480889435363, -0.003686033380400744, 0.017938313314299847, -0.0052572605417049445, 0.000787969384012932, 0.001080910041221017, 0.0016667913556007719, 0.00587448443165961, 0.013703989269383321, 0.0021195178258173186, -0.0036061404738898517, -0.0023811159074380583, 0.0017999461997861843, -0.007440999986224384, -0.005523570230067776, 0.0037706378936332996, -0.030077323496674246, 0.007126139966951328, 0.004809245678212726, -0.006242606388624061, -0.004564855351963715, -0.0015821868423699925, -0.009944311056789168, 0.004489674052222448, -0.007494261923899792, -0.02158204443803502, -0.006588808983483574, -0.007520892892740605, -0.012154681470176065, -0.004165390819435011, 0.00518207924193792, -0.011568800155784764, -0.006935011578368844, -0.018652637866112265, 0.016979598436196675, -0.009651370399613945, 0.008803891003603681, 0.011520249824870987, 0.0021461487946439206, -0.004804534071488398, 0.0035842211117751432, 0.01221265501458113, 0.0016934223244602364, -0.016602053265732053, -0.012101419532497104, 0.009922391694707322, -0.00861276261501498, 0.0012673268230711798, 0.00028198097614939854, -0.0029403662529823293, 0.013624096362882199, -0.0015555558735176334, 0.0002020880696234073, 0.009363141349155057, -0.01255414600269944, 0.021293815387613435, 0.023663971613958168, -0.008879072303357383, -0.004698010196157121, 0.014316501552596783, -0.01713467264248436, 0.01711275328038475, 0.0022793036388453203, -0.00011748355637664076, 0.012532226640590949, 0.015940990651594156, 0.0046760908340433005, -0.006721963827644117, -0.0013158771539769631, 0.004303257270346528, 0.0015336365114313466, -0.006642070921166976, -0.00837308389546898, -0.003472985629697334, -0.0012093532786616734, 0.017219277155752444, 0.008191378720374232, -0.0015555558735194097, -0.005203998604042859, 0.022412316078673555, 0.0065935205902105665, 0.011520249824865658, 0.01650024099716685, 0.004835876647069526, -0.011542169186976814, -0.005496939261215417, -0.021608675406875832, -0.00618934445096464, 0.019296492724906855, -0.010929656903727825, 0.004915769553580418, -0.011941633719482425, -0.030183847372009076, -0.013725908631480266, 0.00430325727035008, -0.008692655521523207, -0.006615439952331492, -0.012314467283189856, -0.010450299464691781, 0.007712021281338188, 0.005128817304271394, 0.007791914187841087, -0.015110719010944074, 0.002359196545328679, -0.0007299958396149719, -0.012953610535252125, -0.005257260541711162, 0.0055815437744586305, -0.006136082513301666, 0.013357786674519367, -0.0010495674656718634, 0.004249995332672896, 0.005102186335422587, -0.005337153448202514, -0.022487497378483212, 0.005395126992622679, -0.000996305527981356, -0.003126783034842262, 0.0203883624471759, 0.010987630448132002, 0.009602820068662865, -0.004591486320818738, -0.015217242886270022, -0.007946988394106569, -0.0033131998166968657, -0.009172012960566356, -0.006349130263980207, -0.0003571622759128701, -0.0013425081228204405, 9.556419430545304e-05, -0.016708577141094416, -0.020436912778102112, -0.0023278539697617617, 0.004383150176858308, -0.003313199816697754, 0.0016934223244318147, -0.00041042421357850856, 0.0007347074463615044, 0.0008412313217114331, 0.0039037927378213766, 0.0030249707662282077, -0.0004370551824059987, -0.007707309674578333, 0.005501650867971719, 0.0063272109018743805, -0.022221187690112387, -0.011915002750655823, 0.012771905360152047, -0.004458331476634214, 0.004995662460073547, 0.007312556748788168, -0.011435645311601128, -0.003739295318059277, -0.00967800136844943, -0.003792557255728468, 0.013277893768008475, -0.01047693043351039, 0.005954377338173167, 0.011067523354643782, -0.006455654139310596, -0.014844409322610552, 0.0029717088285590165, 0.0066467825279037385, 0.003451066267591507, 0.002945077859730638, 0.015435002243734175, 0.010188701383075482, -0.006189344450967305, -0.003499616598544364, -0.00773394064343691, -0.008586131646178607, -0.00664207092114566, 0.008351164533382693, 0.008670736159414716, -0.011462276280460593, -0.006082820575613823, 0.016367086152976107, 0.0011341719789044191, 0.003664114018293141, 0.0022793036388275567, 0.008617474221755295, 0.010348487196088385, 0.014023560895426002, 0.00198636298163013, -0.0038191882245657283, -0.003765926286892096, 0.004436412114540822, -0.01527050482397474, -0.008080143238296422, 0.006700044465564936, -0.006748594796500917, -0.0008631506837950553, -0.0036061404738738645, 0.017885051376606675, -0.009757894274932788, -0.0036860333803891976, 0.016180669371117062, -0.012500884065040907, -0.01071660915303596, 0.006114163151213603, 0.009869129757050565, 0.001879839106289971, -0.00669533285882018, -0.019984186307900664, -0.003659402411538615, 0.006300579933053996, -0.0019017584683913569, 0.008244640658052305, 0.013357786674522032, 0.02395691227116803, 0.007445711592974469, 0.013757251207077381, -0.005550201198908589, -0.004325176632433703, 0.005767960556328333, 0.014875751898165923, 0.018790504317028223, 0.009735974912841172, -0.004538224383116685, 0.009443034255648186, 0.0012406958542268143, -0.005923034762581381, 0.010215332351908302, -0.001289246185149473, -0.0065888089834915675, -0.00584314185608914, 0.007046247060450206, -0.021129317967823802, 0.014209977677264618, 0.002918446890883608, 0.0006814455086683324, -0.006295868326303911, -0.0037925572557213627, 0.010215332351897644, 0.009975653632377401, 0.024303114866044417, -0.002407746876262884, 0.0013738506983997922, 0.016793181654326972, 0.0034776972364456427, 0.001453743604908908, 1.5671287787455412e-05, 0.0014271126360885233, -0.0037659262868841026, 0.006939723185107383, 0.006060901213530201, 0.009762605881699749, 0.020388362447202546, 0.018710611410538647, -0.017906970738697403, -0.0051241056975115384, 0.010215332351926953, 0.00824464065805497, 0.0010542790724006323, -0.002940366253004534, 0.008723998097095453, -0.019824400494881544, 0.005581543774447972, -0.00847960777082779, 0.004036947582005901, -0.0042985456636159824, 0.004889138584762698, 0.0036641140182966936, -0.010769871090698935, -0.010263882682838954, 0.008777260034779744, 0.007472342561790413, -0.004245283725951232, 0.029309737007192638, 0.001906470075130784, 0.01117404722998483, -0.022167925752437867, 0.004569566958712912, 0.011440356918361871, -0.012847086659911966, 0.009283248442645942, -0.0032066759413682533, 0.008191378720392883, -0.012900348597574052, 0.008697367128253752, -0.001209353278669667, 0.015727942900915615, 0.0016934223244513547, 0.01562141902558345, -0.00405886694408597, -0.008399714864337327, -0.0077073096745952085, -0.0017952345930343228, 0.0009743861658870756, 0.001320588760735042, 0.016873074560845858, -0.00019737646289641475, 0.002279303638828445, -0.0014224010293251155, 0.011014261416986137, 0.0002553500073041448, -0.006082820575602277, 0.02187969670197809, 0.002146148794645697, 0.00851095034641336, -0.0023012230009200607, 0.031253797732191835, -0.007733940643419146, -0.022301080596616174, 0.007019616091607617, -0.002594163658133475, -0.003632771442707572, -0.0018218655618715829, -0.009837787181467661, -0.018785792710293236, 0.011094154323486372, -0.010716609153027967, 0.01918996884958002, -0.012101419532490887, -0.007174690297874875, -0.007014904484869966, 0.0029184468909067007, 0.02214600639035158, 0.014849120929324222, -0.019105364336316377, 0.027179259500302422, 0.011307202074164913, -0.0012626152163361937, 0.00017545710082078614, 0.0033711733611125894, -0.011755216937653579, -0.0032599378790232336, -0.005949665731439069, -0.01553681451230915, 0.0031847565792419985, 0.022279161234522782, 0.008617474221775723, 0.01676655068551458, 0.019642695319783243, 0.004702721802872567, 0.00803159290736577, -0.008053512269448504, -0.0011294603721472285, -0.011009549810220953, 0.014742597053989392, 0.004622828896390985, -0.0006234719642650433, -0.012953610535229032, 0.010721320759802033, 0.008164747751562729, -0.0011560913409951468, -0.012341098252004912, 0.02803145050306277, -9.085258754648606e-05, -0.018759161741442654, 0.008297902595725937, 0.0035575901429591994, -0.00874591745919684, 0.004249995332692436, 0.0068331993097601185, 0.0073125567487943854, 0.002838553984413572, 0.004569566958709359, 0.009123462629621493, 0.014476287365599916, -0.002221330094416274, 0.005581543774471065, -0.01729445845549904, -0.009704632337269814, -0.005603463136579556, 0.003504328205284679, -0.009278536835900297, 0.008777260034778855, 0.013703989269393091, -0.002567532689278451, 0.008484319377578764, 0.006513627683738754, -0.0023278539697813017, -0.007733940643433357, -0.002221330094422491, -0.0013691390916683588, 0.004409781145689351, 0.006540258652556474, -0.0024610088139542796, -0.01566996935650966, -0.0016088178112037, 4.230225662293918e-05, 0.01732580103106951, -0.0006501029331085206, -0.012820455691044508, -0.014072111226322903, 0.018737242379362584, -0.001049567465639889, 0.0015868984490996496, 0.00464945986521581, -0.013033503441748806, -0.002114806219069898, 0.0018532081374669218, -0.012953610535252125, -0.014844409322607, -0.010343775589341853, 0.0077919141878339815, 4.2302256605175614e-05, -0.006402392201647622, -0.0030468901283242644, -0.0011827223098146433, -0.0030202591595083206, -0.003819188224563952, -0.042407462067648005, 0.02273188770475354, 0.009336510380317797, 0.03671314634352374, -0.006029558637941079, 0.0038238998313202543, 0.01194634532622274, 0.005688067649820994, 0.004463043083357654, -0.007600785799263043, -0.0023278539697741962, -0.015057457073289982, -0.016495529390406105, -0.018040125582887256, -0.01915862627398024, -0.0027273185022700375, -0.006801856734172773, -0.002594163658134363, 0.003264649485768878, -0.002327853969743998, -0.005789879918421725, -0.005523570230050012, 0.012612119547128486, -0.009891049119111983, 0.003131494641565702, -0.006375761232817467, 0.007312556748813037, -0.006269237357440893, 0.0011075410100565009, -0.0035262475673727423, -0.007281214173239903, -0.004937688915663152, 0.003424435298779116, -0.00219469912558079, 0.004036947581996131, -0.0066420709211652, 0.0014004816672734677, 0.01170666660671138, 0.009735974912875811, 0.0021727797634847335, -0.0014224010293295564, 0.0050755553665977615, -0.005523570230051789, 0.005315234086109122, -0.0025409017204474083, -0.019451566931198094, 0.008457688408740616, -0.012660669878041375, 0.01245233373410759, 0.0054217579614439515, 0.0022260417011485956, 0.007179401904627625, -0.001795234593055639, 0.000841231321706104, -0.006881749640665902, 0.012239285983416615, -0.007254583204410636, -0.0013957700604949608, 0.012665381484784355, 0.002279303638833774, -0.0010761984344824782, -0.015909648076018357, -0.006242606388632943, 0.006087532182360356, -0.017001517798290067, 0.0008944932593628607, -0.012500884065046236, 0.016633395841322063, -0.015270504823956088, 0.025448246525963114, 0.02065467213553962, -0.0066953328588379435, 0.006220687026523564, 0.003744006924794263, -0.012048157594844788, 0.011653404669051959, 0.020228576634185202, 0.0006015526021894146, 0.005608174743306549, 0.009150093598485398, 0.010561534946753603, -0.00797361936295804, -0.020543436653445823, 0.007632128374829961, 0.01309147698616453, 0.011972976295054671, -0.0071746902978873095, -0.0031267830348395975, 0.02997551122806197, -0.012474253096192989, -0.002620794626960965, 0.010455011071437426, -0.019771138557231005, -0.011622062093453067, 0.011972976295075988, -0.006349130263962444, 0.013144738923821286, -0.00017074549405826644, 0.0140768228330872, 0.007339187717631646, 0.024888996180443712, -0.010769871090707817, 0.004942400522413237, 0.006353841870701871, -0.009518215555442744, 0.009469665224501433, -0.011755216937625157, 0.015781204838596352, 0.0039037927378107184, -0.00464474825846839, 0.012026238232735409, -0.019238519180485802, -0.003952343068744035, -0.0015555558735274033, 0.01953617144443065, -0.005470308292377268, -0.005230629572866796, 0.017139384249211354, 0.015275216430715943, -0.0007832577772779459, -0.01002420396332493, 0.003717375955961444, 0.016526871966002332, 0.021267184418751306, 0.0065668896213937344, -0.025922892358285488, 0.0013472197295634203, -0.009491584586590385, -0.005923034762591151, -0.023286426443524633, -0.016628684234593294, 0.007419080624160301, 0.009283248442633507, 0.0028119230155443375, -0.012261205345511783, -0.0065089160769966625, -0.0023278539697697553, 0.02041499341601849, -0.01071660915304129, -0.0002772693694064188, 0.012984953110824371, -0.005417046354724064, 0.0012673268230631862, -0.015829755169512794, -0.005257260541727149, 0.002092886856988052, 0.012745274391289918, -0.02107605603015017, -0.007254583204370668, 0.006460365746059793, -0.002940366253010751, 0.006620151559081577, 0.007791914187833093, 0.0021727797634909507, 0.008750629065917614, -0.015936279044860058, -0.010636716246548161, 0.01708612231154394, 0.011626773700202264, 0.002172779763462529, 0.021879696701981644, 0.00036187388265584985, -0.014711254478402935, -0.023179902568193356, 0.01540837127488004, 0.011893083388550885, 0.014795858991648814, 0.009363141349169268, 0.017645372657094427, -0.0013957700605171652, 0.011893083388565096, 0.004542935989859664, -0.008745917459183516, 0.022492208985176454, 0.0023325655765100706, -0.004192021788260725, -0.009491584586594826, -0.01849285205309581, 0.004942400522423895, -0.005097474728686713, -0.010370406558164902, 0.0024390894518564465, -0.004484962445464369, 0.0005749216333379437, -0.012634038909209444, 0.010135439445404515, -0.005097474728684048, 0.0050755553665977615, 0.0006548145398612704, 0.009256617473826445, 0.0011341719789044191, -0.009811156212611749, -0.015084088042105925, 0.011866452419717177, -0.010903025934884347, -0.0150574570732811, -0.0032333069101619927, -0.010183989776323621, 0.0037173759559490094, 0.0011608029477336856, 0.0022526726700089483, 0.008723998097088348, -0.0017686036242166026, -0.01356612281846381, -0.002674056564623939, 0.004542935989899632, 0.0047559837405728445, -0.01601617195137628, 0.010747951728613536, 0.009735974912854495, -0.005363784417048656, -0.018732530772594735, 0.00693972318509406, 0.023317769019131518, -0.010397037526986175, -0.015323766761651036, 0.008004961938540056, 0.005182079241913939, 0.010561534946783802, 0.011893083388566872, -0.0016887107176977167, -0.0017686036242166026, -0.016175957764383853, -0.004804534071471522, -0.009864418150288046, -0.003499616598544364, 0.011067523354649111, -0.00027726936939842517, 0.007925069032007848, -0.0011028294033161856, 0.0012673268230694035, 0.0018532081374553755, -0.004245283725959226, 0.030801071261996604, -0.011808478875277473, -0.0026207946269423132, -0.005550201198890825, -0.010423668495849192, -0.00035716227588977745, 0.004942400522401691, -0.00901222714754546, -0.01084976399719828, -0.002807211408802246, -0.01492430222910901, -0.004218652757108643, -0.010503561402349426, -0.0019017584683806987, -0.014098742195200131, 0.007046247060427113, 0.006140794120004678, 0.011706666606716709, 0.0045429359898800925, 0.007525604499496019, -0.010823133028369014, 0.007791914187840199, -0.005949665731439069, 0.0139969299265994, 0.019882374039313255, 0.00150700554260208, 0.002305934607660376, 0.01503553771119659, -0.0004636861512627988, -0.006189344450942436, 0.0030782327039000634, 0.012825167297808804, 0.008457688408732622, -0.006855118671871274, -0.011515538218135113, -0.008160036144787775, 0.021586756044799316, 0.013970298957750593, 0.009309879411490307, -0.008293190988987398, -0.014551468665404244, -0.00014411452522011814, 0.0016135294179253634, -0.015856386138335843, -0.02030375793392647, 0.022146006390348028, -0.01987766243255784, 0.019136706911901946, -0.006109451544441313, -0.013672646693815516, 0.009709343944027005, -9.085258756424963e-05, 0.011999607263898149, 0.007285925779957125, -0.0019283894372303934, -0.00925190586708613, 0.004356519208017495, 0.002918446890888049, 0.00462282889639809, 0.008963676816620136, 0.01183982145088347, -0.011435645311609122, 0.016393717121804485, 0.01948290950677567, -0.003233306910183309, -0.010530192371182245, -0.011116073685574435, -0.0009430435902926249, 0.002492351389522085, -0.01037040655817556, 0.0011874339165602876, 0.013304524736830636, 0.017006229405033046, 0.017272539093391437, -0.009598108461928767, -0.006295868326300358, 0.0037706378936377405, 0.015355109337206407, 0.011280571105344528, -0.02072985343528355, 0.01002891557004748, 0.030694547386621807, 0.01921659981841639, 0.007685390312481388, -0.008666024552665519, 0.0027852920467283937, -0.008905703272216847, 0.001240695854240137, 0.00041513582032859375, -0.007654047736914471, 0.002092886856982723, 0.010241963320725134, -0.009891049119135964, 0.016047514526942308, 0.009922391694692223, -0.0003571622758968829, -0.00030390033824101437, -0.010663347215373875, 0.020122052758820175, -0.002514270751623471, 0.011067523354650888, 0.0036108520806292788, 0.000495028726829716, 0.004489674052227777, -0.009198643929404504, 0.0025722442960187664, 0.0011075410100556127, 0.010375118164896335, -0.011382383373929272, 0.013011584079655414, -0.008399714864329333, -0.01130249046741394, -0.01226120534550823, 0.0045961979275332965, -0.0026740565646177217, 0.013810513144744796, 0.007978330969709901, -0.002993628190659514, -0.0025142707516057072, -0.010024203963313383, -0.011116073685561112, 0.008084854845049172, 0.00046839775798979133, 0.0033179114234087592, 0.014209977677276164, 0.010028915570059915, -0.015323766761627056, -0.002860473346485648, -0.002780580439951663, -0.0023811159074274, 0.0007347074463455172, -0.002913735284153063, -0.004618117289643564, -0.006801856734180767, 0.009309879411492084, -0.009864418150307586, 0.009443034255653515, -0.005816510887246551, -0.005523570230067776, -0.0037392953180663824, -0.005390415385886804, -0.005496939261206535, -0.011915002750643389, 0.012931691173172943, -0.000943043590288184, -0.0018751274995425504, -0.005230629572875678, -0.00922527489822933, -0.007680678705757948, 0.010162070414237334, -0.0037925572557391263, -0.028585989241861398, -0.008133405175962949, 0.013544203456375747, 0.0018265771686323262, -0.01612269582670134, 0.005714698618660918, 0.003957054675490568, -0.010823133028378784, 0.008484319377594751, -0.00714805932903495, -0.008612762615016756, 0.004995662460085981, 0.018124730096134023, -0.01061008527769225, -0.0066953328588379435, -0.018865685616812122, 0.0007080764775100334, -1.0959681054245607e-05, 0.002226041701179682, -0.004511593414302517, 0.012372440827592257, -0.018412959146587582, -0.0189722094921434, 0.003744006924813803, 0.010534903977921672, 0.006273948964214959, -0.008026881300623678, 0.009629451037532988, 0.014769228022835534, -0.013006872472934639, 0.02113402957459698, -0.004911057946854314, 0.0021727797634909507, -0.009731263306101745, -0.010849763997216044, 0.007019616091604952, 0.009789236850523686, 0.0001488261320004014, 0.003637483049446111, 0.003903792737817824, 0.013144738923827504, -0.014578099634220187, 0.01223928598342372, -0.00014411452522011814, -0.007041535453718772, 0.0004950287268368214, -0.0112492285297483, -0.0003305313070871563, 0.0008412313216874523, -0.006402392201644069, 0.0064603657460624575, 0.0011075410100493954, 0.0010809100412227934, 0.01471596608514325, -0.004005605006407009, -0.007254583204368892, -0.004644748258463949, -0.0010495674656416654, 0.007339187717622764, 0.00725929481111276, -0.002221330094407392, -0.0020615442813998186, 0.01511543061768883, 0.0072592948111163125, 0.004463043083372753, 0.003317911423433628, 0.0038238998313016026, -0.004990950853354548, 0.0026787681713607014, 0.008138116782707705, 0.011733297575555746, -0.0020082823437270747, -0.00397897403758396, -0.005230629572869461, -0.005417046354710742, 0.003078232703916939, -0.0034996165985425876, -0.0027273185022904656, -0.011968264688313468, -0.005310522479365254, -0.00464474825847816, -0.011089442716723852, -0.006855118671818872, 0.005901115400503976, -0.006508916076984228, 0.004729352771739137, -0.015430290636979649, -0.007041535453716996, -0.008506238739656169, 0.003903792737833811, -0.0016088178112045881, -0.007201321266715688, -0.008266560020135927, -0.023020116755170683, -0.010556823340023946, -0.010636716246525957, 0.011147416261134246, -0.01132912143626541, 0.013810513144727032, 0.003664114018314457, -0.00019737646290352018, 0.0019863629816478934, 0.000281980976146734, 0.004995662460073547, -0.008452976802003853, -0.0019283894372303934, 0.0032646494857413444, 0.009096831660803772, 0.011520249824854112, -0.0031267830348307157, -0.012900348597576716, -0.02445818907230901, 0.0020396249193215255, 0.01799157525195927, -0.00019737646289552657, 0.003504328205290008, 0.013437679581029371, -0.012447622127361946, -0.004192021788276712, 0.0050222934289045895, -0.005656725074247859, -0.008719286490346256, -0.027387595644256635, -0.007840464518775292, 0.01152024982484523, 0.012771905360146718, 0.011387094980682022, -0.010397037527015485, -0.0027805804399987366, -0.004990950853346554, 0.006167425088866807, 0.005874484431685367, 0.004969031491248721, -0.014604730603074323, 0.005315234086114451, -0.009731263306100857, 0.013544203456381965, -0.006349130263956226, 0.0044097811456920155, 0.0059011154005030875, -0.0249109155425149, -0.000543579057763921, -0.0004636861512699042, -0.0011560913409986995, 0.005608174743272798, -0.0048311650403336515, 0.0022526726700196065, -0.011888371781823004, -0.01487104029142916, 0.022172637359171965, 0.003424435298784445, 0.0006814455086967541, -0.005789879918426166, -0.01638900551505973, -0.011755216937646473, 0.00129395779191821, 0.002305934607679916, 0.0006015526021698747, 0.009416403286834907, 0.0063538418707160815, -0.010104096869803847, -0.006588808983484462, 0.01777852750127984, -0.005949665731434628, -0.0007299958396096429, 0.0026255062337012802, -0.018386328177754763, 0.007419080624147867, 0.0020928868569747294, -0.00432517663244969, -0.013459598943109441, -0.012687300846898175, -0.0003039003382401262, 0.025501508463651845, 0.02211937542151965, -0.0068817496406747836, -0.001342508122827546, 0.004782614709382571, -0.02315327159937386, 0.0004683977579746923, -9.085258754826242e-05, 0.0006548145398586058, -0.002327853969773308, 0.002332565576511847, -0.013379706036623418, 0.006407103808373726, -0.009331798773575706, 0.0024124584830254037, -0.005923034762598256, -0.008559500677352894, -0.011728585968799443, -0.0013425081228364277, -0.006269237357469315, -0.007467630955086513, -0.012607407940381954, 0.0033711733610886085, 0.013863775082413099, 0.00646036574604647, 1.567128777235638e-05, 0.005608174743302996, 0.0031847565792428867, -0.002274592032085465, -0.02083637731063881, 0.015727942900916503, 0.013384417643361068, -0.0013158771540027203, 0.00046839775800044947, -0.010823133028378784, -0.0013425081228319868, 0.0030782327039045043, -0.0020082823437546082, 0.017485586844067313, -0.002487639782782658, 0.0063272109018690514, 0.003291280454591927, -0.001076198434476261, -0.007787202581102548, 0.00033524291380437887, -0.0015555558735345087, 0.004889138584743158, -0.017241196517821855, -0.0030735210971624127, -0.004937688915678251, -0.016389005515057953, -0.013859063475656797, -0.010903025934883459, -0.011382383373942595, 0.010241963320734904, 0.008351164533406674, 0.0037706378936430696, 0.014289870583796827, -0.01881242367911895, -0.005789879918410179, -0.0057366179807401, -0.0006501029331111852, -0.013619384756152542, -0.0010229364968106225, 0.013783882175896878, -0.0012626152163344173, 0.0023858275141765972, -0.019345043055834843, -0.008000250331787306, 0.0017200532932788448, 0.019403016600261225, -0.0020615442813989304, 0.003770637893635964, -0.0051773676352002695, 0.018630718504006438, 0.002172779763487398, 0.003557590142952094, -0.009598108461926103, -0.007227952235568935, -0.0028072114088093514, -0.013566122818458481, -0.004458331476619115, -0.008346452926661918, 0.004063578550842273, -0.000996305527976915, -0.00826656002013415, 0.024968889086926183, 0.007285925779946467, -0.003686033380391862, -0.006775225765323967, 0.003477697236448307, -0.009464953617746907, 0.010747951728633076, -0.019265150149331056, 0.013677358300562048, -0.010503561402345873, 0.005368496023796965, -0.0065888089834862384, 0.012452333734113807, -0.010903025934893229, 0.006486996714902382, 0.007419080624138097, 0.006407103808386161, 0.008004961938522293, -0.0032333069101770917, 0.019669326288610733, -0.014684623509554129, 0.004835876647079296, 0.005075555366590656, 0.0059810083070228615, -0.0012892461851619075, -0.00749426192390068, 0.010534903977924337, -0.007627416768091422, -0.0076274167680949745, -0.00019737646291595468, -0.007893726456439154, -0.014258528008186389, 0.001959732012813298, 0.01663339584130963, 0.009869129757024808, 0.011680035637871455, -0.0030202591594923334, -0.010450299464694446, -0.00017074549406981276, 0.013917037020081402, -0.009731263306122173, -0.0013425081228595204, -0.02166193734455124, 0.010854475603935043, -0.0012093532786785488, -0.004618117289632906, -0.004538224383129119, 0.0134376795810498, 0.012692012453623391, 0.011759928544363696, -0.015749862262999237, -0.006455654139311484, 0.013011584079663407, -0.002274592032089906, -0.008000250331781089, -0.005869772824923736, -0.0025941636581157113, -0.008373083895486744, -0.0027273185022949065, -0.011888371781821228, -0.007041535453686798, -0.0017153416865571813, -0.0018484965306955203, 0.004969031491250497, 0.010907737541628215, 0.012984953110816377, 0.012878429235479771, 0.0125322266406247, -0.0023811159074433874, -0.009757894274956769, -0.002327853969767091, -0.03247411069187667, -0.001981651374880933, -0.009305167804749104, -0.0022479610632464286, -0.0034996165985310412, -0.009385060711264437, -0.0023811159074389465, 0.01088110657279362, -0.003180044972496354, -0.012261205345518889, -0.016122695826706668, -0.016415636483881002, -0.009172012960580567, -0.02246086640963707, -0.001022936496813287, 0.002705399140199738, 0.003264649485763549, -0.0001973764628866448, -0.012420991158545114, 0.016393717121798268, -0.0017419726553713488, 0.014822489960484297, 0.0024390894518475648, -0.0019816513748853737, 0.009735974912864265, 0.005261972148438154, 0.009283248442629954, -0.0009164126214633583, -0.009491584586591273, -0.0064023922016351875, -0.002993628190648856, -0.006056189606774787, -0.002487639782796869, 0.005874484431657834, -0.0049909508533483304, 0.011094154323474825, 0.01117404723000437, -0.007707309674602314, -0.011302490467429926, -0.0005169480889355427, -0.003286568847847171, 0.011120785292318303, -0.007680678705745514, 0.00435651920802016, 0.0004151358203063893, 0.009336510380322238, -0.01135575240510267, 0.02739230725098718, 0.0023059346076488296, -0.004405069538966799, 0.005821222493989531, 0.005421757961452833, 0.02017531469650624, 0.005395126992637778, -0.0025142707516110363, -0.008692655521514325, 0.0025456133271779535, 0.015408371274883592, -0.01638900551507838, 0.0036641140182851473, -0.0010229364967999643, 0.010028915570035046, -0.007654047736899372, 0.008271271626902, 0.02883037956812906, -0.003792557255732909, 0.0070728780292599325, -0.0025409017204580664, 0.02488899618040019, 0.005075555366600426, 0.003371173361119695, 0.014076822833088087, -0.004831165040341645, 0.01756547975058087, -0.0033398307854923814, 0.012878429235463784, -0.011169335623227639, -0.004804534071510602, -0.011302490467406834, 0.012532226640620259, -0.006828487703017139, -0.002727318502296683, -0.002194699125574573, -0.0040588669440966285, 0.017831789438937484, -0.020809746341807767, -0.005709987011908169, 0.02590097299620364, 0.0014803745737488327, -0.006242606388640937, -0.01748087523731634, -0.00163544878003119, 0.020148683727657435, 0.005767960556316787, -0.009092120054059905, 0.01181319048203644, -0.010450299464697999, 0.002998339797397165, 0.02350418580095326, -0.016921624891779175, -0.007334476110896659, -0.0057898799184226135, -0.0037659262869027543, -0.004431700507787184, 0.005794591525154047, 0.0020396249193312954, 0.00563480571215802, 0.018683980441693393, -0.002088175250232638, 0.018177992033822754, 0.011573511762547284, -0.010849763997215156, -0.006242606388603633, -0.003046890128342916, -0.010716609153058165, -0.008825810365690856, -0.007414369017394229, -0.01910536433631549, 0.009176724567308447, 0.017379062968736925, 0.010934368510457482, 0.019136706911891288, 0.006939723185122482, -0.008879072303384916, -0.0017419726553642434, 0.0029184468908942662, -0.0010761984344833664, 0.005208710210761858, 0.0010542790723881978, 0.0020396249193161964, 0.0124257027652801, 0.01096099947930984, 0.006407103808378167, -0.002168068156742642, -0.004218652757093544, 0.005235341179601782, -0.018785792710264815, 0.0012140648853993241, 0.014209977677284158, -0.009358429742394314, 0.00036187388263098086, 0.007925069032022947, -0.0008897816526438618, -0.015057457073283764, -0.004698010196155344, 0.010162070414225788, 0.027578724032851554, -0.011036180779060878, -0.004511593414281201, -0.01598954098250971, -0.005709987011899287, 0.00930987941147432, 0.0047027218028947715, 0.0008412313217123213, 0.004170102426145128, 0.011067523354642894, -0.0008365197149498016, -0.010397037527011044, -0.008719286490343592, -0.006908380609517373, 0.015088799648866669, -0.000729995839630071, -0.003339830785515474, -0.0022479610632366587, 0.016180669371119727, -0.0072812141732239155, 0.002146148794650138, 0.003637483049467427, 0.0015602674802686067, 0.008004961938540056, -0.00267405656462838, 0.0016934223244389202, 0.007019616091608505, -0.008586131646159068, -0.016841731985282493, 0.001826577168641208, 0.018391039784487084, -0.00142240102935709, 0.01128057110534808, -0.0031001520660183246, -0.002780580439960545, 0.001773315230957806, -0.0046713792273038734, 0.0035575901429361068, 0.0077652832190171495, 0.016127407433450536, 0.0010809100412174644, -0.0015555558735265151, -0.008239929051312878, -0.02025049599624751, 0.0015602674802668304, 0.008084854845039402, 0.009842498788198206, 0.009229986504964316, -0.0028871043152793874, -0.011302490467411275, -0.007787202581092778, 0.00012219516311429146, 0.0011608029477425674, 0.006353841870718746, -0.007041535453691239, 0.01282516729781591, -0.022487497378473442, -0.0057099870119028395, -0.001235984247506039, -0.002301223000926278, -0.00794698839412078, 0.01024196332072691, -0.01646889842157595, 0.0023591965453375607, -0.0182798043023924, 0.0035575901429609758, -0.014924302229106345, -0.004777903102658243, 0.0006814455086932014, 0.015461633212563441, 0.00038850485149488634, 0.012958322141993328, -0.009970942025644192, -0.002514270751613701, 0.01604751452694586, 0.00680656834092197, 0.005261972148447036, -0.004085497912917013, -0.023632629038407238, -0.008612762615006098, 0.010614796884427236, -0.0005435790577621447, 0.004516305021051714, 0.009123462629610835, -0.027360964675408717, -0.009092120054064345, -0.005763248949574695, 0.004782614709398558, 0.012319178889944382, 0.00542175796146438, 0.01610077646462038, 0.01106752335465, -0.004484962445441276, 0.013544203456383741, 0.0009743861658835229, -0.00557683216773075, -0.0029137352841459574, -0.0022213300944038394, 0.004969031491253162, 0.01050827300909063, -0.002354484938593693, 0.004969031491272702, -0.003313199816687984, -0.0012359842474793936, -0.0042985456635964425, -0.008532869708504087, -0.005709987011923268, 0.0057413295874981785, 0.004516305021060596, -0.0005435790577550392, 0.006593520590242541, -0.011222597560925252, -0.009065489085218204, -0.0025675326892740102, 0.0020129939504798244, -0.001528924904694584, -9.085258757668413e-05, -0.0008631506837790681, -0.004591486320785876, 0.005475019899131794, -0.011329121436248535, -0.016442267452721815, 0.010241963320757108, -0.007893726456447148, -0.014791147384900505, 0.014396394459136097, -0.015563445481157068, -0.0023811159074282884, -0.009757894274950552, 0.0035575901429547585, -0.002727318502278031, -0.015962910013683995, 0.0047559837405533045, -0.0009963055279875732, 0.008590843252933134, 0.013943667988914221, -0.0028604733464732135, 0.0057146986186467075, 0.010827844635147521, 0.019962266945805496, -0.0076540477369366755, 0.01468933511630155, -0.007654047736914471, 0.0006548145398319605, -0.0002240074317203522, -0.004431700507766756, 0.014715966085177001, -0.007494261923898904, 0.012265916952262756, -0.003765926286871668, -0.018333066240067808, -0.011435645311612674, 0.010215332351901196, 0.0015868984491040905, -0.006056189606784557, 0.0022526726699956257, -0.008133405175960284, -0.0013158771540027203, 0.0021994107323077827, 0.0064337347772207565, 0.01000228460122532, -0.007760571612253742, 0.0013738506984317667, 0.010641427853283147, 0.004249995332691547, -0.004298545663597331, -0.01710804167364799, 0.014875751898159706, -0.01883905464796687, -0.0032865688478551647, 0.004676090834073499, 0.0044630430833692, -0.005257260541696063, 0.0012140648854073177, -0.0015289249047016895, -0.004351807601291391, -0.002034913312569664, 0.013890406051243254, -0.006775225765335513, 0.004356519208031706, 0.008564212284070116, 9.556419429124219e-05, -0.0030202591594772343, 0.0052353411796124405, 0.015541526119069005, 0.03088096416847197, 0.011733297575552193, 0.017325801031061516, 0.010694689790936351, 0.010641427853264496, -0.009837787181450786, -0.003925712099904999, -0.004218652757107755, -0.022221187690099953, -0.003632771442712901, -0.02224781865892922, -0.01777381589451199, 0.005022293428926794, -0.005816510887240334, 0.0036108520806292788, -0.0023811159074291766, 0.0021461487946634605, -0.009012227147534801, -0.014365051883530988, 0.0007613384151961, -0.005177367635186947, 0.0018532081374740272, 0.01554152611903703, 0.010455011071438314, -0.015563445481162397, -0.0017419726553704606, -0.01793360170753111, -0.009464953617758454, -0.02272717609798125, 0.0040902095196626576, 0.009443034255664173, 0.018630718504036636, 0.00938977231801541, 0.005102186335418146, 0.017299170062215374, -0.015510183543483436, 0.006247317995377699, 0.011600142731361451, 0.019935635976962907, -0.014897671260249545, 0.016553502934837816, 0.00701961609162538, -0.0049376889156702575, -0.01239436018969542, -0.0008365197149773351, -0.019052102398646298, 0.0002020880696402827, -0.00014411452522455903, -0.01031714462049571, -0.008559500677328025, -0.0054170463547444925, -0.007520892892741493, -0.018839054647949105, -0.0028604733464581145, -0.011595431124626465, 0.012186024045764299, 0.009549558131021207]\n"
     ]
    }
   ],
   "source": [
    "# The difference in the means for Permutation1 (0.001103) now looks hugely different to our observed difference of 0.14206. \n",
    "# It's sure starting to look like our observed difference is significant, and that the Null is false; platform does impact on ratings\n",
    "# But to be sure, let's create 10,000 permutations, calculate the mean ratings for Google and Apple apps and the difference between these for each one, and then take the average of all of these differences.\n",
    "# Let's create a vector with the differences - that will be the distibution of the Null.\n",
    "\n",
    "# First, make a list called difference.\n",
    "difference = []\n",
    "\n",
    "# Now make a for loop that does the following 10,000 times:\n",
    "# 1. makes a permutation of the 'Rating' as you did above\n",
    "# 2. calculates the difference in the mean rating for apple and the mean rating for google. \n",
    "\n",
    "for i in range(10000):\n",
    "    df['Permutation_N'] = np.random.permutation(df['Rating'])\n",
    "    apple_perm = df.loc[df['platform']=='apple','Permutation_N']\n",
    "    google_perm = df.loc[df['platform']=='google','Permutation_N']\n",
    "    diff = np.mean(apple_perm)-np.mean(google_perm)\n",
    "    difference.append(diff)\n",
    "\n",
    "print(difference)"
   ]
  },
  {
   "cell_type": "code",
   "execution_count": 31,
   "metadata": {
    "colab": {},
    "colab_type": "code",
    "id": "VlzpYTkYFcv_"
   },
   "outputs": [
    {
     "data": {
      "image/png": "[encoded data removed]",
      "text/plain": [
       "<Figure size 432x288 with 1 Axes>"
      ]
     },
     "metadata": {
      "needs_background": "light"
     },
     "output_type": "display_data"
    }
   ],
   "source": [
    "# Make a variable called 'histo', and assign to it the result of plotting a histogram of the difference list. \n",
    "histo = plt.hist(difference)"
   ]
  },
  {
   "cell_type": "code",
   "execution_count": 32,
   "metadata": {
    "colab": {},
    "colab_type": "code",
    "id": "KhqgDFd3FcwB"
   },
   "outputs": [
    {
     "name": "stdout",
     "output_type": "stream",
     "text": [
      "0.14206054745123442\n"
     ]
    }
   ],
   "source": [
    "# Now make a variable called obs_difference, and assign it the result of the mean of our 'apple' variable and the mean of our 'google variable'\n",
    "obs_difference = np.mean(apple) - np.mean(google)\n",
    "\n",
    "# Make this difference absolute with the built-in abs() function. \n",
    "obs_difference = abs(obs_difference)\n",
    "\n",
    "# Print out this value; it should be 0.1420605474512291. \n",
    "print(obs_difference)"
   ]
  },
  {
   "cell_type": "markdown",
   "metadata": {
    "colab_type": "text",
    "id": "QUNuuSgDFcwE"
   },
   "source": [
    "## Stage 4 -  Evaluating and concluding\n",
    "### 4a. What is our conclusion?"
   ]
  },
  {
   "cell_type": "code",
   "execution_count": null,
   "metadata": {
    "colab": {},
    "colab_type": "code",
    "id": "XMQHnqx1FcwF"
   },
   "outputs": [],
   "source": [
    "\"\"\"\n",
    "What do we know? \n",
    "\n",
    "Recall: The p-value of our observed data is just the proportion of the data given the null that's at least as extreme as that observed data.\n",
    "\n",
    "As a result, we're going to count how many of the differences in our difference list are at least as extreme as our observed difference.\n",
    "\n",
    "If less than or equal to 5% of them are, then we will reject the Null. \n",
    "\n",
    "\"\"\""
   ]
  },
  {
   "cell_type": "code",
   "execution_count": 38,
   "metadata": {},
   "outputs": [
    {
     "name": "stdout",
     "output_type": "stream",
     "text": [
      "Perm_diff    0\n",
      "dtype: int64\n"
     ]
    }
   ],
   "source": [
    "diff_df = pd.DataFrame({'Perm_diff':difference})\n",
    "\n",
    "p_val = diff_df[diff_df['Perm_diff'] >= obs_difference].count()\n",
    "\n",
    "print(p_val)"
   ]
  },
  {
   "cell_type": "markdown",
   "metadata": {
    "colab_type": "text",
    "id": "4RTofY9wFcwI"
   },
   "source": [
    "### 4b. What is our decision?\n",
    "So actually, zero differences are at least as extreme as our observed difference!\n",
    "\n",
    "So the p-value of our observed data is 0. \n",
    "\n",
    "It doesn't matter which significance level we pick; our observed data is statistically significant, and we reject the Null.\n",
    "\n",
    "We conclude that platform does impact on ratings. Specifically, we should advise our client to integrate **only Google Play** into their operating system interface. "
   ]
  },
  {
   "cell_type": "markdown",
   "metadata": {
    "colab_type": "text",
    "id": "Cu_eh7fTFcwJ"
   },
   "source": [
    "### 4c. Other statistical tests, and next steps\n",
    "The test we used here is the Permutation test. This was appropriate because our data were not normally distributed! \n",
    "\n",
    "As we've seen in Professor Spiegelhalter's book, there are actually many different statistical tests, all with different assumptions. How many of these different statistical tests can you remember? How much do you remember about what the appropriate conditions are under which to use them? \n",
    "\n",
    "Make a note of your answers to these questions, and discuss them with your mentor at your next call. \n"
   ]
  }
 ],
 "metadata": {
  "colab": {
   "collapsed_sections": [
    "5fbRq2MZFcvq",
    "4RTofY9wFcwI",
    "Cu_eh7fTFcwJ"
   ],
   "name": "Springboard Apps project - Tier 3 - Complete.ipynb",
   "provenance": []
  },
  "kernelspec": {
   "display_name": "Python 3 (ipykernel)",
   "language": "python",
   "name": "python3"
  },
  "language_info": {
   "codemirror_mode": {
    "name": "ipython",
    "version": 3
   },
   "file_extension": ".py",
   "mimetype": "text/x-python",
   "name": "python",
   "nbconvert_exporter": "python",
   "pygments_lexer": "ipython3",
   "version": "3.9.7"
  }
 },
 "nbformat": 4,
 "nbformat_minor": 1
}
